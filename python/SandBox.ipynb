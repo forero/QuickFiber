{
 "metadata": {
  "name": ""
 },
 "nbformat": 3,
 "nbformat_minor": 0,
 "worksheets": [
  {
   "cells": [
    {
     "cell_type": "code",
     "collapsed": false,
     "input": [
      "%matplotlib inline\n",
      "%load_ext autoreload\n",
      "%autoreload 2"
     ],
     "language": "python",
     "metadata": {},
     "outputs": [],
     "prompt_number": 1
    },
    {
     "cell_type": "code",
     "collapsed": false,
     "input": [
      "import matplotlib.pyplot as plt\n",
      "import FiberAllocation as FA\n",
      "import numpy as np"
     ],
     "language": "python",
     "metadata": {},
     "outputs": [],
     "prompt_number": 39
    },
    {
     "cell_type": "code",
     "collapsed": false,
     "input": [
      "tiles = FA.TilingSetup(filein=\"../data/desi/plate_centers\")"
     ],
     "language": "python",
     "metadata": {},
     "outputs": [
      {
       "output_type": "stream",
       "stream": "stdout",
       "text": [
        "10666\n"
       ]
      }
     ],
     "prompt_number": 3
    },
    {
     "cell_type": "code",
     "collapsed": false,
     "input": [
      "tiles_in = np.empty((0), dtype=int)\n",
      "n_max_pass = np.amax(tiles.passnumber)\n",
      "for i in range(n_max_pass):\n",
      "    index = np.where(tiles.passnumber==(i+1))\n",
      "    index = index[0]\n",
      "    print index[:4]\n",
      "    tiles_in = np.append(tiles_in, index[:4])\n",
      "print tiles_in"
     ],
     "language": "python",
     "metadata": {},
     "outputs": [
      {
       "output_type": "stream",
       "stream": "stdout",
       "text": [
        "[0 1 2 3]\n",
        "[2139 2140 2141 2142]\n",
        "[4267 4268 4269 4270]\n",
        "[6403 6404 6405 6406]\n",
        "[8533 8534 8535 8536]\n",
        "[   0    1    2    3 2139 2140 2141 2142 4267 4268 4269 4270 6403 6404 6405\n",
        " 6406 8533 8534 8535 8536]\n"
       ]
      }
     ],
     "prompt_number": 13
    },
    {
     "cell_type": "code",
     "collapsed": false,
     "input": [
      "def load_available_galaxies(filename):\n",
      "    f=open(filename, \"r\")\n",
      "    l = f.readlines()\n",
      "    f.close()\n",
      "    d = []\n",
      "    for line in l:\n",
      "        nums = line.split()\n",
      "        a = np.empty((0), dtype='int')\n",
      "        for n in nums:\n",
      "            a = np.append(a, int(n))\n",
      "        #print a\n",
      "        d.append(a)\n",
      "    return d"
     ],
     "language": "python",
     "metadata": {},
     "outputs": [],
     "prompt_number": 14
    },
    {
     "cell_type": "code",
     "collapsed": false,
     "input": [
      "n_tiles = np.size(tiles_in)\n",
      "survey = []\n",
      "for tile_i in tiles_in:\n",
      "    print tile_i\n",
      "    filename = \"tile_%d_available_galaxies.dat\"%(tile_i)\n",
      "    tile = load_available_galaxies(filename)\n",
      "    survey.append(tile)"
     ],
     "language": "python",
     "metadata": {},
     "outputs": [
      {
       "output_type": "stream",
       "stream": "stdout",
       "text": [
        "0\n",
        "1"
       ]
      },
      {
       "output_type": "stream",
       "stream": "stdout",
       "text": [
        "\n",
        "2"
       ]
      },
      {
       "output_type": "stream",
       "stream": "stdout",
       "text": [
        "\n",
        "3"
       ]
      },
      {
       "output_type": "stream",
       "stream": "stdout",
       "text": [
        "\n",
        "2139"
       ]
      },
      {
       "output_type": "stream",
       "stream": "stdout",
       "text": [
        "\n",
        "2140"
       ]
      },
      {
       "output_type": "stream",
       "stream": "stdout",
       "text": [
        "\n",
        "2141"
       ]
      },
      {
       "output_type": "stream",
       "stream": "stdout",
       "text": [
        "\n",
        "2142"
       ]
      },
      {
       "output_type": "stream",
       "stream": "stdout",
       "text": [
        "\n",
        "4267"
       ]
      },
      {
       "output_type": "stream",
       "stream": "stdout",
       "text": [
        "\n",
        "4268"
       ]
      },
      {
       "output_type": "stream",
       "stream": "stdout",
       "text": [
        "\n",
        "4269"
       ]
      },
      {
       "output_type": "stream",
       "stream": "stdout",
       "text": [
        "\n",
        "4270"
       ]
      },
      {
       "output_type": "stream",
       "stream": "stdout",
       "text": [
        "\n",
        "6403"
       ]
      },
      {
       "output_type": "stream",
       "stream": "stdout",
       "text": [
        "\n",
        "6404"
       ]
      },
      {
       "output_type": "stream",
       "stream": "stdout",
       "text": [
        "\n",
        "6405"
       ]
      },
      {
       "output_type": "stream",
       "stream": "stdout",
       "text": [
        "\n",
        "6406"
       ]
      },
      {
       "output_type": "stream",
       "stream": "stdout",
       "text": [
        "\n",
        "8533"
       ]
      },
      {
       "output_type": "stream",
       "stream": "stdout",
       "text": [
        "\n",
        "8534"
       ]
      },
      {
       "output_type": "stream",
       "stream": "stdout",
       "text": [
        "\n",
        "8535"
       ]
      },
      {
       "output_type": "stream",
       "stream": "stdout",
       "text": [
        "\n",
        "8536"
       ]
      },
      {
       "output_type": "stream",
       "stream": "stdout",
       "text": [
        "\n"
       ]
      }
     ],
     "prompt_number": 17
    },
    {
     "cell_type": "code",
     "collapsed": false,
     "input": [
      "n_fibers = len(survey[0])\n",
      "gal_ID_list = np.empty((0), dtype='int')\n",
      "for i in range(n_tiles):\n",
      "    print i, np.size(gal_ID_list)\n",
      "    for j in range(n_fibers):\n",
      "        gal_ID_list = np.append(gal_ID_list, survey[i][j])\n",
      "        gal_ID_list = np.unique(gal_ID_list)"
     ],
     "language": "python",
     "metadata": {},
     "outputs": [
      {
       "output_type": "stream",
       "stream": "stdout",
       "text": [
        "0 0\n",
        "1"
       ]
      },
      {
       "output_type": "stream",
       "stream": "stdout",
       "text": [
        " 27827\n",
        "2"
       ]
      },
      {
       "output_type": "stream",
       "stream": "stdout",
       "text": [
        " 50687\n",
        "3"
       ]
      },
      {
       "output_type": "stream",
       "stream": "stdout",
       "text": [
        " 73765\n",
        "4"
       ]
      },
      {
       "output_type": "stream",
       "stream": "stdout",
       "text": [
        " 95125\n",
        "5"
       ]
      },
      {
       "output_type": "stream",
       "stream": "stdout",
       "text": [
        " 104733\n",
        "6"
       ]
      },
      {
       "output_type": "stream",
       "stream": "stdout",
       "text": [
        " 114719\n",
        "7"
       ]
      },
      {
       "output_type": "stream",
       "stream": "stdout",
       "text": [
        " 125135\n",
        "8"
       ]
      },
      {
       "output_type": "stream",
       "stream": "stdout",
       "text": [
        " 134074\n",
        "9"
       ]
      },
      {
       "output_type": "stream",
       "stream": "stdout",
       "text": [
        " 143764\n",
        "10"
       ]
      },
      {
       "output_type": "stream",
       "stream": "stdout",
       "text": [
        " 153184\n",
        "11"
       ]
      },
      {
       "output_type": "stream",
       "stream": "stdout",
       "text": [
        " 163117\n",
        "12"
       ]
      },
      {
       "output_type": "stream",
       "stream": "stdout",
       "text": [
        " 171280\n",
        "13"
       ]
      },
      {
       "output_type": "stream",
       "stream": "stdout",
       "text": [
        " 194784\n",
        "14"
       ]
      },
      {
       "output_type": "stream",
       "stream": "stdout",
       "text": [
        " 204391\n",
        "15"
       ]
      },
      {
       "output_type": "stream",
       "stream": "stdout",
       "text": [
        " 214351\n",
        "16"
       ]
      },
      {
       "output_type": "stream",
       "stream": "stdout",
       "text": [
        " 224473\n",
        "17"
       ]
      },
      {
       "output_type": "stream",
       "stream": "stdout",
       "text": [
        " 234262\n",
        "18"
       ]
      },
      {
       "output_type": "stream",
       "stream": "stdout",
       "text": [
        " 243717\n",
        "19"
       ]
      },
      {
       "output_type": "stream",
       "stream": "stdout",
       "text": [
        " 253948\n"
       ]
      }
     ],
     "prompt_number": 18
    },
    {
     "cell_type": "code",
     "collapsed": false,
     "input": [
      "#now I generate new IDs for the galaxies. I do it because I need something going from 0 up to the number of galaxies-1.\n",
      "#this is to avoid the IDs on the order of millions when I am actually using 10 times less galaxies.\n",
      "\n",
      "max_ID = np.amax(gal_ID_list)\n",
      "fake_gal_ID = np.zeros(max_ID+1,dtype='int') - 1\n",
      "\n",
      "n_gals_reduced = np.size(gal_ID_list)\n",
      "my_range = np.arange(np.size(gal_ID_list))\n",
      "fake_gal_ID[gal_ID_list] = my_range # fake ID is the position of the corresponding index in gal_ID_list"
     ],
     "language": "python",
     "metadata": {},
     "outputs": [],
     "prompt_number": 19
    },
    {
     "cell_type": "code",
     "collapsed": false,
     "input": [
      "#this makes that all the indexes in the list of available galaxies go from 0 to np.size(gal_ID_list)\n",
      "for i in range(n_tiles):\n",
      "    for j in range(n_fibers):\n",
      "        survey[i][j][3:] = fake_gal_ID[survey[i][j][3:]]"
     ],
     "language": "python",
     "metadata": {},
     "outputs": [],
     "prompt_number": 20
    },
    {
     "cell_type": "code",
     "collapsed": false,
     "input": [
      "#assign galaxy tipes\n",
      "n_galaxy_types = 6\n",
      "QSO_I = 0; QSO_II=1; BAD_QSO=2; LRG=3; BAD_LRG=4; ELG=5\n",
      "galaxy_types = np.int_(np.random.random(n_gals_reduced)*5)\n",
      "\n",
      "#assign the maximum number of observations per galaxy type\n",
      "max_obs_per_gal_type = np.arange(n_galaxy_types) \n",
      "max_obs_per_gal_type[QSO_I]=1\n",
      "max_obs_per_gal_type[QSO_II]=5\n",
      "max_obs_per_gal_type[BAD_QSO]=1\n",
      "max_obs_per_gal_type[LRG]=2\n",
      "max_obs_per_gal_type[BAD_LRG]=1\n",
      "max_obs_per_gal_type[ELG]=1\n",
      "\n",
      "#assign the priorities for each galaxy type\n",
      "prior_gal_type = np.arange(n_galaxy_types) \n",
      "prior_gal_type[QSO_I]=2\n",
      "max_obs_per_gal_type[QSO_II]=2\n",
      "max_obs_per_gal_type[BAD_QSO]=5\n",
      "max_obs_per_gal_type[LRG]=3\n",
      "max_obs_per_gal_type[BAD_LRG]=5\n",
      "max_obs_per_gal_type[ELG]=4\n",
      "\n",
      "#number of free fibers that must be kept for each allocation\n",
      "free_fibers = 0\n",
      "\n",
      "print galaxy_types\n",
      "print max_obs_per_gal_type"
     ],
     "language": "python",
     "metadata": {},
     "outputs": [
      {
       "output_type": "stream",
       "stream": "stdout",
       "text": [
        "[4 0 2 ..., 3 2 0]\n",
        "[1 2 5 3 5 4]\n"
       ]
      }
     ],
     "prompt_number": 134
    },
    {
     "cell_type": "code",
     "collapsed": false,
     "input": [
      "#this is the real allocation and now I start to do some bookkeeping\n",
      "n_times_observed = np.zeros(n_gals_reduced)\n",
      "survey_observed = [] # this keeps track of the IDs of the observed galaxies\n",
      "for i_tile in range(n_tiles*5/5):\n",
      "    tile_observed = []\n",
      "    observed_in_this_tile = np.zeros(n_gals_reduced) #bookeeping\n",
      "    \n",
      "    fiber_list = np.arange(n_fibers) \n",
      "    np.random.shuffle(fiber_list) # randomize the selection of fibers\n",
      "    \n",
      "    allocated_fibers_in_tile = 0 #counter to verify that I have enough free fibers\n",
      "    for i_fiber in fiber_list:\n",
      "        assigned_fiber = 0 \n",
      "        chosen_item = -1 \n",
      "        \n",
      "        n_available  = survey[i_tile][i_fiber][2]\n",
      "        if((n_available>0) & (allocated_fibers_in_tile < (n_fibers - free_fibers))): \n",
      "            list_available = survey[i_tile][i_fiber][3:]\n",
      "            list_gal_types = galaxy_types[list_available]\n",
      "            \n",
      "            #sort by galaxy type, this sorting goes by priority as well\n",
      "            sorted_id = np.argsort(list_gal_types)\n",
      "            list_available = list_available[sorted_id]\n",
      "            \n",
      "            \n",
      "            for item in list_available:# loop over the randomized list of available galaxies\n",
      "                gal_type = galaxy_types[item]\n",
      "                if((assigned_fiber==0) & \n",
      "                   (observed_in_this_tile[item]==0) & \n",
      "                   (n_times_observed[item] < max_obs_per_gal_type[gal_type])): \n",
      "                    # give the galaxy to the fiber if:\n",
      "                    # - nothing is in this fiber yet\n",
      "                    # - it has not been observed before in the tile\n",
      "                    # - it has been observed less times than it is allowed\n",
      "                    assigned_fiber = 1\n",
      "                    observed_in_this_tile[item] = 1\n",
      "                    \n",
      "                    n_times_observed[item] = n_times_observed[item] + 1\n",
      "                    allocated_fibers_in_tile = allocated_fibers_in_tile + 1  \n",
      "                    chosen_item = item\n",
      "\n",
      "        tile_observed.append(chosen_item)\n",
      "                    \n",
      "    survey_observed.append(tile_observed)"
     ],
     "language": "python",
     "metadata": {},
     "outputs": [],
     "prompt_number": 149
    },
    {
     "cell_type": "code",
     "collapsed": false,
     "input": [
      "for i in range(n_tiles*5/5):\n",
      "#    print survey_observed[i]\n",
      "    observed = np.where(np.array(survey_observed[i])!=-1)\n",
      "    observed = observed[0]\n",
      "    print np.size(observed)\n",
      "    plt.scatter(i, np.size(observed)/5000.0)"
     ],
     "language": "python",
     "metadata": {},
     "outputs": [
      {
       "output_type": "stream",
       "stream": "stdout",
       "text": [
        "4952\n",
        "4956"
       ]
      },
      {
       "output_type": "stream",
       "stream": "stdout",
       "text": [
        "\n",
        "4960\n",
        "4950\n",
        "4954\n",
        "4944\n",
        "4936\n",
        "4934\n",
        "4911\n",
        "4930\n",
        "4930\n",
        "4918"
       ]
      },
      {
       "output_type": "stream",
       "stream": "stdout",
       "text": [
        "\n",
        "4966\n",
        "4934\n",
        "4910\n",
        "4934\n",
        "4930\n",
        "4936\n",
        "4930\n",
        "4940\n"
       ]
      },
      {
       "metadata": {},
       "output_type": "display_data",
       "png": "[encoded data removed]",
       "text": [
        "<matplotlib.figure.Figure at 0x10ca33310>"
       ]
      }
     ],
     "prompt_number": 150
    },
    {
     "cell_type": "code",
     "collapsed": false,
     "input": [
      "a = plt.hist(n_times_observed, bins=np.linspace(0,10,25))\n",
      "print a[0][a[0]>0]"
     ],
     "language": "python",
     "metadata": {},
     "outputs": [
      {
       "output_type": "stream",
       "stream": "stdout",
       "text": [
        "[  1.75950000e+05   7.66640000e+04   1.05550000e+04   3.23000000e+02\n",
        "   3.00000000e+00]\n"
       ]
      },
      {
       "metadata": {},
       "output_type": "display_data",
       "png": "[encoded data removed]",
       "text": [
        "<matplotlib.figure.Figure at 0x10c2e3850>"
       ]
      }
     ],
     "prompt_number": 151
    }
   ],
   "metadata": {}
  }
 ]
}