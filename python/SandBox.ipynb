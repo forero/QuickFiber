{
 "metadata": {
  "name": ""
 },
 "nbformat": 3,
 "nbformat_minor": 0,
 "worksheets": [
  {
   "cells": [
    {
     "cell_type": "code",
     "collapsed": false,
     "input": [
      "%matplotlib inline\n",
      "%load_ext autoreload\n",
      "%autoreload 2"
     ],
     "language": "python",
     "metadata": {},
     "outputs": [],
     "prompt_number": 1
    },
    {
     "cell_type": "code",
     "collapsed": false,
     "input": [
      "import matplotlib.pyplot as plt\n",
      "import FiberAllocation as FA\n",
      "import numpy as np"
     ],
     "language": "python",
     "metadata": {},
     "outputs": [],
     "prompt_number": 2
    },
    {
     "cell_type": "code",
     "collapsed": false,
     "input": [
      "tiles = FA.TilingSetup(filein=\"../data/desi/plate_centers\")"
     ],
     "language": "python",
     "metadata": {},
     "outputs": [
      {
       "output_type": "stream",
       "stream": "stdout",
       "text": [
        "10666\n"
       ]
      }
     ],
     "prompt_number": 3
    },
    {
     "cell_type": "code",
     "collapsed": false,
     "input": [
      "objects = FA.ObjectCatalog(filein=\"../data/desi/objects0.rdzipn\")"
     ],
     "language": "python",
     "metadata": {},
     "outputs": [
      {
       "output_type": "stream",
       "stream": "stdout",
       "text": [
        "47685037\n"
       ]
      }
     ],
     "prompt_number": 4
    },
    {
     "cell_type": "code",
     "collapsed": false,
     "input": [
      "fibers = FA.FiberSetup(filein=\"../data/desi/fiberpos.txt\")"
     ],
     "language": "python",
     "metadata": {},
     "outputs": [],
     "prompt_number": 5
    },
    {
     "cell_type": "code",
     "collapsed": false,
     "input": [
      "#Here I find the first_n_tiles covered by all the 5 passes\n",
      "first_n_tiles = 5\n",
      "n_max_pass = np.amax(tiles.passnumber)\n",
      "\n",
      "tiles_in = np.empty((0), dtype=int)\n",
      "\n",
      "for i in range(first_n_tiles):\n",
      "    index = np.where(tiles.passnumber==(i+1))\n",
      "    index = index[0]\n",
      "    print index[:first_n_tiles]\n",
      "    tiles_in = np.append(tiles_in, index[:first_n_tiles])\n",
      "\n",
      "print tiles_in"
     ],
     "language": "python",
     "metadata": {},
     "outputs": [
      {
       "output_type": "stream",
       "stream": "stdout",
       "text": [
        "[0 1 2 3 4]\n",
        "[2139 2140 2141 2142 2143]\n",
        "[4267 4268 4269 4270 4271]\n",
        "[6403 6404 6405 6406 6407]\n",
        "[8533 8534 8535 8536 8537]\n",
        "[   0    1    2    3    4 2139 2140 2141 2142 2143 4267 4268 4269 4270 4271\n",
        " 6403 6404 6405 6406 6407 8533 8534 8535 8536 8537]\n"
       ]
      }
     ],
     "prompt_number": 6
    },
    {
     "cell_type": "code",
     "collapsed": false,
     "input": [
      "def load_available_galaxies(filename):\n",
      "    f=open(filename, \"r\")\n",
      "    l = f.readlines()\n",
      "    f.close()\n",
      "    d = []\n",
      "    for line in l:\n",
      "        nums = line.split()\n",
      "        a = np.empty((0), dtype='int')\n",
      "        for n in nums:\n",
      "            a = np.append(a, int(n))\n",
      "        #print a\n",
      "        d.append(a)\n",
      "    return d"
     ],
     "language": "python",
     "metadata": {},
     "outputs": [],
     "prompt_number": 7
    },
    {
     "cell_type": "code",
     "collapsed": false,
     "input": [
      "load_all = 0\n",
      "survey = []\n",
      "if(load_all==1):\n",
      "    n_max_tiles = 10666\n",
      "    for tile_i in range(n_max_tiles):\n",
      "        print tile_i\n",
      "        filename = \"tile_%d_available_galaxies.dat\"%(tile_i)\n",
      "        tile = load_available_galaxies(filename)\n",
      "        survey.append(tile)\n",
      "else:\n",
      "    n_tiles = np.size(tiles_in)\n",
      "    for tile_i in tiles_in:\n",
      "        print tile_i\n",
      "        filename = \"tile_%d_available_galaxies.dat\"%(tile_i)\n",
      "        tile = load_available_galaxies(filename)\n",
      "        survey.append(tile)"
     ],
     "language": "python",
     "metadata": {},
     "outputs": [
      {
       "output_type": "stream",
       "stream": "stdout",
       "text": [
        "0\n",
        "1"
       ]
      },
      {
       "output_type": "stream",
       "stream": "stdout",
       "text": [
        "\n",
        "2"
       ]
      },
      {
       "output_type": "stream",
       "stream": "stdout",
       "text": [
        "\n",
        "3"
       ]
      },
      {
       "output_type": "stream",
       "stream": "stdout",
       "text": [
        "\n",
        "4"
       ]
      },
      {
       "output_type": "stream",
       "stream": "stdout",
       "text": [
        "\n",
        "2139"
       ]
      },
      {
       "output_type": "stream",
       "stream": "stdout",
       "text": [
        "\n",
        "2140"
       ]
      },
      {
       "output_type": "stream",
       "stream": "stdout",
       "text": [
        "\n",
        "2141"
       ]
      },
      {
       "output_type": "stream",
       "stream": "stdout",
       "text": [
        "\n",
        "2142"
       ]
      },
      {
       "output_type": "stream",
       "stream": "stdout",
       "text": [
        "\n",
        "2143"
       ]
      },
      {
       "output_type": "stream",
       "stream": "stdout",
       "text": [
        "\n",
        "4267"
       ]
      },
      {
       "output_type": "stream",
       "stream": "stdout",
       "text": [
        "\n",
        "4268"
       ]
      },
      {
       "output_type": "stream",
       "stream": "stdout",
       "text": [
        "\n",
        "4269"
       ]
      },
      {
       "output_type": "stream",
       "stream": "stdout",
       "text": [
        "\n",
        "4270"
       ]
      },
      {
       "output_type": "stream",
       "stream": "stdout",
       "text": [
        "\n",
        "4271"
       ]
      },
      {
       "output_type": "stream",
       "stream": "stdout",
       "text": [
        "\n",
        "6403"
       ]
      },
      {
       "output_type": "stream",
       "stream": "stdout",
       "text": [
        "\n",
        "6404"
       ]
      },
      {
       "output_type": "stream",
       "stream": "stdout",
       "text": [
        "\n",
        "6405"
       ]
      },
      {
       "output_type": "stream",
       "stream": "stdout",
       "text": [
        "\n",
        "6406"
       ]
      },
      {
       "output_type": "stream",
       "stream": "stdout",
       "text": [
        "\n",
        "6407"
       ]
      },
      {
       "output_type": "stream",
       "stream": "stdout",
       "text": [
        "\n",
        "8533"
       ]
      },
      {
       "output_type": "stream",
       "stream": "stdout",
       "text": [
        "\n",
        "8534"
       ]
      },
      {
       "output_type": "stream",
       "stream": "stdout",
       "text": [
        "\n",
        "8535"
       ]
      },
      {
       "output_type": "stream",
       "stream": "stdout",
       "text": [
        "\n",
        "8536"
       ]
      },
      {
       "output_type": "stream",
       "stream": "stdout",
       "text": [
        "\n",
        "8537"
       ]
      },
      {
       "output_type": "stream",
       "stream": "stdout",
       "text": [
        "\n"
       ]
      }
     ],
     "prompt_number": 8
    },
    {
     "cell_type": "code",
     "collapsed": false,
     "input": [
      "all_galaxies = 1\n",
      "\n",
      "if(all_galaxies==1):\n",
      "    n_fibers = len(survey[0])\n",
      "    gal_ID_list = objects.ID[:]\n",
      "else:\n",
      "    n_fibers = len(survey[0])\n",
      "    gal_ID_list = np.empty((0), dtype='int')\n",
      "    for i in range(n_tiles):\n",
      "        print i, np.size(gal_ID_list)\n",
      "        for j in range(n_fibers):\n",
      "            gal_ID_list = np.append(gal_ID_list, survey[i][j])\n",
      "            gal_ID_list = np.unique(gal_ID_list)"
     ],
     "language": "python",
     "metadata": {},
     "outputs": [],
     "prompt_number": 9
    },
    {
     "cell_type": "code",
     "collapsed": false,
     "input": [
      "#now I generate new IDs for the galaxies. I do it because I need something going from 0 up to the number of galaxies-1.\n",
      "#this is to avoid the IDs on the order of millions when I am actually using 10 times less galaxies.\n",
      "\n",
      "max_ID = np.amax(gal_ID_list)\n",
      "fake_gal_ID = np.zeros(max_ID+1,dtype='int') - 1\n",
      "\n",
      "n_gals_reduced = np.size(gal_ID_list)\n",
      "my_range = np.arange(np.size(gal_ID_list))\n",
      "fake_gal_ID[gal_ID_list] = my_range # fake ID is the position of the corresponding index in gal_ID_list"
     ],
     "language": "python",
     "metadata": {},
     "outputs": [],
     "prompt_number": 10
    },
    {
     "cell_type": "code",
     "collapsed": false,
     "input": [
      "#this makes that all the indexes in the list of available galaxies go from 0 to np.size(gal_ID_list)\n",
      "for i in range(n_tiles):\n",
      "    for j in range(n_fibers):\n",
      "        survey[i][j][3:] = fake_gal_ID[survey[i][j][3:]]"
     ],
     "language": "python",
     "metadata": {},
     "outputs": [],
     "prompt_number": 11
    },
    {
     "cell_type": "code",
     "collapsed": false,
     "input": [
      "print gal_ID_list, np.size(gal_ID_list)"
     ],
     "language": "python",
     "metadata": {},
     "outputs": [
      {
       "output_type": "stream",
       "stream": "stdout",
       "text": [
        "[       0        1        2 ..., 47685034 47685035 47685036] 47685037\n"
       ]
      }
     ],
     "prompt_number": 12
    },
    {
     "cell_type": "code",
     "collapsed": false,
     "input": [
      "#Get the galaxy type (tag), maximum number of observations and its priority\n",
      "n_galaxy_types = 6\n",
      "QSO_I = 1; QSO_II=2; LRG=3; ELG=4; BAD_QSO=5; BAD_LRG=6\n",
      "\n",
      "object_type = objects.tag[gal_ID_list]\n",
      "object_max_obs = objects.maxnumobs[gal_ID_list]\n",
      "object_priority = objects.priority[gal_ID_list]\n",
      "object_ra = objects.ra[gal_ID_list]\n",
      "object_dec = objects.dec[gal_ID_list]\n",
      "object_redshift = objects.zz[gal_ID_list]\n",
      "\n",
      "#plt.plot(object_type)\n",
      "#plt.plot(object_max_obs)\n",
      "#plt.plot(object_priority)"
     ],
     "language": "python",
     "metadata": {},
     "outputs": [],
     "prompt_number": 13
    },
    {
     "cell_type": "code",
     "collapsed": false,
     "input": [
      "def get_line_intersection(p0_x, p0_y, p1_x, p1_y, p2_x, p2_y, p3_x, p3_y):\n",
      "    s1_x = p1_x - p0_x; s1_y = p1_y - p0_y\n",
      "    s2_x = p3_x - p2_x; s2_y = p3_y - p2_y\n",
      "    \n",
      "    s = (-s1_y * (p0_x - p2_x) + s1_x * (p0_y - p2_y)) / (-s2_x * s1_y + s1_x * s2_y)\n",
      "    t = (s2_y * (p0_y - p2_y) - s2_y * (p0_x - p2_x)) / (-s2_x * s1_y + s1_x * s2_y)\n",
      "    if((s>=0) & (s<=1) &  (t>=0) & (t<=1)):\n",
      "        collision = 1\n",
      "    else:\n",
      "        collision = 0\n",
      "    return collision, s, t"
     ],
     "language": "python",
     "metadata": {},
     "outputs": [],
     "prompt_number": 14
    },
    {
     "cell_type": "code",
     "collapsed": false,
     "input": [
      "def check_for_collisions(fiber_ids, objects_ids, tile_id, all_fibers, all_objects, all_tiles):\n",
      "    n_collisions = 0\n",
      "    n_fibers = np.size(fiber_ids)\n",
      "    ra_tile = all_tiles.ra[tile_id]\n",
      "    dec_tile = all_tiles.dec[tile_id]\n",
      "    for i in range(n_fibers): #loop over all the fibers\n",
      "        if(objects_ids[i]!=-1): # check collisions if there is an allocated objects\n",
      "            object_i_id = objects_ids[i]\n",
      "            object_i_x, object_i_y = FA.radec2xy(all_objects.ra[object_i_id], all_objects.dec[object_i_id], ra_tile, dec_tile)\n",
      "            \n",
      "            fiber_i_x = all_fibers.x[fiber_ids[i]]\n",
      "            fiber_i_y = all_fibers.y[fiber_ids[i]]\n",
      "            for j in range(n_fibers):# loop over all the other fibers\n",
      "                if((i!=j) & (objects_ids[j]!=-1)):\n",
      "                    object_j_id = objects_ids[j]\n",
      "                    object_j_x, object_j_y = FA.radec2xy(all_objects.ra[object_j_id], all_objects.dec[object_j_id], ra_tile, dec_tile)\n",
      "                    fiber_j_x = all_fibers.x[fiber_ids[j]]\n",
      "                    fiber_j_y = all_fibers.y[fiber_ids[j]]\n",
      "                    collide,s,t = get_line_intersection(fiber_i_x, fiber_i_y, object_i_x, object_i_y, \n",
      "                                                    fiber_j_x, fiber_j_y, object_j_x, object_j_y)\n",
      "                    if(collide==1):\n",
      "                       print \"collision!\", s, t, i, j\n",
      "                       # print \"tile ra dec\", ra_tile, dec_tile\n",
      "                       # print \"fiber i\", fiber_i_x, fiber_i_y\n",
      "                       # print \"fiber j\", fiber_j_x, fiber_j_y\n",
      "                        \n",
      "                       # print \"i object ra dec\", all_objects.ra[object_i_id], all_objects.dec[object_i_id]\n",
      "                       # print \"j object ra dec\", all_objects.ra[object_j_id], all_objects.dec[object_j_id]\n",
      "                        \n",
      "                       # print \"i objects x y\", object_i_x, object_i_y\n",
      "                       # print \"j objects x y \", object_j_x, object_j_y\n",
      "                       # print \" \"\n",
      "                       n_collisions = n_collisions + 1\n",
      "                       print n_collisions\n",
      "            \n",
      "    return n_collisions"
     ],
     "language": "python",
     "metadata": {},
     "outputs": [],
     "prompt_number": 15
    },
    {
     "cell_type": "code",
     "collapsed": false,
     "input": [
      "#this is the real allocation and now I start to do some bookkeeping\n",
      "n_times_observed = np.zeros(n_gals_reduced)\n",
      "survey_observed = [] # this keeps track of the IDs of the observed galaxies\n",
      "free_fibers  = 500\n",
      "\n",
      "if(load_all==1):\n",
      "    n_tiles = n_max_tiles\n",
      "else:\n",
      "    n_tiles = np.size(tiles_in)\n",
      "\n",
      "for i_tile in range(1):\n",
      "    print i_tile\n",
      "    tile_observed = [] # keeps track of the IDs observed in a tile\n",
      "    observed_in_this_tile = np.zeros(n_gals_reduced) #bookeeping\n",
      "    \n",
      "    fiber_list = np.arange(n_fibers) \n",
      "    np.random.shuffle(fiber_list) # randomize the selection of fibers\n",
      "    \n",
      "    allocated_fibers_in_tile = 0 #counter to verify that I have enough free fibers\n",
      "    for i_fiber in fiber_list: #loop over each fiber\n",
      "        assigned_fiber = 0 \n",
      "        chosen_item = -1 \n",
      "        \n",
      "        n_available  = survey[i_tile][i_fiber][2]\n",
      "        if((n_available>0) & (allocated_fibers_in_tile < (n_fibers - free_fibers))): \n",
      "            list_available = survey[i_tile][i_fiber][3:]\n",
      "            list_object_type = object_type[list_available]\n",
      "            list_object_priority = object_priority[list_available]\n",
      "            list_object_max_obs = object_max_obs[list_available]\n",
      "            \n",
      "            #sort by galaxy type, this sorting goes by priority as well\n",
      "            sorted_id = np.argsort(list_object_priority)\n",
      "            list_available = list_available[sorted_id]\n",
      "\n",
      "            \n",
      "            for item in list_available:# loop over the randomized list of available galaxies\n",
      "                gal_type = object_type[item]\n",
      "                if((assigned_fiber==0) & \n",
      "                   (observed_in_this_tile[item]==0) & \n",
      "                   (n_times_observed[item] < object_max_obs[item])): \n",
      "                    # give the galaxy to the fiber if:\n",
      "                    # - nothing is in this fiber yet\n",
      "                    # - it has not been observed before in the tile\n",
      "                    # - it has been observed less times than it is allowed\n",
      "                    assigned_fiber = 1\n",
      "                    observed_in_this_tile[item] = 1\n",
      "                    \n",
      "                    n_times_observed[item] = n_times_observed[item] + 1\n",
      "                    allocated_fibers_in_tile = allocated_fibers_in_tile + 1  \n",
      "                    chosen_item = item\n",
      "\n",
      "        tile_observed.append(chosen_item) # here the ID corresponds to the new ID\n",
      "    \n",
      "    #here I have the IDs for the fibers and the IDs for the galaxies, we check for collisions.\n",
      "    #print tile_observed\n",
      "    galaxy_list = np.array(tile_observed)\n",
      "    print type(fiber_list), type(galaxy_list)\n",
      "    \n",
      "    n_collisions = check_for_collisions(fiber_list, galaxy_list, tiles_in[i_tile], fibers, objects, tiles)\n",
      "    print  \"n_collisions\", n_collisions\n",
      "    survey_observed.append(tile_observed)"
     ],
     "language": "python",
     "metadata": {},
     "outputs": [
      {
       "output_type": "stream",
       "stream": "stdout",
       "text": [
        "0\n",
        "<type 'numpy.ndarray'>"
       ]
      },
      {
       "output_type": "stream",
       "stream": "stdout",
       "text": [
        " <type 'numpy.ndarray'>\n",
        "collision!"
       ]
      },
      {
       "output_type": "stream",
       "stream": "stdout",
       "text": [
        " 0.272286740235 0.896219806519 16 175\n",
        "1\n",
        "collision!"
       ]
      },
      {
       "output_type": "stream",
       "stream": "stdout",
       "text": [
        " 0.621874321305 0.203216619439 17 209\n",
        "2\n",
        "collision! 0.265466569731 0.07183016072 17 271\n",
        "3\n",
        "collision! 0.201762556248 0.0141964687387 17 569\n",
        "4\n",
        "collision! 0.30671293464 0.926569953528 17 735\n",
        "5\n",
        "collision!"
       ]
      },
      {
       "output_type": "stream",
       "stream": "stdout",
       "text": [
        " 0.655903916203 0.592738643285 17 2165\n",
        "6\n",
        "collision! 0.454971737594 0.459236097929 17 2750\n",
        "7\n",
        "collision! 0.0734079524896 0.166315651729 17 2825\n",
        "8\n",
        "collision! 0.398624293809 0.1306568074 17 2985\n",
        "9\n",
        "collision!"
       ]
      },
      {
       "output_type": "stream",
       "stream": "stdout",
       "text": [
        " 0.966862670747 0.469474708795 17 3774\n",
        "10\n",
        "collision! 0.406368838856 0.790858490699 17 4389\n",
        "11\n",
        "collision!"
       ]
      },
      {
       "output_type": "stream",
       "stream": "stdout",
       "text": [
        " 0.0830644243669 0.982215381263 22 4093\n",
        "12\n",
        "collision!"
       ]
      },
      {
       "output_type": "stream",
       "stream": "stdout",
       "text": [
        " 0.696812996208 0.768572818115 23 2903\n",
        "13\n",
        "collision!"
       ]
      },
      {
       "output_type": "stream",
       "stream": "stdout",
       "text": [
        " 0.163222596239 0.980099945728 26 1222\n",
        "14\n",
        "collision! 0.239377234791 0.746661170311 26 1315\n",
        "15\n",
        "collision!"
       ]
      },
      {
       "output_type": "stream",
       "stream": "stdout",
       "text": [
        " 0.311832327708 0.471449156999 40 776\n",
        "16\n",
        "collision!"
       ]
      },
      {
       "output_type": "stream",
       "stream": "stdout",
       "text": [
        " 0.870385022785 0.0150546607609 41 131\n",
        "17\n",
        "collision! 0.912384441195 0.0259624637351 41 263\n",
        "18\n",
        "collision! 0.902568331692 0.396311255867 41 695\n",
        "19\n",
        "collision!"
       ]
      },
      {
       "output_type": "stream",
       "stream": "stdout",
       "text": [
        " 0.439348036185 0.757052250565 41 1628\n",
        "20\n",
        "collision!"
       ]
      },
      {
       "output_type": "stream",
       "stream": "stdout",
       "text": [
        " 0.207073625763 0.28751731662 41 4134\n",
        "21\n",
        "collision!"
       ]
      },
      {
       "output_type": "stream",
       "stream": "stdout",
       "text": [
        " 0.43147045736 0.728748236587 43 876\n",
        "22\n",
        "collision!"
       ]
      },
      {
       "output_type": "stream",
       "stream": "stdout",
       "text": [
        " 0.523189552487 0.232534267821 44 129\n",
        "23\n",
        "collision! 0.487776565041 0.67417892761 44 278\n",
        "24\n",
        "collision!"
       ]
      },
      {
       "output_type": "stream",
       "stream": "stdout",
       "text": [
        " 0.139815126883 0.7424091286 44 3931\n",
        "25\n",
        "collision!"
       ]
      },
      {
       "output_type": "stream",
       "stream": "stdout",
       "text": [
        " 0.815837520526 0.0357558096321 66 3504\n",
        "26\n",
        "collision!"
       ]
      },
      {
       "output_type": "stream",
       "stream": "stdout",
       "text": [
        " 0.373351509529 0.776710178787 69 1520\n",
        "27\n",
        "collision!"
       ]
      },
      {
       "output_type": "stream",
       "stream": "stdout",
       "text": [
        " 0.579655512191 0.351312662798 69 2788\n",
        "28\n",
        "collision!"
       ]
      },
      {
       "output_type": "stream",
       "stream": "stdout",
       "text": [
        " 0.972855863809 0.266131839767 86 2664\n",
        "29\n",
        "collision!"
       ]
      },
      {
       "output_type": "stream",
       "stream": "stdout",
       "text": [
        " 0.398291992253 0.643457565957 86 4229\n",
        "30\n",
        "collision! 0.489172061266 0.583246179917 87 57\n",
        "31\n",
        "collision!"
       ]
      },
      {
       "output_type": "stream",
       "stream": "stdout",
       "text": [
        " 0.886415384502 0.428379153601 88 54\n",
        "32\n",
        "collision!"
       ]
      },
      {
       "output_type": "stream",
       "stream": "stdout",
       "text": [
        " 0.334969848373 0.625588667052 88 1993\n",
        "33\n",
        "collision! 0.464964383893 0.139440377966 88 2421\n",
        "34\n",
        "collision! 0.684797070625 0.0307024080465 88 2597\n",
        "35\n",
        "collision!"
       ]
      },
      {
       "output_type": "stream",
       "stream": "stdout",
       "text": [
        " 0.301879343638 0.0831727392322 88 3033\n",
        "36\n",
        "collision! 0.7167504419 0.587893593357 88 3329\n",
        "37\n",
        "collision! 0.036424543115 0.132691127746 88 3354\n",
        "38\n",
        "collision!"
       ]
      },
      {
       "output_type": "stream",
       "stream": "stdout",
       "text": [
        " 0.0393294300889 0.177140230263 94 1717\n",
        "39\n",
        "collision!"
       ]
      },
      {
       "output_type": "stream",
       "stream": "stdout",
       "text": [
        " 0.0830006973565 0.347591910004 94 3399\n",
        "40\n",
        "collision!"
       ]
      },
      {
       "output_type": "stream",
       "stream": "stdout",
       "text": [
        " 0.545767269471 0.995660718934 101 10\n",
        "41\n",
        "collision!"
       ]
      },
      {
       "output_type": "stream",
       "stream": "stdout",
       "text": [
        " 0.303954476191 0.287987120751 104 231\n",
        "42\n",
        "collision! 0.0480875456003 0.364562555357 104 569\n",
        "43\n",
        "collision!"
       ]
      },
      {
       "output_type": "stream",
       "stream": "stdout",
       "text": [
        " 0.0285409507873 0.685725710662 104 1909\n",
        "44\n",
        "collision!"
       ]
      },
      {
       "output_type": "stream",
       "stream": "stdout",
       "text": [
        " 0.122494924045 0.656059440157 111 4334\n",
        "45\n",
        "collision!"
       ]
      },
      {
       "output_type": "stream",
       "stream": "stdout",
       "text": [
        " 0.472240354795 0.453407969014 113 36\n",
        "46\n",
        "collision! 0.617977450679 0.00281739308245 113 125\n",
        "47\n",
        "collision!"
       ]
      },
      {
       "output_type": "stream",
       "stream": "stdout",
       "text": [
        " 0.890125733962 0.0603610664901 113 1983\n",
        "48\n",
        "collision! 0.515005569602 0.759844520844 113 2746\n",
        "49\n",
        "collision!"
       ]
      },
      {
       "output_type": "stream",
       "stream": "stdout",
       "text": [
        " 0.886089164232 0.978937779276 113 3358\n",
        "50\n",
        "collision! 0.922802958426 0.62605920928 113 3645\n",
        "51\n",
        "collision! 0.414182828695 0.318693097628 113 3808\n",
        "52\n",
        "collision!"
       ]
      },
      {
       "output_type": "stream",
       "stream": "stdout",
       "text": [
        " 0.145785103471 0.386153671237 113 4529\n",
        "53\n",
        "collision!"
       ]
      },
      {
       "output_type": "stream",
       "stream": "stdout",
       "text": [
        " 0.732823360411 0.205610478782 137 922\n",
        "54\n",
        "collision!"
       ]
      },
      {
       "output_type": "stream",
       "stream": "stdout",
       "text": [
        " 0.349289305825 0.332469187375 137 4418\n",
        "55\n",
        "collision!"
       ]
      },
      {
       "output_type": "stream",
       "stream": "stdout",
       "text": [
        " 0.136548852868 0.219877678273 140 3745\n",
        "56\n",
        "collision!"
       ]
      },
      {
       "output_type": "stream",
       "stream": "stdout",
       "text": [
        " 0.657281109396 0.88672642032 142 972\n",
        "57\n",
        "collision!"
       ]
      },
      {
       "output_type": "stream",
       "stream": "stdout",
       "text": [
        " 0.185909044242 0.4798378265 148 540\n",
        "58\n",
        "collision!"
       ]
      },
      {
       "output_type": "stream",
       "stream": "stdout",
       "text": [
        " 0.0927560230187 0.0775449418843 148 1786\n",
        "59\n",
        "collision!"
       ]
      },
      {
       "output_type": "stream",
       "stream": "stdout",
       "text": [
        " 0.95531257449 0.948119792548 152 3344\n",
        "60\n",
        "collision!"
       ]
      },
      {
       "output_type": "stream",
       "stream": "stdout",
       "text": [
        " 0.947621160455 0.748977719752 158 152\n",
        "61\n",
        "collision! 0.849221258577 0.8611145544 158 438\n",
        "62\n",
        "collision! 0.969209745015 0.114584679749 158 648\n",
        "63\n",
        "collision! 0.812664441256 0.280024440899 158 711\n",
        "64\n",
        "collision!"
       ]
      },
      {
       "output_type": "stream",
       "stream": "stdout",
       "text": [
        " 0.798271815992 0.575507051189 158 1759\n",
        "65\n",
        "collision!"
       ]
      },
      {
       "output_type": "stream",
       "stream": "stdout",
       "text": [
        " 0.08647629218 0.0856365486568 161 1305\n",
        "66\n",
        "collision!"
       ]
      },
      {
       "output_type": "stream",
       "stream": "stdout",
       "text": [
        " 0.0234858780017 0.458679905636 162 3193\n",
        "67\n",
        "collision! 0.833886135571 0.627183063633 162 3788\n",
        "68\n",
        "collision!"
       ]
      },
      {
       "output_type": "stream",
       "stream": "stdout",
       "text": [
        " 0.905127334686 0.501738820037 178 3826\n",
        "69\n",
        "collision!"
       ]
      },
      {
       "output_type": "stream",
       "stream": "stdout",
       "text": [
        " 0.755621281506 0.998710896317 185 539\n",
        "70\n",
        "collision!"
       ]
      },
      {
       "output_type": "stream",
       "stream": "stdout",
       "text": [
        " 0.734329222986 0.935675002621 185 2890\n",
        "71\n",
        "collision!"
       ]
      },
      {
       "output_type": "stream",
       "stream": "stdout",
       "text": [
        " 0.761873794304 0.867774795492 188 331\n",
        "72\n",
        "collision! 0.748926715474 0.388960359668 188 1201\n",
        "73\n",
        "collision!"
       ]
      },
      {
       "output_type": "stream",
       "stream": "stdout",
       "text": [
        " 0.733955475386 0.990972699369 195 1563\n",
        "74\n",
        "collision!"
       ]
      },
      {
       "output_type": "stream",
       "stream": "stdout",
       "text": [
        " 0.177065603827 0.723632663794 197 3145\n",
        "75\n",
        "collision!"
       ]
      },
      {
       "output_type": "stream",
       "stream": "stdout",
       "text": [
        " 0.854778163134 0.916579419306 203 2807\n",
        "76\n",
        "collision! 0.644060338202 0.288803702842 203 3216\n",
        "77\n",
        "collision!"
       ]
      },
      {
       "output_type": "stream",
       "stream": "stdout",
       "text": [
        " 0.642579281994 0.883912158631 209 2119\n",
        "78\n",
        "collision!"
       ]
      },
      {
       "output_type": "stream",
       "stream": "stdout",
       "text": [
        " 0.575898794474 0.373551605939 211 1266\n",
        "79\n",
        "collision!"
       ]
      },
      {
       "output_type": "stream",
       "stream": "stdout",
       "text": [
        " 0.152377245242 0.652331650878 218 4289\n",
        "80\n",
        "collision! 0.483921981586 0.563253745988 219 379\n",
        "81\n",
        "collision! 0.187770701674 0.474071849874 219 443\n",
        "82\n",
        "collision!"
       ]
      },
      {
       "output_type": "stream",
       "stream": "stdout",
       "text": [
        " 0.099235071721 0.447075390186 219 1412\n",
        "83\n",
        "collision! 0.290587715211 0.927697066947 219 2113\n",
        "84\n",
        "collision!"
       ]
      },
      {
       "output_type": "stream",
       "stream": "stdout",
       "text": [
        " 0.489585296219 0.0308735373147 219 3437\n",
        "85\n",
        "collision! 0.955434393458 0.242750584791 219 3526\n",
        "86\n",
        "collision!"
       ]
      },
      {
       "output_type": "stream",
       "stream": "stdout",
       "text": [
        " 0.733405082754 0.0206517859769 226 72\n",
        "87\n",
        "collision!"
       ]
      },
      {
       "output_type": "stream",
       "stream": "stdout",
       "text": [
        " 0.512724613899 0.491456449833 226 1583\n",
        "88\n",
        "collision!"
       ]
      },
      {
       "output_type": "stream",
       "stream": "stdout",
       "text": [
        " 0.692119177091 0.545062901024 226 3365\n",
        "89\n",
        "collision! 0.256071524824 0.0877297693427 226 3569\n",
        "90\n",
        "collision!"
       ]
      },
      {
       "output_type": "stream",
       "stream": "stdout",
       "text": [
        " 0.273332405733 0.684275063461 230 368\n",
        "91\n",
        "collision! 0.375399861265 0.213127270445 230 577\n",
        "92\n",
        "collision!"
       ]
      },
      {
       "output_type": "stream",
       "stream": "stdout",
       "text": [
        " 0.138698889675 0.382091391145 230 1541\n",
        "93\n",
        "collision!"
       ]
      },
      {
       "output_type": "stream",
       "stream": "stdout",
       "text": [
        " 0.67736779577 0.0766790172972 230 3961\n",
        "94\n",
        "collision! 0.165973588062 0.750443416944 230 4351\n",
        "95\n",
        "collision!"
       ]
      },
      {
       "output_type": "stream",
       "stream": "stdout",
       "text": [
        " 0.381899205359 0.646238202701 233 1366\n",
        "96\n",
        "collision!"
       ]
      },
      {
       "output_type": "stream",
       "stream": "stdout",
       "text": [
        " 0.627798794624 0.799130618405 235 2102\n",
        "97\n",
        "collision!"
       ]
      },
      {
       "output_type": "stream",
       "stream": "stdout",
       "text": [
        " 0.279192475023 0.00531159321177 235 3919\n",
        "98\n",
        "collision! 0.900846282583 0.017929326921 235 4490\n",
        "99\n",
        "collision!"
       ]
      },
      {
       "output_type": "stream",
       "stream": "stdout",
       "text": [
        " 0.783066004195 0.990938219697 241 1404\n",
        "100\n",
        "collision!"
       ]
      },
      {
       "output_type": "stream",
       "stream": "stdout",
       "text": [
        " 0.94262531943 0.0234835185024 244 216\n",
        "101\n",
        "collision! 0.074833970672 0.777751469075 244 550\n",
        "102\n",
        "collision!"
       ]
      },
      {
       "output_type": "stream",
       "stream": "stdout",
       "text": [
        " 0.454521224761 0.112480718618 244 2238\n",
        "103\n",
        "collision!"
       ]
      },
      {
       "output_type": "stream",
       "stream": "stdout",
       "text": [
        " 0.937125666107 0.126985659223 244 3321\n",
        "104\n",
        "collision!"
       ]
      },
      {
       "output_type": "stream",
       "stream": "stdout",
       "text": [
        " 0.0438360895165 0.727819577375 247 4047\n",
        "105\n",
        "collision!"
       ]
      },
      {
       "output_type": "stream",
       "stream": "stdout",
       "text": [
        " 0.017274802171 0.011433744788 248 1864\n",
        "106\n",
        "collision!"
       ]
      },
      {
       "output_type": "stream",
       "stream": "stdout",
       "text": [
        " 0.653238816434 0.387067725966 255 4270\n",
        "107\n",
        "collision!"
       ]
      },
      {
       "output_type": "stream",
       "stream": "stdout",
       "text": [
        " 0.285633119635 0.757596230126 256 815\n",
        "108\n",
        "collision!"
       ]
      },
      {
       "output_type": "stream",
       "stream": "stdout",
       "text": [
        " 0.849216588373 0.961990927211 259 736\n",
        "109\n",
        "collision!"
       ]
      },
      {
       "output_type": "stream",
       "stream": "stdout",
       "text": [
        " 0.463165275923 0.0988021202941 259 3919\n",
        "110\n",
        "collision!"
       ]
      },
      {
       "output_type": "stream",
       "stream": "stdout",
       "text": [
        " 0.642333836484 0.45202896782 265 81\n",
        "111\n",
        "collision! 0.516035672644 0.0910699701637 265 875\n",
        "112\n",
        "collision!"
       ]
      },
      {
       "output_type": "stream",
       "stream": "stdout",
       "text": [
        " 0.0302171946735 0.383473876543 265 2059\n",
        "113\n",
        "collision!"
       ]
      },
      {
       "output_type": "stream",
       "stream": "stdout",
       "text": [
        " 0.931141506344 0.426657449242 265 3937\n",
        "114\n",
        "collision! 0.389755308763 0.0993384490992 265 4000\n",
        "115\n",
        "collision!"
       ]
      },
      {
       "output_type": "stream",
       "stream": "stdout",
       "text": [
        " 0.726588812162 0.323858133961 268 381\n",
        "116\n",
        "collision!"
       ]
      },
      {
       "output_type": "stream",
       "stream": "stdout",
       "text": [
        " 0.169615814221 0.876946074609 275 3546\n",
        "117\n",
        "collision!"
       ]
      },
      {
       "output_type": "stream",
       "stream": "stdout",
       "text": [
        " 0.860116828359 0.777042863125 277 2144\n",
        "118\n",
        "collision!"
       ]
      },
      {
       "output_type": "stream",
       "stream": "stdout",
       "text": [
        " 0.730047309635 0.169221535858 277 3180\n",
        "119\n",
        "collision!"
       ]
      },
      {
       "output_type": "stream",
       "stream": "stdout",
       "text": [
        " 0.786901946386 0.743372145965 278 2548\n",
        "120\n",
        "collision!"
       ]
      },
      {
       "output_type": "stream",
       "stream": "stdout",
       "text": [
        " 0.22865339947 0.0132778502365 282 1767\n",
        "121\n",
        "collision! 0.744318241962 0.389010378786 282 2613\n",
        "122\n",
        "collision!"
       ]
      },
      {
       "output_type": "stream",
       "stream": "stdout",
       "text": [
        " 0.699775630608 0.886716434654 283 1564\n",
        "123\n",
        "collision!"
       ]
      },
      {
       "output_type": "stream",
       "stream": "stdout",
       "text": [
        " 0.115418228921 0.873334571656 290 2548\n",
        "124\n",
        "collision!"
       ]
      },
      {
       "output_type": "stream",
       "stream": "stdout",
       "text": [
        " 0.699499378954 0.228687939723 291 168\n",
        "125\n",
        "collision!"
       ]
      },
      {
       "output_type": "stream",
       "stream": "stdout",
       "text": [
        " 0.827751916929 0.0828632904396 292 755\n",
        "126\n",
        "collision!"
       ]
      },
      {
       "output_type": "stream",
       "stream": "stdout",
       "text": [
        " 0.0888637060733 0.901362050179 300 3835\n",
        "127\n",
        "collision!"
       ]
      },
      {
       "output_type": "stream",
       "stream": "stdout",
       "text": [
        " 0.51321070976 0.917702324526 304 3655\n",
        "128\n",
        "collision!"
       ]
      },
      {
       "output_type": "stream",
       "stream": "stdout",
       "text": [
        " 0.126976882939 0.0804898741144 306 1305\n",
        "129\n",
        "collision!"
       ]
      },
      {
       "output_type": "stream",
       "stream": "stdout",
       "text": [
        " 0.708389748808 0.0133621122967 314 788\n",
        "130\n",
        "collision!"
       ]
      },
      {
       "output_type": "stream",
       "stream": "stdout",
       "text": [
        " 0.962473730573 0.958886324209 315 3483\n",
        "131\n",
        "collision!"
       ]
      },
      {
       "output_type": "stream",
       "stream": "stdout",
       "text": [
        " 0.110048583549 0.928680974682 318 2445\n",
        "132\n",
        "collision!"
       ]
      },
      {
       "output_type": "stream",
       "stream": "stdout",
       "text": [
        " 0.910837783794 0.0806216473914 334 4047\n",
        "133\n",
        "collision!"
       ]
      },
      {
       "output_type": "stream",
       "stream": "stdout",
       "text": [
        " 0.260519219618 0.00936644396454 335 2650\n",
        "134\n",
        "collision!"
       ]
      },
      {
       "output_type": "stream",
       "stream": "stdout",
       "text": [
        " 0.849145748929 0.118104458375 338 467\n",
        "135\n",
        "collision!"
       ]
      },
      {
       "output_type": "stream",
       "stream": "stdout",
       "text": [
        " 0.769525029747 0.901783912066 347 1812\n",
        "136\n",
        "collision!"
       ]
      },
      {
       "output_type": "stream",
       "stream": "stdout",
       "text": [
        " 0.120466448444 0.785546447801 349 3875\n",
        "137\n",
        "collision!"
       ]
      },
      {
       "output_type": "stream",
       "stream": "stdout",
       "text": [
        " 0.724988428394 0.475707908814 351 3659\n",
        "138\n",
        "collision!"
       ]
      },
      {
       "output_type": "stream",
       "stream": "stdout",
       "text": [
        " 0.460610650716 0.817109290651 369 1417\n",
        "139\n",
        "collision!"
       ]
      },
      {
       "output_type": "stream",
       "stream": "stdout",
       "text": [
        " 0.345282373299 0.197343663955 378 1103\n",
        "140\n",
        "collision!"
       ]
      },
      {
       "output_type": "stream",
       "stream": "stdout",
       "text": [
        " 0.951825783712 0.365803872282 384 250\n",
        "141\n",
        "collision!"
       ]
      },
      {
       "output_type": "stream",
       "stream": "stdout",
       "text": [
        " 0.817063724397 0.845760204801 386 242\n",
        "142\n",
        "collision!"
       ]
      },
      {
       "output_type": "stream",
       "stream": "stdout",
       "text": [
        " 0.464394052304 0.324106882666 388 4047\n",
        "143\n",
        "collision!"
       ]
      },
      {
       "output_type": "stream",
       "stream": "stdout",
       "text": [
        " 0.739375850034 0.260277609949 390 1381\n",
        "144\n",
        "collision!"
       ]
      },
      {
       "output_type": "stream",
       "stream": "stdout",
       "text": [
        " 0.275317979573 0.155999912764 391 57\n",
        "145\n",
        "collision!"
       ]
      },
      {
       "output_type": "stream",
       "stream": "stdout",
       "text": [
        " 0.257671146074 0.962736614523 391 1807\n",
        "146\n",
        "collision!"
       ]
      },
      {
       "output_type": "stream",
       "stream": "stdout",
       "text": [
        " 0.136942063372 0.426811764478 393 3421\n",
        "147\n",
        "collision!"
       ]
      },
      {
       "output_type": "stream",
       "stream": "stdout",
       "text": [
        " 0.719529056226 0.266605360766 395 3218\n",
        "148\n",
        "collision!"
       ]
      },
      {
       "output_type": "stream",
       "stream": "stdout",
       "text": [
        " 0.387615515609 0.71579923809 398 1252\n",
        "149\n",
        "collision!"
       ]
      },
      {
       "output_type": "stream",
       "stream": "stdout",
       "text": [
        " 0.191037424866 0.0711809492106 398 2238\n",
        "150\n",
        "collision! 0.0775045492398 0.838240548795 398 2244\n",
        "151\n",
        "collision! 0.538066996598 0.580631732681 398 2684\n",
        "152\n",
        "collision!"
       ]
      },
      {
       "output_type": "stream",
       "stream": "stdout",
       "text": [
        " 0.462455363916 0.614226862818 399 499\n",
        "153\n",
        "collision! 0.845491785076 0.951437042481 399 508\n",
        "154\n",
        "collision!"
       ]
      },
      {
       "output_type": "stream",
       "stream": "stdout",
       "text": [
        " 0.750867165398 0.428992445545 401 2929\n",
        "155\n",
        "collision!"
       ]
      },
      {
       "output_type": "stream",
       "stream": "stdout",
       "text": [
        " 0.0191099071187 0.557345442364 409 999\n",
        "156\n",
        "collision! 0.764981930403 0.249348617739 409 1109\n",
        "157\n",
        "collision! 0.605119286369 0.512686701906 409 1856\n",
        "158\n",
        "collision!"
       ]
      },
      {
       "output_type": "stream",
       "stream": "stdout",
       "text": [
        " 0.452300030152 0.546050240331 412 3047\n",
        "159\n",
        "collision!"
       ]
      },
      {
       "output_type": "stream",
       "stream": "stdout",
       "text": [
        " 0.569450792124 0.0620604682743 413 1714\n",
        "160\n",
        "collision!"
       ]
      },
      {
       "output_type": "stream",
       "stream": "stdout",
       "text": [
        " 0.32345206131 0.276680823305 416 2377\n",
        "161\n",
        "collision!"
       ]
      },
      {
       "output_type": "stream",
       "stream": "stdout",
       "text": [
        " 0.807893256074 0.302664693541 417 555\n",
        "162\n",
        "collision!"
       ]
      },
      {
       "output_type": "stream",
       "stream": "stdout",
       "text": [
        " 0.409100271388 0.854643258712 417 1806\n",
        "163\n",
        "collision!"
       ]
      },
      {
       "output_type": "stream",
       "stream": "stdout",
       "text": [
        " 0.186995427685 0.376561351212 417 3875\n",
        "164\n",
        "collision! 0.0420814939319 0.225744533525 417 4225\n",
        "165\n",
        "collision!"
       ]
      },
      {
       "output_type": "stream",
       "stream": "stdout",
       "text": [
        " 0.838853992141 0.00587354561881 419 2977\n",
        "166\n",
        "collision!"
       ]
      },
      {
       "output_type": "stream",
       "stream": "stdout",
       "text": [
        " 0.971394657663 0.977016841445 419 4018\n",
        "167\n",
        "collision!"
       ]
      },
      {
       "output_type": "stream",
       "stream": "stdout",
       "text": [
        " 0.416600724825 0.405032295967 427 4047\n",
        "168\n",
        "collision!"
       ]
      },
      {
       "output_type": "stream",
       "stream": "stdout",
       "text": [
        " 0.588436029193 0.16393315953 431 1784\n",
        "169\n",
        "collision!"
       ]
      },
      {
       "output_type": "stream",
       "stream": "stdout",
       "text": [
        " 0.44744756891 0.980663898599 431 3571\n",
        "170\n",
        "collision!"
       ]
      },
      {
       "output_type": "stream",
       "stream": "stdout",
       "text": [
        " 0.785376050407 0.898352245616 436 1679\n",
        "171\n",
        "collision! 0.615844912322 0.54531589684 436 1982\n",
        "172\n",
        "collision! 0.0690828926229 0.213320753087 436 2535\n",
        "173\n",
        "collision!"
       ]
      },
      {
       "output_type": "stream",
       "stream": "stdout",
       "text": [
        " 0.195008472738 0.322129025145 436 3464\n",
        "174\n",
        "collision! 0.962457482171 0.0498067585817 436 3639\n",
        "175\n",
        "collision!"
       ]
      },
      {
       "output_type": "stream",
       "stream": "stdout",
       "text": [
        " 0.137319543893 0.337521301827 437 1175\n",
        "176\n",
        "collision!"
       ]
      },
      {
       "output_type": "stream",
       "stream": "stdout",
       "text": [
        " 0.0357026262388 0.00563858673067 444 2575\n",
        "177\n",
        "collision!"
       ]
      },
      {
       "output_type": "stream",
       "stream": "stdout",
       "text": [
        " 0.624743971558 0.652906123697 454 1540\n",
        "178\n",
        "collision!"
       ]
      },
      {
       "output_type": "stream",
       "stream": "stdout",
       "text": [
        " 0.127133742576 0.764585720035 454 3873\n",
        "179\n",
        "collision!"
       ]
      },
      {
       "output_type": "stream",
       "stream": "stdout",
       "text": [
        " 0.966522266304 0.969582099487 455 3344\n",
        "180\n",
        "collision!"
       ]
      },
      {
       "output_type": "stream",
       "stream": "stdout",
       "text": [
        " 0.60005946469 0.494015105679 456 288\n",
        "181\n",
        "collision!"
       ]
      },
      {
       "output_type": "stream",
       "stream": "stdout",
       "text": [
        " 0.346912653276 0.223102979331 456 2654\n",
        "182\n",
        "collision!"
       ]
      },
      {
       "output_type": "stream",
       "stream": "stdout",
       "text": [
        " 0.623942313448 0.946427055409 458 3372\n",
        "183\n",
        "collision!"
       ]
      },
      {
       "output_type": "stream",
       "stream": "stdout",
       "text": [
        " 0.0857135842748 0.350341327877 463 3111\n",
        "184\n",
        "collision!"
       ]
      },
      {
       "output_type": "stream",
       "stream": "stdout",
       "text": [
        " 0.458378851711 0.192927858219 464 811\n",
        "185\n",
        "collision!"
       ]
      },
      {
       "output_type": "stream",
       "stream": "stdout",
       "text": [
        " 0.0317085414364 0.171825854135 464 1894\n",
        "186\n",
        "collision!"
       ]
      },
      {
       "output_type": "stream",
       "stream": "stdout",
       "text": [
        " 0.911419052856 0.139679887747 464 3034\n",
        "187\n",
        "collision! 0.712232734506 0.597122399577 464 3969\n",
        "188\n",
        "collision!"
       ]
      },
      {
       "output_type": "stream",
       "stream": "stdout",
       "text": [
        " 0.394711721581 0.811525175323 464 4157\n",
        "189\n",
        "collision!"
       ]
      },
      {
       "output_type": "stream",
       "stream": "stdout",
       "text": [
        " 0.545833191949 0.0969288234212 473 845\n",
        "190\n",
        "collision!"
       ]
      },
      {
       "output_type": "stream",
       "stream": "stdout",
       "text": [
        " 0.681631301172 0.532545848367 473 3858\n",
        "191\n",
        "collision!"
       ]
      },
      {
       "output_type": "stream",
       "stream": "stdout",
       "text": [
        " 0.960473433134 0.791617101031 481 3907\n",
        "192\n",
        "collision!"
       ]
      },
      {
       "output_type": "stream",
       "stream": "stdout",
       "text": [
        " 0.715615526351 0.188855644265 487 4334\n",
        "193\n",
        "collision!"
       ]
      },
      {
       "output_type": "stream",
       "stream": "stdout",
       "text": [
        " 0.78329349894 0.377052261246 490 1868\n",
        "194\n",
        "collision!"
       ]
      },
      {
       "output_type": "stream",
       "stream": "stdout",
       "text": [
        " 0.955868338132 0.198295560426 500 225\n",
        "195\n",
        "collision!"
       ]
      },
      {
       "output_type": "stream",
       "stream": "stdout",
       "text": [
        " 0.979805478653 0.653672846348 502 2178\n",
        "196\n",
        "collision!"
       ]
      },
      {
       "output_type": "stream",
       "stream": "stdout",
       "text": [
        " 0.144004732672 0.440326275272 504 2144\n",
        "197\n",
        "collision!"
       ]
      },
      {
       "output_type": "stream",
       "stream": "stdout",
       "text": [
        " 0.464252335311 0.583629044011 506 3435\n",
        "198\n",
        "collision!"
       ]
      },
      {
       "output_type": "stream",
       "stream": "stdout",
       "text": [
        " 0.55138941348 0.699012549377 507 4050\n",
        "199\n",
        "collision! 0.370756875102 0.957393027779 507 4479\n",
        "200\n",
        "collision!"
       ]
      },
      {
       "output_type": "stream",
       "stream": "stdout",
       "text": [
        " 0.0684205413276 0.994903208373 511 2784\n",
        "201\n",
        "collision!"
       ]
      },
      {
       "output_type": "stream",
       "stream": "stdout",
       "text": [
        " 0.799018096442 0.895238018342 516 724\n",
        "202\n",
        "collision!"
       ]
      },
      {
       "output_type": "stream",
       "stream": "stdout",
       "text": [
        " 0.0638198267264 0.30818035684 524 2089\n",
        "203\n",
        "collision! 0.271118696853 0.480727266241 524 2758\n",
        "204\n",
        "collision!"
       ]
      },
      {
       "output_type": "stream",
       "stream": "stdout",
       "text": [
        " 0.72233706485 0.0619044606217 526 2258\n",
        "205\n",
        "collision!"
       ]
      },
      {
       "output_type": "stream",
       "stream": "stdout",
       "text": [
        " 0.667162662786 0.403852759367 530 51\n",
        "206\n",
        "collision!"
       ]
      },
      {
       "output_type": "stream",
       "stream": "stdout",
       "text": [
        " 0.100682646706 0.382601381272 532 822\n",
        "207\n",
        "collision!"
       ]
      },
      {
       "output_type": "stream",
       "stream": "stdout",
       "text": [
        " 0.509040554497 0.357587998963 533 498\n",
        "208\n",
        "collision! 0.624093827498 0.589416447214 533 1437\n",
        "209\n",
        "collision!"
       ]
      },
      {
       "output_type": "stream",
       "stream": "stdout",
       "text": [
        " 0.709171056415 0.297423077884 537 163\n",
        "210\n",
        "collision!"
       ]
      },
      {
       "output_type": "stream",
       "stream": "stdout",
       "text": [
        " 0.0187977845638 0.171898054234 537 3017\n",
        "211\n",
        "collision!"
       ]
      },
      {
       "output_type": "stream",
       "stream": "stdout",
       "text": [
        " 0.82315267328 0.288459009003 538 990\n",
        "212\n",
        "collision!"
       ]
      },
      {
       "output_type": "stream",
       "stream": "stdout",
       "text": [
        " 0.731027824353 0.177845537531 538 2162\n",
        "213\n",
        "collision! 0.442990250943 0.703042653855 538 2449\n",
        "214\n",
        "collision!"
       ]
      },
      {
       "output_type": "stream",
       "stream": "stdout",
       "text": [
        " 0.732554126013 0.904992069038 539 2419\n",
        "215\n",
        "collision!"
       ]
      },
      {
       "output_type": "stream",
       "stream": "stdout",
       "text": [
        " 0.737321592985 0.849610130349 543 2189\n",
        "216\n",
        "collision!"
       ]
      },
      {
       "output_type": "stream",
       "stream": "stdout",
       "text": [
        " 0.102245888587 0.711076833924 547 2148\n",
        "217\n",
        "collision!"
       ]
      },
      {
       "output_type": "stream",
       "stream": "stdout",
       "text": [
        " 0.826176637244 0.00582365390913 549 1304\n",
        "218\n",
        "collision! 0.206847679275 0.559441044376 549 1827\n",
        "219\n",
        "collision! 0.22762801106 0.873790667704 549 1935\n",
        "220\n",
        "collision!"
       ]
      },
      {
       "output_type": "stream",
       "stream": "stdout",
       "text": [
        " 0.483308580119 0.480175683722 549 3742\n",
        "221\n",
        "collision!"
       ]
      },
      {
       "output_type": "stream",
       "stream": "stdout",
       "text": [
        " 0.41039316852 0.784579049253 551 288\n",
        "222\n",
        "collision!"
       ]
      },
      {
       "output_type": "stream",
       "stream": "stdout",
       "text": [
        " 0.679562600433 0.626801042167 562 60\n",
        "223\n",
        "collision!"
       ]
      },
      {
       "output_type": "stream",
       "stream": "stdout",
       "text": [
        " 0.259598755626 0.881120876665 562 2081\n",
        "224\n",
        "collision!"
       ]
      },
      {
       "output_type": "stream",
       "stream": "stdout",
       "text": [
        " 0.124597746995 0.522621352189 562 3635\n",
        "225\n",
        "collision!"
       ]
      },
      {
       "output_type": "stream",
       "stream": "stdout",
       "text": [
        " 0.087545838089 0.0540703992898 573 1165\n",
        "226\n",
        "collision! 0.911556081722 0.791712003141 573 1742\n",
        "227\n",
        "collision!"
       ]
      },
      {
       "output_type": "stream",
       "stream": "stdout",
       "text": [
        " 0.345865695326 0.837579627052 579 13\n",
        "228\n",
        "collision!"
       ]
      },
      {
       "output_type": "stream",
       "stream": "stdout",
       "text": [
        " 0.455711449943 0.11267058503 583 72\n",
        "229\n",
        "collision!"
       ]
      },
      {
       "output_type": "stream",
       "stream": "stdout",
       "text": [
        " 0.249604984945 0.557658233867 586 10\n",
        "230\n",
        "collision!"
       ]
      },
      {
       "output_type": "stream",
       "stream": "stdout",
       "text": [
        " 0.170944192367 0.323112750114 587 3902\n",
        "231\n",
        "collision!"
       ]
      },
      {
       "output_type": "stream",
       "stream": "stdout",
       "text": [
        " 0.220781319199 0.0337735147012 593 745\n",
        "232\n",
        "collision! 0.437091156315 0.985826575493 593 1503\n",
        "233\n",
        "collision!"
       ]
      },
      {
       "output_type": "stream",
       "stream": "stdout",
       "text": [
        " 0.700098431806 0.216700842538 593 2900\n",
        "234\n",
        "collision!"
       ]
      },
      {
       "output_type": "stream",
       "stream": "stdout",
       "text": [
        " 0.381510310351 0.0078475377334 606 755\n",
        "235\n",
        "collision!"
       ]
      },
      {
       "output_type": "stream",
       "stream": "stdout",
       "text": [
        " 0.567242485674 0.404471289364 606 4197\n",
        "236\n",
        "collision!"
       ]
      },
      {
       "output_type": "stream",
       "stream": "stdout",
       "text": [
        " 0.82737446646 0.296406308049 607 3744\n",
        "237\n",
        "collision! 0.50189303035 0.181292407275 607 4461\n",
        "238\n",
        "collision!"
       ]
      },
      {
       "output_type": "stream",
       "stream": "stdout",
       "text": [
        " 0.969582013258 0.821874429746 610 169\n",
        "239\n",
        "collision!"
       ]
      },
      {
       "output_type": "stream",
       "stream": "stdout",
       "text": [
        " 0.101752037867 0.331931555271 610 3197\n",
        "240\n",
        "collision!"
       ]
      },
      {
       "output_type": "stream",
       "stream": "stdout",
       "text": [
        " 0.953809840778 0.912772029982 611 3116\n",
        "241\n",
        "collision! 0.662394265557 0.452031812278 611 3621\n",
        "242\n",
        "collision!"
       ]
      },
      {
       "output_type": "stream",
       "stream": "stdout",
       "text": [
        " 0.981750541346 0.524878710047 615 2240\n",
        "243\n",
        "collision!"
       ]
      },
      {
       "output_type": "stream",
       "stream": "stdout",
       "text": [
        " 0.536491647558 0.752110537653 618 2391\n",
        "244\n",
        "collision!"
       ]
      },
      {
       "output_type": "stream",
       "stream": "stdout",
       "text": [
        " 0.120716198338 0.968286151655 622 3489\n",
        "245\n",
        "collision!"
       ]
      },
      {
       "output_type": "stream",
       "stream": "stdout",
       "text": [
        " 0.597062578897 0.791302584398 625 1153\n",
        "246\n",
        "collision!"
       ]
      },
      {
       "output_type": "stream",
       "stream": "stdout",
       "text": [
        " 0.421976411224 0.410695575937 626 4067\n",
        "247\n",
        "collision!"
       ]
      },
      {
       "output_type": "stream",
       "stream": "stdout",
       "text": [
        " 0.466703589287 0.288359941428 630 2285\n",
        "248\n",
        "collision!"
       ]
      },
      {
       "output_type": "stream",
       "stream": "stdout",
       "text": [
        " 0.937203841773 0.08994884845 631 353\n",
        "249\n",
        "collision!"
       ]
      },
      {
       "output_type": "stream",
       "stream": "stdout",
       "text": [
        " 0.143071709578 0.328879373003 634 2784\n",
        "250\n",
        "collision!"
       ]
      },
      {
       "output_type": "stream",
       "stream": "stdout",
       "text": [
        " 0.933137122992 0.420949113536 640 1863\n",
        "251\n",
        "collision!"
       ]
      },
      {
       "output_type": "stream",
       "stream": "stdout",
       "text": [
        " 0.789088260673 0.369663624443 641 1925\n",
        "252\n",
        "collision!"
       ]
      },
      {
       "output_type": "stream",
       "stream": "stdout",
       "text": [
        " 0.453687424135 0.806814129355 646 4201\n",
        "253\n",
        "collision!"
       ]
      },
      {
       "output_type": "stream",
       "stream": "stdout",
       "text": [
        " 0.248584936479 0.871526282523 647 745\n",
        "254\n",
        "collision!"
       ]
      },
      {
       "output_type": "stream",
       "stream": "stdout",
       "text": [
        " 0.690584697246 0.344432927283 650 870\n",
        "255\n",
        "collision!"
       ]
      },
      {
       "output_type": "stream",
       "stream": "stdout",
       "text": [
        " 0.417522215357 0.658532413243 651 3850\n",
        "256\n",
        "collision!"
       ]
      },
      {
       "output_type": "stream",
       "stream": "stdout",
       "text": [
        " 0.736324709495 0.0249456579449 653 172\n",
        "257\n",
        "collision!"
       ]
      },
      {
       "output_type": "stream",
       "stream": "stdout",
       "text": [
        " 0.954004563392 0.333209594525 658 2598\n",
        "258\n",
        "collision!"
       ]
      },
      {
       "output_type": "stream",
       "stream": "stdout",
       "text": [
        " 0.232164193655 0.0222066209815 660 569\n",
        "259\n",
        "collision!"
       ]
      },
      {
       "output_type": "stream",
       "stream": "stdout",
       "text": [
        " 0.779964880527 0.135120750826 660 2359\n",
        "260\n",
        "collision!"
       ]
      },
      {
       "output_type": "stream",
       "stream": "stdout",
       "text": [
        " 0.685905973312 0.178449834967 663 2238\n",
        "261\n",
        "collision!"
       ]
      },
      {
       "output_type": "stream",
       "stream": "stdout",
       "text": [
        " 0.539773765639 0.439316009042 668 336\n",
        "262\n",
        "collision!"
       ]
      },
      {
       "output_type": "stream",
       "stream": "stdout",
       "text": [
        " 0.536252960451 0.57901544925 669 2857\n",
        "263\n",
        "collision!"
       ]
      },
      {
       "output_type": "stream",
       "stream": "stdout",
       "text": [
        " 0.16990522242 0.463432897932 670 1947\n",
        "264\n",
        "collision!"
       ]
      },
      {
       "output_type": "stream",
       "stream": "stdout",
       "text": [
        " 0.859609001261 0.46410317414 671 2021\n",
        "265\n",
        "collision!"
       ]
      },
      {
       "output_type": "stream",
       "stream": "stdout",
       "text": [
        " 0.371271870531 0.375284872923 680 1315\n",
        "266\n",
        "collision! 0.362781259432 0.213409110276 680 1328\n",
        "267\n",
        "collision!"
       ]
      },
      {
       "output_type": "stream",
       "stream": "stdout",
       "text": [
        " 0.866602569963 0.190910209706 685 4401\n",
        "268\n",
        "collision!"
       ]
      },
      {
       "output_type": "stream",
       "stream": "stdout",
       "text": [
        " 0.672895301872 0.490084065825 692 4521\n",
        "269\n",
        "collision!"
       ]
      },
      {
       "output_type": "stream",
       "stream": "stdout",
       "text": [
        " 0.685421743777 0.229011822422 696 1362\n",
        "270\n",
        "collision!"
       ]
      },
      {
       "output_type": "stream",
       "stream": "stdout",
       "text": [
        " 0.202344255114 0.775844946457 705 1725\n",
        "271\n",
        "collision!"
       ]
      },
      {
       "output_type": "stream",
       "stream": "stdout",
       "text": [
        " 0.153714494333 0.381229746725 705 3865\n",
        "272\n",
        "collision!"
       ]
      },
      {
       "output_type": "stream",
       "stream": "stdout",
       "text": [
        " 0.66248939125 0.118001258204 709 3203\n",
        "273\n",
        "collision!"
       ]
      },
      {
       "output_type": "stream",
       "stream": "stdout",
       "text": [
        " 0.888779131872 0.887774565301 722 1610\n",
        "274\n",
        "collision!"
       ]
      },
      {
       "output_type": "stream",
       "stream": "stdout",
       "text": [
        " 0.827047281551 0.0748785777637 723 2900\n",
        "275\n",
        "collision!"
       ]
      },
      {
       "output_type": "stream",
       "stream": "stdout",
       "text": [
        " 0.774996003226 0.832989801212 725 2336\n",
        "276\n",
        "collision!"
       ]
      },
      {
       "output_type": "stream",
       "stream": "stdout",
       "text": [
        " 0.245283682002 0.44807445408 734 527\n",
        "277\n",
        "collision!"
       ]
      },
      {
       "output_type": "stream",
       "stream": "stdout",
       "text": [
        " 0.953964048679 0.541186415799 734 2107\n",
        "278\n",
        "collision!"
       ]
      },
      {
       "output_type": "stream",
       "stream": "stdout",
       "text": [
        " 0.377240402651 0.642576357258 741 3349\n",
        "279\n",
        "collision!"
       ]
      },
      {
       "output_type": "stream",
       "stream": "stdout",
       "text": [
        " 0.418163944631 0.121688033192 742 1564\n",
        "280\n",
        "collision!"
       ]
      },
      {
       "output_type": "stream",
       "stream": "stdout",
       "text": [
        " 0.950872778306 0.924587480801 745 2744\n",
        "281\n",
        "collision!"
       ]
      },
      {
       "output_type": "stream",
       "stream": "stdout",
       "text": [
        " 0.724932350193 0.926908405917 749 3005\n",
        "282\n",
        "collision!"
       ]
      },
      {
       "output_type": "stream",
       "stream": "stdout",
       "text": [
        " 0.809265922262 0.162077998705 752 206\n",
        "283\n",
        "collision!"
       ]
      },
      {
       "output_type": "stream",
       "stream": "stdout",
       "text": [
        " 0.360116135645 0.0346894204145 752 2566\n",
        "284\n",
        "collision!"
       ]
      },
      {
       "output_type": "stream",
       "stream": "stdout",
       "text": [
        " 0.252870199362 0.808522844029 758 3685\n",
        "285\n",
        "collision!"
       ]
      },
      {
       "output_type": "stream",
       "stream": "stdout",
       "text": [
        " 0.856171958058 0.0433158245837 778 755\n",
        "286\n",
        "collision!"
       ]
      },
      {
       "output_type": "stream",
       "stream": "stdout",
       "text": [
        " 0.996318236738 0.52617703787 778 2413\n",
        "287\n",
        "collision!"
       ]
      },
      {
       "output_type": "stream",
       "stream": "stdout",
       "text": [
        " 0.786192107759 0.660252437503 780 1299\n",
        "288\n",
        "collision!"
       ]
      },
      {
       "output_type": "stream",
       "stream": "stdout",
       "text": [
        " 0.257769404346 0.565982423649 782 2238\n",
        "289\n",
        "collision!"
       ]
      },
      {
       "output_type": "stream",
       "stream": "stdout",
       "text": [
        " 0.305523408095 0.096785745102 785 2694\n",
        "290\n",
        "collision!"
       ]
      },
      {
       "output_type": "stream",
       "stream": "stdout",
       "text": [
        " 0.228803130801 0.859610000981 790 3844\n",
        "291\n",
        "collision!"
       ]
      },
      {
       "output_type": "stream",
       "stream": "stdout",
       "text": [
        " 0.0319225492134 0.428335700133 797 1109\n",
        "292\n",
        "collision!"
       ]
      },
      {
       "output_type": "stream",
       "stream": "stdout",
       "text": [
        " 0.787211136642 0.797983702702 798 821\n",
        "293\n",
        "collision!"
       ]
      },
      {
       "output_type": "stream",
       "stream": "stdout",
       "text": [
        " 0.00343500533886 0.740720509316 800 1865\n",
        "294\n",
        "collision! 0.0250002241017 0.139823304241 800 2742\n",
        "295\n",
        "collision!"
       ]
      },
      {
       "output_type": "stream",
       "stream": "stdout",
       "text": [
        " 0.00450683046694 0.71325617006 800 2879\n",
        "296\n",
        "collision!"
       ]
      },
      {
       "output_type": "stream",
       "stream": "stdout",
       "text": [
        " 0.0203809350755 0.539185478209 800 4387\n",
        "297\n",
        "collision!"
       ]
      },
      {
       "output_type": "stream",
       "stream": "stdout",
       "text": [
        " 0.461365231213 0.218082501952 804 1103\n",
        "298\n",
        "collision! 0.951390300359 0.383906687004 804 1520\n",
        "299\n",
        "collision!"
       ]
      },
      {
       "output_type": "stream",
       "stream": "stdout",
       "text": [
        " 0.272665651104 0.46420693579 804 2267\n",
        "300\n",
        "collision!"
       ]
      },
      {
       "output_type": "stream",
       "stream": "stdout",
       "text": [
        " 0.138230301234 0.429804917109 804 3383\n",
        "301\n",
        "collision! 0.265328990961 0.58063808529 804 3517\n",
        "302\n",
        "collision!"
       ]
      },
      {
       "output_type": "stream",
       "stream": "stdout",
       "text": [
        " 0.940224170462 0.580395131503 828 1900\n",
        "303\n",
        "collision!"
       ]
      },
      {
       "output_type": "stream",
       "stream": "stdout",
       "text": [
        " 0.414173617248 0.875489561088 828 2876\n",
        "304\n",
        "collision!"
       ]
      },
      {
       "output_type": "stream",
       "stream": "stdout",
       "text": [
        " 0.446348675705 0.278179852073 829 590\n",
        "305\n",
        "collision!"
       ]
      },
      {
       "output_type": "stream",
       "stream": "stdout",
       "text": [
        " 0.61271333622 0.820623066039 829 4069\n",
        "306\n",
        "collision!"
       ]
      },
      {
       "output_type": "stream",
       "stream": "stdout",
       "text": [
        " 0.0534573489367 0.057809447721 831 346\n",
        "307\n",
        "collision! 0.256412232223 0.225248333397 831 1106\n",
        "308\n",
        "collision! 0.509346502229 0.0871852035392 831 1141\n",
        "309\n",
        "collision!"
       ]
      },
      {
       "output_type": "stream",
       "stream": "stdout",
       "text": [
        " 0.566302862442 0.440599849049 831 1513\n",
        "310\n",
        "collision! 0.609728094639 0.156885651465 831 1597\n",
        "311\n",
        "collision!"
       ]
      },
      {
       "output_type": "stream",
       "stream": "stdout",
       "text": [
        " 0.589141327881 0.0980670667294 831 3058\n",
        "312\n",
        "collision! 0.505090581048 0.256917077264 831 3164\n",
        "313\n",
        "collision! 0.418917585969 0.158417324717 831 3579\n",
        "314\n",
        "collision! 0.218584134327 0.728511186954 831 3994\n",
        "315\n",
        "collision!"
       ]
      },
      {
       "output_type": "stream",
       "stream": "stdout",
       "text": [
        " 0.730155349628 0.103519262346 831 4101\n",
        "316\n",
        "collision! 0.39778438851 0.192161743347 831 4103\n",
        "317\n",
        "collision! 0.61578991232 0.104766978331 831 4445\n",
        "318\n",
        "collision!"
       ]
      },
      {
       "output_type": "stream",
       "stream": "stdout",
       "text": [
        " 0.774457210492 0.218816033589 832 1865\n",
        "319\n",
        "collision!"
       ]
      },
      {
       "output_type": "stream",
       "stream": "stdout",
       "text": [
        " 0.858153109335 0.975111734683 836 977\n",
        "320\n",
        "collision!"
       ]
      },
      {
       "output_type": "stream",
       "stream": "stdout",
       "text": [
        " 0.514565222009 0.865731091289 839 2177\n",
        "321\n",
        "collision!"
       ]
      },
      {
       "output_type": "stream",
       "stream": "stdout",
       "text": [
        " 0.459597334037 0.540236659439 846 3065\n",
        "322\n",
        "collision!"
       ]
      },
      {
       "output_type": "stream",
       "stream": "stdout",
       "text": [
        " 0.886456885045 0.504382727665 849 3\n",
        "323\n",
        "collision!"
       ]
      },
      {
       "output_type": "stream",
       "stream": "stdout",
       "text": [
        " 0.591843535235 0.274452096606 849 3727\n",
        "324\n",
        "collision!"
       ]
      },
      {
       "output_type": "stream",
       "stream": "stdout",
       "text": [
        " 0.416762870335 0.376540699977 856 2002\n",
        "325\n",
        "collision!"
       ]
      },
      {
       "output_type": "stream",
       "stream": "stdout",
       "text": [
        " 0.0580647972175 0.557097301921 860 4047\n",
        "326\n",
        "collision!"
       ]
      },
      {
       "output_type": "stream",
       "stream": "stdout",
       "text": [
        " 0.688594367715 0.725369661191 863 33\n",
        "327\n",
        "collision!"
       ]
      },
      {
       "output_type": "stream",
       "stream": "stdout",
       "text": [
        " 0.121748514782 0.802641354867 863 1512\n",
        "328\n",
        "collision!"
       ]
      },
      {
       "output_type": "stream",
       "stream": "stdout",
       "text": [
        " 0.287507416359 0.373454820653 865 895\n",
        "329\n",
        "collision!"
       ]
      },
      {
       "output_type": "stream",
       "stream": "stdout",
       "text": [
        " 0.0655909556337 0.157309144926 865 2548\n",
        "330\n",
        "collision!"
       ]
      },
      {
       "output_type": "stream",
       "stream": "stdout",
       "text": [
        " 0.99607926493 0.36854109154 865 3570\n",
        "331\n",
        "collision! 0.259174567167 0.834888942818 865 4494\n",
        "332\n",
        "collision!"
       ]
      },
      {
       "output_type": "stream",
       "stream": "stdout",
       "text": [
        " 0.10727807779 0.518957554348 872 1837\n",
        "333\n",
        "collision!"
       ]
      },
      {
       "output_type": "stream",
       "stream": "stdout",
       "text": [
        " 0.245634652588 0.965011867794 880 4398\n",
        "334\n",
        "collision!"
       ]
      },
      {
       "output_type": "stream",
       "stream": "stdout",
       "text": [
        " 0.636651016777 0.394402586978 882 2985\n",
        "335\n",
        "collision!"
       ]
      },
      {
       "output_type": "stream",
       "stream": "stdout",
       "text": [
        " 0.711906889394 0.738734209619 887 3335\n",
        "336\n",
        "collision!"
       ]
      },
      {
       "output_type": "stream",
       "stream": "stdout",
       "text": [
        " 0.941077752893 0.0979421344788 891 353\n",
        "337\n",
        "collision!"
       ]
      },
      {
       "output_type": "stream",
       "stream": "stdout",
       "text": [
        " 0.898683962092 0.040238053196 891 2416\n",
        "338\n",
        "collision! 0.497083088341 0.945647153021 891 3151\n",
        "339\n",
        "collision!"
       ]
      },
      {
       "output_type": "stream",
       "stream": "stdout",
       "text": [
        " 0.811531355047 0.129584427643 899 3421\n",
        "340\n",
        "collision!"
       ]
      },
      {
       "output_type": "stream",
       "stream": "stdout",
       "text": [
        " 0.944408208088 0.0920588381362 909 1784\n",
        "341\n",
        "collision! 0.593497270137 0.807036469655 909 2290\n",
        "342\n",
        "collision!"
       ]
      },
      {
       "output_type": "stream",
       "stream": "stdout",
       "text": [
        " 0.463545617066 0.295535395433 914 4490\n",
        "343\n",
        "collision!"
       ]
      },
      {
       "output_type": "stream",
       "stream": "stdout",
       "text": [
        " 0.256636900294 0.725016761877 916 1030\n",
        "344\n",
        "collision!"
       ]
      },
      {
       "output_type": "stream",
       "stream": "stdout",
       "text": [
        " 0.996494103038 0.0389309293941 918 2894\n",
        "345\n",
        "collision!"
       ]
      },
      {
       "output_type": "stream",
       "stream": "stdout",
       "text": [
        " 0.560384895311 0.898607090666 921 1502\n",
        "346\n",
        "collision!"
       ]
      },
      {
       "output_type": "stream",
       "stream": "stdout",
       "text": [
        " 0.477738948558 0.284781759078 921 2445\n",
        "347\n",
        "collision!"
       ]
      },
      {
       "output_type": "stream",
       "stream": "stdout",
       "text": [
        " 0.388689215481 0.14862057426 921 4051\n",
        "348\n",
        "collision!"
       ]
      },
      {
       "output_type": "stream",
       "stream": "stdout",
       "text": [
        " 0.016793315226 0.55315134474 923 2085\n",
        "349\n",
        "collision!"
       ]
      },
      {
       "output_type": "stream",
       "stream": "stdout",
       "text": [
        " 0.492277477193 0.132539924894 924 231\n",
        "350\n",
        "collision!"
       ]
      },
      {
       "output_type": "stream",
       "stream": "stdout",
       "text": [
        " 0.0031300128484 0.00999596734123 925 4394\n",
        "351\n",
        "collision!"
       ]
      },
      {
       "output_type": "stream",
       "stream": "stdout",
       "text": [
        " 0.837719999346 0.476862507739 926 1226\n",
        "352\n",
        "collision!"
       ]
      },
      {
       "output_type": "stream",
       "stream": "stdout",
       "text": [
        " 0.520631811278 0.107869837286 926 3920\n",
        "353\n",
        "collision! 0.885159370469 0.741168755003 926 4493\n",
        "354\n",
        "collision!"
       ]
      },
      {
       "output_type": "stream",
       "stream": "stdout",
       "text": [
        " 0.420102236505 0.632377396039 928 662\n",
        "355\n",
        "collision!"
       ]
      },
      {
       "output_type": "stream",
       "stream": "stdout",
       "text": [
        " 0.899092300788 0.222211398795 929 1384\n",
        "356\n",
        "collision!"
       ]
      },
      {
       "output_type": "stream",
       "stream": "stdout",
       "text": [
        " 0.274315392814 0.510968358009 933 155\n",
        "357\n",
        "collision!"
       ]
      },
      {
       "output_type": "stream",
       "stream": "stdout",
       "text": [
        " 0.419190032345 0.383351836262 944 886\n",
        "358\n",
        "collision!"
       ]
      },
      {
       "output_type": "stream",
       "stream": "stdout",
       "text": [
        " 0.234777178335 0.860127191865 944 2195\n",
        "359\n",
        "collision!"
       ]
      },
      {
       "output_type": "stream",
       "stream": "stdout",
       "text": [
        " 0.687292749878 0.00678336060164 944 3622\n",
        "360\n",
        "collision!"
       ]
      },
      {
       "output_type": "stream",
       "stream": "stdout",
       "text": [
        " 0.502112677358 0.758340091864 946 4126\n",
        "361\n",
        "collision!"
       ]
      },
      {
       "output_type": "stream",
       "stream": "stdout",
       "text": [
        " 0.793932803802 0.130381958415 947 2694\n",
        "362\n",
        "collision!"
       ]
      },
      {
       "output_type": "stream",
       "stream": "stdout",
       "text": [
        " 0.0544178550537 0.953072652217 948 2861\n",
        "363\n",
        "collision!"
       ]
      },
      {
       "output_type": "stream",
       "stream": "stdout",
       "text": [
        " 0.52253827847 0.918017572097 955 2785\n",
        "364\n",
        "collision!"
       ]
      },
      {
       "output_type": "stream",
       "stream": "stdout",
       "text": [
        " 0.905085904704 0.0725756369435 958 4078\n",
        "365\n",
        "collision!"
       ]
      },
      {
       "output_type": "stream",
       "stream": "stdout",
       "text": [
        " 0.0558526605581 0.62641363251 959 2902\n",
        "366\n",
        "collision!"
       ]
      },
      {
       "output_type": "stream",
       "stream": "stdout",
       "text": [
        " 0.226814144307 0.282803920404 964 2433\n",
        "367\n",
        "collision! 0.252119400591 0.18680286081 964 2783\n",
        "368\n",
        "collision!"
       ]
      },
      {
       "output_type": "stream",
       "stream": "stdout",
       "text": [
        " 0.566088707781 0.466903509476 967 299\n",
        "369\n",
        "collision!"
       ]
      },
      {
       "output_type": "stream",
       "stream": "stdout",
       "text": [
        " 0.546000836024 0.930058150868 968 3962\n",
        "370\n",
        "collision!"
       ]
      },
      {
       "output_type": "stream",
       "stream": "stdout",
       "text": [
        " 0.818674403471 0.212847217551 971 485\n",
        "371\n",
        "collision!"
       ]
      },
      {
       "output_type": "stream",
       "stream": "stdout",
       "text": [
        " 0.551986568339 0.059366128773 975 1663\n",
        "372\n",
        "collision!"
       ]
      },
      {
       "output_type": "stream",
       "stream": "stdout",
       "text": [
        " 0.864652287001 0.456471401215 976 930\n",
        "373\n",
        "collision!"
       ]
      },
      {
       "output_type": "stream",
       "stream": "stdout",
       "text": [
        " 0.305904385223 0.0472407776451 976 2119\n",
        "374\n",
        "collision!"
       ]
      },
      {
       "output_type": "stream",
       "stream": "stdout",
       "text": [
        " 0.168479839495 0.00886344129705 976 3494\n",
        "375\n",
        "collision!"
       ]
      },
      {
       "output_type": "stream",
       "stream": "stdout",
       "text": [
        " 0.423073479601 0.632790481571 979 2765\n",
        "376\n",
        "collision!"
       ]
      },
      {
       "output_type": "stream",
       "stream": "stdout",
       "text": [
        " 0.0606670999318 0.794797448497 981 366\n",
        "377\n",
        "collision!"
       ]
      },
      {
       "output_type": "stream",
       "stream": "stdout",
       "text": [
        " 0.891075212029 0.852268176622 981 3570\n",
        "378\n",
        "collision! 0.759988448957 0.353459935437 981 4270\n",
        "379\n",
        "collision!"
       ]
      },
      {
       "output_type": "stream",
       "stream": "stdout",
       "text": [
        " 0.438658300814 0.189803321381 985 1221\n",
        "380\n",
        "collision!"
       ]
      },
      {
       "output_type": "stream",
       "stream": "stdout",
       "text": [
        " 0.802600475831 0.55485036436 986 837\n",
        "381\n",
        "collision!"
       ]
      },
      {
       "output_type": "stream",
       "stream": "stdout",
       "text": [
        " 0.59789712506 0.878361946917 986 2722\n",
        "382\n",
        "collision!"
       ]
      },
      {
       "output_type": "stream",
       "stream": "stdout",
       "text": [
        " 0.145983446556 0.505435098336 987 4221\n",
        "383\n",
        "collision!"
       ]
      },
      {
       "output_type": "stream",
       "stream": "stdout",
       "text": [
        " 0.164666990078 0.15680021959 995 736\n",
        "384\n",
        "collision!"
       ]
      },
      {
       "output_type": "stream",
       "stream": "stdout",
       "text": [
        " 0.326276717598 0.367008169286 1000 4047\n",
        "385\n",
        "collision!"
       ]
      },
      {
       "output_type": "stream",
       "stream": "stdout",
       "text": [
        " 0.800030976415 0.110585803402 1004 757\n",
        "386\n",
        "collision!"
       ]
      },
      {
       "output_type": "stream",
       "stream": "stdout",
       "text": [
        " 0.242219834698 0.789079023685 1005 820\n",
        "387\n",
        "collision!"
       ]
      },
      {
       "output_type": "stream",
       "stream": "stdout",
       "text": [
        " 0.333886214707 0.962339091269 1007 2236\n",
        "388\n",
        "collision!"
       ]
      },
      {
       "output_type": "stream",
       "stream": "stdout",
       "text": [
        " 0.279528765611 0.495009303295 1007 3967\n",
        "389\n",
        "collision!"
       ]
      },
      {
       "output_type": "stream",
       "stream": "stdout",
       "text": [
        " 0.884789738961 0.90823703566 1012 2289\n",
        "390\n",
        "collision!"
       ]
      },
      {
       "output_type": "stream",
       "stream": "stdout",
       "text": [
        " 0.518695163581 0.966940632553 1021 131\n",
        "391\n",
        "collision!"
       ]
      },
      {
       "output_type": "stream",
       "stream": "stdout",
       "text": [
        " 0.0962984554251 0.221347985461 1021 2109\n",
        "392\n",
        "collision!"
       ]
      },
      {
       "output_type": "stream",
       "stream": "stdout",
       "text": [
        " 0.217666322983 0.85109075068 1022 4503\n",
        "393\n",
        "collision!"
       ]
      },
      {
       "output_type": "stream",
       "stream": "stdout",
       "text": [
        " 0.793479391337 0.537910325441 1026 3383\n",
        "394\n",
        "collision!"
       ]
      },
      {
       "output_type": "stream",
       "stream": "stdout",
       "text": [
        " 0.231398138113 0.183373080606 1031 1573\n",
        "395\n",
        "collision!"
       ]
      },
      {
       "output_type": "stream",
       "stream": "stdout",
       "text": [
        " 0.992235748883 0.645998933811 1033 1256\n",
        "396\n",
        "collision!"
       ]
      },
      {
       "output_type": "stream",
       "stream": "stdout",
       "text": [
        " 0.493852032914 0.265129169927 1044 195\n",
        "397\n",
        "collision!"
       ]
      },
      {
       "output_type": "stream",
       "stream": "stdout",
       "text": [
        " 0.46180886504 0.356029351246 1044 2370\n",
        "398\n",
        "collision! 0.641691844938 0.84195914531 1044 3196\n",
        "399\n",
        "collision!"
       ]
      },
      {
       "output_type": "stream",
       "stream": "stdout",
       "text": [
        " 0.197285171076 0.0914134008988 1050 297\n",
        "400\n",
        "collision! 0.35814372676 0.292372897694 1050 1056\n",
        "401\n",
        "collision!"
       ]
      },
      {
       "output_type": "stream",
       "stream": "stdout",
       "text": [
        " 0.332173144044 0.684857110573 1050 1485\n",
        "402\n",
        "collision! 0.766782084231 0.347460196629 1050 1620\n",
        "403\n",
        "collision! 0.183838532474 0.301812101183 1050 1632\n",
        "404\n",
        "collision! 0.561821905865 0.5355784905 1050 1826\n",
        "405\n",
        "collision! 0.370649091592 0.594555466501 1050 1899\n",
        "406\n",
        "collision!"
       ]
      },
      {
       "output_type": "stream",
       "stream": "stdout",
       "text": [
        " 0.816550840399 0.971320716735 1050 2508\n",
        "407\n",
        "collision! 0.439378340162 0.0688988559966 1050 3005\n",
        "408\n",
        "collision!"
       ]
      },
      {
       "output_type": "stream",
       "stream": "stdout",
       "text": [
        " 0.278789330298 0.102889453114 1050 3551\n",
        "409\n",
        "collision!"
       ]
      },
      {
       "output_type": "stream",
       "stream": "stdout",
       "text": [
        " 0.475161618191 0.978358066677 1054 139\n",
        "410\n",
        "collision!"
       ]
      },
      {
       "output_type": "stream",
       "stream": "stdout",
       "text": [
        " 0.448446316814 0.108718958064 1054 3873\n",
        "411\n",
        "collision!"
       ]
      },
      {
       "output_type": "stream",
       "stream": "stdout",
       "text": [
        " 0.430971970071 0.432255515776 1059 387\n",
        "412\n",
        "collision! 0.22252764624 0.161019174341 1059 438\n",
        "413\n",
        "collision! 0.334636357299 0.115804780301 1059 1274\n",
        "414\n",
        "collision!"
       ]
      },
      {
       "output_type": "stream",
       "stream": "stdout",
       "text": [
        " 0.127452868937 0.675417456716 1059 3205\n",
        "415\n",
        "collision! 0.676727687217 0.249059601533 1059 4028\n",
        "416\n",
        "collision!"
       ]
      },
      {
       "output_type": "stream",
       "stream": "stdout",
       "text": [
        " 0.177063078079 0.667088619863 1063 67\n",
        "417\n",
        "collision!"
       ]
      },
      {
       "output_type": "stream",
       "stream": "stdout",
       "text": [
        " 0.957460868706 0.189543782159 1063 2267\n",
        "418\n",
        "collision! 0.940738554202 0.187739506003 1063 2868\n",
        "419\n",
        "collision!"
       ]
      },
      {
       "output_type": "stream",
       "stream": "stdout",
       "text": [
        " 0.429748417685 0.331548139532 1064 1662\n",
        "420\n",
        "collision!"
       ]
      },
      {
       "output_type": "stream",
       "stream": "stdout",
       "text": [
        " 0.24537327184 0.695442438575 1080 4215\n",
        "421\n",
        "collision!"
       ]
      },
      {
       "output_type": "stream",
       "stream": "stdout",
       "text": [
        " 0.828526063036 0.200480451778 1083 1103\n",
        "422\n",
        "collision!"
       ]
      },
      {
       "output_type": "stream",
       "stream": "stdout",
       "text": [
        " 0.671287536771 0.369830552976 1083 3807\n",
        "423\n",
        "collision!"
       ]
      },
      {
       "output_type": "stream",
       "stream": "stdout",
       "text": [
        " 0.79881924825 0.880151600295 1100 3088\n",
        "424\n",
        "collision!"
       ]
      },
      {
       "output_type": "stream",
       "stream": "stdout",
       "text": [
        " 0.834325863153 0.783912050933 1111 3122\n",
        "425\n",
        "collision!"
       ]
      },
      {
       "output_type": "stream",
       "stream": "stdout",
       "text": [
        " 0.523295889742 0.105921035548 1125 2650\n",
        "426\n",
        "collision!"
       ]
      },
      {
       "output_type": "stream",
       "stream": "stdout",
       "text": [
        " 0.599873547231 0.229068455627 1125 3967\n",
        "427\n",
        "collision!"
       ]
      },
      {
       "output_type": "stream",
       "stream": "stdout",
       "text": [
        " 0.655983628951 0.103709967451 1128 488\n",
        "428\n",
        "collision! 0.784051584628 0.177037276952 1128 1107\n",
        "429\n",
        "collision! 0.929754948003 0.421424460782 1128 1375\n",
        "430\n",
        "collision!"
       ]
      },
      {
       "output_type": "stream",
       "stream": "stdout",
       "text": [
        " 0.549754166309 0.106597326102 1128 2078\n",
        "431\n",
        "collision!"
       ]
      },
      {
       "output_type": "stream",
       "stream": "stdout",
       "text": [
        " 0.85589193718 0.491463542529 1128 4500\n",
        "432\n",
        "collision!"
       ]
      },
      {
       "output_type": "stream",
       "stream": "stdout",
       "text": [
        " 0.654825507008 0.653799473729 1130 3826\n",
        "433\n",
        "collision!"
       ]
      },
      {
       "output_type": "stream",
       "stream": "stdout",
       "text": [
        " 0.0921177989767 0.142206578678 1131 1835\n",
        "434\n",
        "collision!"
       ]
      },
      {
       "output_type": "stream",
       "stream": "stdout",
       "text": [
        " 0.434558360555 0.362186617763 1133 1837\n",
        "435\n",
        "collision!"
       ]
      },
      {
       "output_type": "stream",
       "stream": "stdout",
       "text": [
        " 0.454595243381 0.159499277177 1134 381\n",
        "436\n",
        "collision!"
       ]
      },
      {
       "output_type": "stream",
       "stream": "stdout",
       "text": [
        " 0.836193457721 0.380772476885 1134 2861\n",
        "437\n",
        "collision!"
       ]
      },
      {
       "output_type": "stream",
       "stream": "stdout",
       "text": [
        " 0.482770662747 0.455080297296 1139 2546\n",
        "438\n",
        "collision!"
       ]
      },
      {
       "output_type": "stream",
       "stream": "stdout",
       "text": [
        " 0.470642549777 0.422853852797 1144 2616\n",
        "439\n",
        "collision!"
       ]
      },
      {
       "output_type": "stream",
       "stream": "stdout",
       "text": [
        " 0.646890265177 0.515061366256 1146 4047\n",
        "440\n",
        "collision!"
       ]
      },
      {
       "output_type": "stream",
       "stream": "stdout",
       "text": [
        " 0.973438436453 0.242149214022 1148 2285\n",
        "441\n",
        "collision!"
       ]
      },
      {
       "output_type": "stream",
       "stream": "stdout",
       "text": [
        " 0.796602560255 0.422825882242 1148 3624\n",
        "442\n",
        "collision!"
       ]
      },
      {
       "output_type": "stream",
       "stream": "stdout",
       "text": [
        " 0.629388369661 0.567637541833 1155 3682\n",
        "443\n",
        "collision!"
       ]
      },
      {
       "output_type": "stream",
       "stream": "stdout",
       "text": [
        " 0.753119138397 0.0722835048812 1156 4047\n",
        "444\n",
        "collision!"
       ]
      },
      {
       "output_type": "stream",
       "stream": "stdout",
       "text": [
        " 0.540916890314 0.0842241251059 1158 2336\n",
        "445\n",
        "collision!"
       ]
      },
      {
       "output_type": "stream",
       "stream": "stdout",
       "text": [
        " 0.0315404709944 0.789953599874 1158 3448\n",
        "446\n",
        "collision!"
       ]
      },
      {
       "output_type": "stream",
       "stream": "stdout",
       "text": [
        " 0.5290280634 0.520746117737 1161 2784\n",
        "447\n",
        "collision!"
       ]
      },
      {
       "output_type": "stream",
       "stream": "stdout",
       "text": [
        " 0.746497138017 0.0397565411381 1163 1663\n",
        "448\n",
        "collision!"
       ]
      },
      {
       "output_type": "stream",
       "stream": "stdout",
       "text": [
        " 0.74125354269 0.948930712782 1167 2085\n",
        "449\n",
        "collision!"
       ]
      },
      {
       "output_type": "stream",
       "stream": "stdout",
       "text": [
        " 0.563337157896 0.456355795389 1172 3387\n",
        "450\n",
        "collision!"
       ]
      },
      {
       "output_type": "stream",
       "stream": "stdout",
       "text": [
        " 0.663712961414 0.525556326797 1178 7\n",
        "451\n",
        "collision! 0.361055076571 0.292250422882 1178 443\n",
        "452\n",
        "collision!"
       ]
      },
      {
       "output_type": "stream",
       "stream": "stdout",
       "text": [
        " 0.9874523048 0.479428239562 1178 1995\n",
        "453\n",
        "collision! 0.671773445018 0.686776907036 1178 2113\n",
        "454\n",
        "collision! 0.151192927231 0.0616423080827 1178 2144\n",
        "455\n",
        "collision!"
       ]
      },
      {
       "output_type": "stream",
       "stream": "stdout",
       "text": [
        " 0.086310126307 0.000266767904728 1180 270\n",
        "456\n",
        "collision! 0.0415215456973 0.0841703600859 1180 639\n",
        "457\n",
        "collision! 0.0570819693075 0.0541398474882 1180 690\n",
        "458\n",
        "collision! 0.685535642738 0.546136405936 1180 972\n",
        "459\n",
        "collision!"
       ]
      },
      {
       "output_type": "stream",
       "stream": "stdout",
       "text": [
        " 0.515634789352 0.0954448335438 1180 1904\n",
        "460\n",
        "collision! 0.877623381515 0.899366331277 1180 2431\n",
        "461\n",
        "collision!"
       ]
      },
      {
       "output_type": "stream",
       "stream": "stdout",
       "text": [
        " 0.836187657394 0.0947325308163 1180 3894\n",
        "462\n",
        "collision!"
       ]
      },
      {
       "output_type": "stream",
       "stream": "stdout",
       "text": [
        " 0.61631405158 0.0562348002572 1182 336\n",
        "463\n",
        "collision!"
       ]
      },
      {
       "output_type": "stream",
       "stream": "stdout",
       "text": [
        " 0.151289918057 0.396205115114 1187 3396\n",
        "464\n",
        "collision!"
       ]
      },
      {
       "output_type": "stream",
       "stream": "stdout",
       "text": [
        " 0.998231007162 0.63186802485 1191 267\n",
        "465\n",
        "collision!"
       ]
      },
      {
       "output_type": "stream",
       "stream": "stdout",
       "text": [
        " 0.45352371629 0.829011703376 1191 3812\n",
        "466\n",
        "collision! 0.0060660823583 0.514973576857 1191 4141\n",
        "467\n",
        "collision!"
       ]
      },
      {
       "output_type": "stream",
       "stream": "stdout",
       "text": [
        " 0.161558633555 0.746144684605 1199 3898\n",
        "468\n",
        "collision! 0.31593668957 0.352714941308 1199 3995\n",
        "469\n",
        "collision!"
       ]
      },
      {
       "output_type": "stream",
       "stream": "stdout",
       "text": [
        " 0.792595997867 0.140168034832 1200 3692\n",
        "470\n",
        "collision!"
       ]
      },
      {
       "output_type": "stream",
       "stream": "stdout",
       "text": [
        " 0.745551681235 0.525071572434 1208 4078\n",
        "471\n",
        "collision!"
       ]
      },
      {
       "output_type": "stream",
       "stream": "stdout",
       "text": [
        " 0.267386327576 0.417264946513 1213 1592\n",
        "472\n",
        "collision! 0.57407598804 0.487765638545 1213 1969\n",
        "473\n",
        "collision!"
       ]
      },
      {
       "output_type": "stream",
       "stream": "stdout",
       "text": [
        " 0.150445883836 0.0512779377877 1223 877\n",
        "474\n",
        "collision!"
       ]
      },
      {
       "output_type": "stream",
       "stream": "stdout",
       "text": [
        " 0.769287605284 0.51352157622 1224 2195\n",
        "475\n",
        "collision!"
       ]
      },
      {
       "output_type": "stream",
       "stream": "stdout",
       "text": [
        " 0.133786971148 0.547981228814 1237 374\n",
        "476\n",
        "collision!"
       ]
      },
      {
       "output_type": "stream",
       "stream": "stdout",
       "text": [
        " 0.24677720154 0.423884236386 1238 3396\n",
        "477\n",
        "collision!"
       ]
      },
      {
       "output_type": "stream",
       "stream": "stdout",
       "text": [
        " 0.135299431785 0.484982258033 1243 631\n",
        "478\n",
        "collision! 0.466322592355 0.236347858171 1243 807\n",
        "479\n",
        "collision!"
       ]
      },
      {
       "output_type": "stream",
       "stream": "stdout",
       "text": [
        " 0.720793832412 0.631195341129 1248 1093\n",
        "480\n",
        "collision! 0.327797223307 0.221601194609 1248 2023\n",
        "481\n",
        "collision!"
       ]
      },
      {
       "output_type": "stream",
       "stream": "stdout",
       "text": [
        " 0.168461789339 0.83254398775 1248 2271\n",
        "482\n",
        "collision! 0.553693190097 0.957973922347 1248 2524\n",
        "483\n",
        "collision!"
       ]
      },
      {
       "output_type": "stream",
       "stream": "stdout",
       "text": [
        " 0.474583845874 0.0386367863908 1248 3635\n",
        "484\n",
        "collision!"
       ]
      },
      {
       "output_type": "stream",
       "stream": "stdout",
       "text": [
        " 0.721834394731 0.36032629827 1249 569\n",
        "485\n",
        "collision!"
       ]
      },
      {
       "output_type": "stream",
       "stream": "stdout",
       "text": [
        " 0.350264982922 0.131493862588 1249 4078\n",
        "486\n",
        "collision!"
       ]
      },
      {
       "output_type": "stream",
       "stream": "stdout",
       "text": [
        " 0.236932020916 0.838830499107 1251 2067\n",
        "487\n",
        "collision!"
       ]
      },
      {
       "output_type": "stream",
       "stream": "stdout",
       "text": [
        " 0.166369051413 0.174551680334 1251 3898\n",
        "488\n",
        "collision!"
       ]
      },
      {
       "output_type": "stream",
       "stream": "stdout",
       "text": [
        " 0.840917612928 0.43830605286 1259 1115\n",
        "489\n",
        "collision!"
       ]
      },
      {
       "output_type": "stream",
       "stream": "stdout",
       "text": [
        " 0.966773227149 0.0349573647807 1268 307\n",
        "490\n",
        "collision!"
       ]
      },
      {
       "output_type": "stream",
       "stream": "stdout",
       "text": [
        " 0.537842022299 0.193921568103 1269 3745\n",
        "491\n",
        "collision! 0.303004813075 0.491524959012 1269 3847\n",
        "492\n",
        "collision!"
       ]
      },
      {
       "output_type": "stream",
       "stream": "stdout",
       "text": [
        " 0.620960327514 0.170229801987 1273 475\n",
        "493\n",
        "collision! 0.679146929661 0.615204061284 1273 1066\n",
        "494\n",
        "collision! 0.934520290811 0.976897022228 1273 1330\n",
        "495\n",
        "collision!"
       ]
      },
      {
       "output_type": "stream",
       "stream": "stdout",
       "text": [
        " 0.847393407857 0.33479592709 1273 2521\n",
        "496\n",
        "collision!"
       ]
      },
      {
       "output_type": "stream",
       "stream": "stdout",
       "text": [
        " 0.919142287169 0.0955986374407 1273 3591\n",
        "497\n",
        "collision! 0.751623815428 0.744616516926 1273 4323\n",
        "498\n",
        "collision!"
       ]
      },
      {
       "output_type": "stream",
       "stream": "stdout",
       "text": [
        " 0.11670200057 0.14967970655 1277 919\n",
        "499\n",
        "collision!"
       ]
      },
      {
       "output_type": "stream",
       "stream": "stdout",
       "text": [
        " 0.639859492519 0.207336113314 1277 2238\n",
        "500\n",
        "collision!"
       ]
      },
      {
       "output_type": "stream",
       "stream": "stdout",
       "text": [
        " 0.872390049269 0.48876083536 1283 1412\n",
        "501\n",
        "collision!"
       ]
      },
      {
       "output_type": "stream",
       "stream": "stdout",
       "text": [
        " 0.297482853392 0.516112292462 1288 1196\n",
        "502\n",
        "collision!"
       ]
      },
      {
       "output_type": "stream",
       "stream": "stdout",
       "text": [
        " 0.982829841228 0.980831314856 1289 1227\n",
        "503\n",
        "collision! 0.252271228248 0.150116943053 1289 1247\n",
        "504\n",
        "collision!"
       ]
      },
      {
       "output_type": "stream",
       "stream": "stdout",
       "text": [
        " 0.523103658 0.815435674305 1289 3376\n",
        "505\n",
        "collision!"
       ]
      },
      {
       "output_type": "stream",
       "stream": "stdout",
       "text": [
        " 0.51776175497 0.0900597343879 1289 4387\n",
        "506\n",
        "collision! 0.923406805404 0.182031199571 1289 4535\n",
        "507\n",
        "collision!"
       ]
      },
      {
       "output_type": "stream",
       "stream": "stdout",
       "text": [
        " 0.940422028081 0.443928207221 1292 2445\n",
        "508\n",
        "collision!"
       ]
      },
      {
       "output_type": "stream",
       "stream": "stdout",
       "text": [
        " 0.744305204768 0.343571539719 1292 4208\n",
        "509\n",
        "collision!"
       ]
      },
      {
       "output_type": "stream",
       "stream": "stdout",
       "text": [
        " 0.405392111483 0.217830704464 1293 3576\n",
        "510\n",
        "collision!"
       ]
      },
      {
       "output_type": "stream",
       "stream": "stdout",
       "text": [
        " 0.634615386662 0.748096698125 1297 1779\n",
        "511\n",
        "collision!"
       ]
      },
      {
       "output_type": "stream",
       "stream": "stdout",
       "text": [
        " 0.923169059929 0.270723172944 1300 2245\n",
        "512\n",
        "collision!"
       ]
      },
      {
       "output_type": "stream",
       "stream": "stdout",
       "text": [
        " 0.458696834452 0.592944167949 1319 509\n",
        "513\n",
        "collision!"
       ]
      },
      {
       "output_type": "stream",
       "stream": "stdout",
       "text": [
        " 0.119894188661 0.0241137647068 1324 2599\n",
        "514\n",
        "collision!"
       ]
      },
      {
       "output_type": "stream",
       "stream": "stdout",
       "text": [
        " 0.487990913052 0.368075891644 1325 1381\n",
        "515\n",
        "collision!"
       ]
      },
      {
       "output_type": "stream",
       "stream": "stdout",
       "text": [
        " 0.937111607012 0.602175099325 1334 3597\n",
        "516\n",
        "collision!"
       ]
      },
      {
       "output_type": "stream",
       "stream": "stdout",
       "text": [
        " 0.576372616018 0.685658719724 1339 1735\n",
        "517\n",
        "collision!"
       ]
      },
      {
       "output_type": "stream",
       "stream": "stdout",
       "text": [
        " 0.887776534318 0.51233245268 1339 2999\n",
        "518\n",
        "collision! 0.599299142483 0.125734591951 1339 3614\n",
        "519\n",
        "collision! 0.979017352974 0.525648160952 1339 3894\n",
        "520\n",
        "collision!"
       ]
      },
      {
       "output_type": "stream",
       "stream": "stdout",
       "text": [
        " 0.311842929945 0.980441523884 1339 4207\n",
        "521\n",
        "collision!"
       ]
      },
      {
       "output_type": "stream",
       "stream": "stdout",
       "text": [
        " 0.247797819811 0.802137815499 1345 1378\n",
        "522\n",
        "collision!"
       ]
      },
      {
       "output_type": "stream",
       "stream": "stdout",
       "text": [
        " 0.408807200186 0.832835144849 1346 1635\n",
        "523\n",
        "collision!"
       ]
      },
      {
       "output_type": "stream",
       "stream": "stdout",
       "text": [
        " 0.805077276566 0.700565985675 1347 296\n",
        "524\n",
        "collision!"
       ]
      },
      {
       "output_type": "stream",
       "stream": "stdout",
       "text": [
        " 0.613629076418 0.641508011671 1348 539\n",
        "525\n",
        "collision!"
       ]
      },
      {
       "output_type": "stream",
       "stream": "stdout",
       "text": [
        " 0.486281234021 0.147736251315 1348 2178\n",
        "526\n",
        "collision! 0.749229759155 0.541442075413 1348 2211\n",
        "527\n",
        "collision! 0.979566616826 0.655029932469 1348 2755\n",
        "528\n",
        "collision!"
       ]
      },
      {
       "output_type": "stream",
       "stream": "stdout",
       "text": [
        " 0.865868739939 0.207399133717 1348 4430\n",
        "529\n",
        "collision!"
       ]
      },
      {
       "output_type": "stream",
       "stream": "stdout",
       "text": [
        " 0.256729327683 0.255658486175 1353 125\n",
        "530\n",
        "collision!"
       ]
      },
      {
       "output_type": "stream",
       "stream": "stdout",
       "text": [
        " 0.574589305851 0.255717058321 1357 1165\n",
        "531\n",
        "collision!"
       ]
      },
      {
       "output_type": "stream",
       "stream": "stdout",
       "text": [
        " 0.910359543698 0.0804772311616 1358 131\n",
        "532\n",
        "collision!"
       ]
      },
      {
       "output_type": "stream",
       "stream": "stdout",
       "text": [
        " 0.854443645035 0.117478245517 1358 1837\n",
        "533\n",
        "collision!"
       ]
      },
      {
       "output_type": "stream",
       "stream": "stdout",
       "text": [
        " 0.630711668124 0.179193236707 1361 3448\n",
        "534\n",
        "collision!"
       ]
      },
      {
       "output_type": "stream",
       "stream": "stdout",
       "text": [
        " 0.463848774406 0.675963322045 1368 1226\n",
        "535\n",
        "collision! 0.976864159689 0.826766986054 1368 1390\n",
        "536\n",
        "collision!"
       ]
      },
      {
       "output_type": "stream",
       "stream": "stdout",
       "text": [
        " 0.864879531889 0.730336668377 1368 2690\n",
        "537\n",
        "collision!"
       ]
      },
      {
       "output_type": "stream",
       "stream": "stdout",
       "text": [
        " 0.469997843084 0.662976516865 1378 131\n",
        "538\n",
        "collision!"
       ]
      },
      {
       "output_type": "stream",
       "stream": "stdout",
       "text": [
        " 0.761158484683 0.800475641608 1380 4271\n",
        "539\n",
        "collision!"
       ]
      },
      {
       "output_type": "stream",
       "stream": "stdout",
       "text": [
        " 0.398527111368 0.545028494726 1390 3920\n",
        "540\n",
        "collision!"
       ]
      },
      {
       "output_type": "stream",
       "stream": "stdout",
       "text": [
        " 0.523380080919 0.473066386972 1393 1173\n",
        "541\n",
        "collision! 0.637629232516 0.146665665725 1393 1381\n",
        "542\n",
        "collision!"
       ]
      },
      {
       "output_type": "stream",
       "stream": "stdout",
       "text": [
        " 0.841987590436 0.656607176244 1393 2667\n",
        "543\n",
        "collision!"
       ]
      },
      {
       "output_type": "stream",
       "stream": "stdout",
       "text": [
        " 0.0747722975099 0.418867417522 1394 4334\n",
        "544\n",
        "collision!"
       ]
      },
      {
       "output_type": "stream",
       "stream": "stdout",
       "text": [
        " 0.760778502679 0.675745110275 1402 373\n",
        "545\n",
        "collision!"
       ]
      },
      {
       "output_type": "stream",
       "stream": "stdout",
       "text": [
        " 0.752497270982 0.446695963751 1402 2807\n",
        "546\n",
        "collision!"
       ]
      },
      {
       "output_type": "stream",
       "stream": "stdout",
       "text": [
        " 0.898594767118 0.0488512258743 1406 3349\n",
        "547\n",
        "collision!"
       ]
      },
      {
       "output_type": "stream",
       "stream": "stdout",
       "text": [
        " 0.86864721394 0.964247436413 1413 2983\n",
        "548\n",
        "collision!"
       ]
      },
      {
       "output_type": "stream",
       "stream": "stdout",
       "text": [
        " 0.641936002419 0.360625696066 1416 2818\n",
        "549\n",
        "collision!"
       ]
      },
      {
       "output_type": "stream",
       "stream": "stdout",
       "text": [
        " 0.0233915854878 0.072609020314 1419 2267\n",
        "550\n",
        "collision!"
       ]
      },
      {
       "output_type": "stream",
       "stream": "stdout",
       "text": [
        " 0.888711138571 0.285471764558 1420 1252\n",
        "551\n",
        "collision! 0.808913566143 0.724692273062 1420 1694\n",
        "552\n",
        "collision!"
       ]
      },
      {
       "output_type": "stream",
       "stream": "stdout",
       "text": [
        " 0.363653219911 0.878521067403 1420 4100\n",
        "553\n",
        "collision!"
       ]
      },
      {
       "output_type": "stream",
       "stream": "stdout",
       "text": [
        " 0.674360425027 0.318670512629 1422 213\n",
        "554\n",
        "collision!"
       ]
      },
      {
       "output_type": "stream",
       "stream": "stdout",
       "text": [
        " 0.519640038516 0.00968183815403 1422 4220\n",
        "555\n",
        "collision!"
       ]
      },
      {
       "output_type": "stream",
       "stream": "stdout",
       "text": [
        " 0.926039833746 0.661414076543 1423 2204\n",
        "556\n",
        "collision!"
       ]
      },
      {
       "output_type": "stream",
       "stream": "stdout",
       "text": [
        " 0.48902885925 0.903720938684 1424 1165\n",
        "557\n",
        "collision!"
       ]
      },
      {
       "output_type": "stream",
       "stream": "stdout",
       "text": [
        " 0.720009757656 0.834443642786 1427 2784\n",
        "558\n",
        "collision!"
       ]
      },
      {
       "output_type": "stream",
       "stream": "stdout",
       "text": [
        " 0.207877272348 0.643241285931 1428 726\n",
        "559\n",
        "collision!"
       ]
      },
      {
       "output_type": "stream",
       "stream": "stdout",
       "text": [
        " 0.0614078324037 0.30935254412 1433 2094\n",
        "560\n",
        "collision!"
       ]
      },
      {
       "output_type": "stream",
       "stream": "stdout",
       "text": [
        " 0.933021718312 0.566439993339 1435 3134\n",
        "561\n",
        "collision!"
       ]
      },
      {
       "output_type": "stream",
       "stream": "stdout",
       "text": [
        " 0.658102349809 0.309645915302 1436 1634\n",
        "562\n",
        "collision!"
       ]
      },
      {
       "output_type": "stream",
       "stream": "stdout",
       "text": [
        " 0.063675960378 0.252081210825 1445 1037\n",
        "563\n",
        "collision!"
       ]
      },
      {
       "output_type": "stream",
       "stream": "stdout",
       "text": [
        " 0.10665550094 0.800234908314 1449 2149\n",
        "564\n",
        "collision!"
       ]
      },
      {
       "output_type": "stream",
       "stream": "stdout",
       "text": [
        " 0.676955487259 0.0254607369015 1450 2694\n",
        "565\n",
        "collision!"
       ]
      },
      {
       "output_type": "stream",
       "stream": "stdout",
       "text": [
        " 0.224296818278 0.67578031152 1450 4078\n",
        "566\n",
        "collision! 0.400705688551 0.105846845445 1451 120\n",
        "567\n",
        "collision!"
       ]
      },
      {
       "output_type": "stream",
       "stream": "stdout",
       "text": [
        " 0.0771449148011 0.352714528114 1451 854\n",
        "568\n",
        "collision! 0.172966774479 0.487808054199 1451 929\n",
        "569\n",
        "collision!"
       ]
      },
      {
       "output_type": "stream",
       "stream": "stdout",
       "text": [
        " 0.431329596377 0.413404877758 1451 3222\n",
        "570\n",
        "collision!"
       ]
      },
      {
       "output_type": "stream",
       "stream": "stdout",
       "text": [
        " 0.0471749556913 0.191274846819 1457 702\n",
        "571\n",
        "collision!"
       ]
      },
      {
       "output_type": "stream",
       "stream": "stdout",
       "text": [
        " 0.782311280027 0.478995941699 1457 2542\n",
        "572\n",
        "collision!"
       ]
      },
      {
       "output_type": "stream",
       "stream": "stdout",
       "text": [
        " 0.244735852805 0.781950425986 1457 4295\n",
        "573\n",
        "collision!"
       ]
      },
      {
       "output_type": "stream",
       "stream": "stdout",
       "text": [
        " 0.166438990609 0.315374144603 1458 3426\n",
        "574\n",
        "collision!"
       ]
      },
      {
       "output_type": "stream",
       "stream": "stdout",
       "text": [
        " 0.631496299985 0.143106163626 1462 221\n",
        "575\n",
        "collision!"
       ]
      },
      {
       "output_type": "stream",
       "stream": "stdout",
       "text": [
        " 0.466589149024 0.756874586747 1462 2381\n",
        "576\n",
        "collision!"
       ]
      },
      {
       "output_type": "stream",
       "stream": "stdout",
       "text": [
        " 0.870825273507 0.969314159318 1464 4524\n",
        "577\n",
        "collision!"
       ]
      },
      {
       "output_type": "stream",
       "stream": "stdout",
       "text": [
        " 0.303641323009 0.263204278628 1466 258\n",
        "578\n",
        "collision!"
       ]
      },
      {
       "output_type": "stream",
       "stream": "stdout",
       "text": [
        " 0.615961258066 0.741531674239 1467 776\n",
        "579\n",
        "collision!"
       ]
      },
      {
       "output_type": "stream",
       "stream": "stdout",
       "text": [
        " 0.729544749303 0.878746343346 1467 2806\n",
        "580\n",
        "collision!"
       ]
      },
      {
       "output_type": "stream",
       "stream": "stdout",
       "text": [
        " 0.291286886993 0.431589660746 1469 907\n",
        "581\n",
        "collision!"
       ]
      },
      {
       "output_type": "stream",
       "stream": "stdout",
       "text": [
        " 0.926543973261 0.927812812172 1473 569\n",
        "582\n",
        "collision!"
       ]
      },
      {
       "output_type": "stream",
       "stream": "stdout",
       "text": [
        " 0.859109141679 0.854093231808 1473 2221\n",
        "583\n",
        "collision! 0.856634923012 0.0732606444398 1473 2694\n",
        "584\n",
        "collision!"
       ]
      },
      {
       "output_type": "stream",
       "stream": "stdout",
       "text": [
        " 0.247909044278 0.170599934546 1474 688\n",
        "585\n",
        "collision!"
       ]
      },
      {
       "output_type": "stream",
       "stream": "stdout",
       "text": [
        " 0.819469345345 0.514772491675 1474 1665\n",
        "586\n",
        "collision! 0.234349887592 0.0731499777325 1474 2090\n",
        "587\n",
        "collision!"
       ]
      },
      {
       "output_type": "stream",
       "stream": "stdout",
       "text": [
        " 0.517578582195 0.771485701087 1474 3852\n",
        "588\n",
        "collision! 0.240850737535 0.00510188482315 1474 4047\n",
        "589\n",
        "collision! 0.871004175748 0.540606309495 1474 4186\n",
        "590\n",
        "collision! 0.954872169438 0.29561322004 1474 4399\n",
        "591\n",
        "collision!"
       ]
      },
      {
       "output_type": "stream",
       "stream": "stdout",
       "text": [
        " 0.406626226578 0.15787368103 1475 2784\n",
        "592\n",
        "collision!"
       ]
      },
      {
       "output_type": "stream",
       "stream": "stdout",
       "text": [
        " 0.402453309388 0.509591241021 1480 1566\n",
        "593\n",
        "collision!"
       ]
      },
      {
       "output_type": "stream",
       "stream": "stdout",
       "text": [
        " 0.0787397041226 0.0742894929467 1480 2918\n",
        "594\n",
        "collision!"
       ]
      },
      {
       "output_type": "stream",
       "stream": "stdout",
       "text": [
        " 0.267407187525 0.654320471251 1481 3611\n",
        "595\n",
        "collision!"
       ]
      },
      {
       "output_type": "stream",
       "stream": "stdout",
       "text": [
        " 0.979975735355 0.554323080906 1485 1645\n",
        "596\n",
        "collision!"
       ]
      },
      {
       "output_type": "stream",
       "stream": "stdout",
       "text": [
        " 0.0544359344146 0.772883726791 1489 72\n",
        "597\n",
        "collision!"
       ]
      },
      {
       "output_type": "stream",
       "stream": "stdout",
       "text": [
        " 0.905484796771 0.0718135144796 1491 10\n",
        "598\n",
        "collision!"
       ]
      },
      {
       "output_type": "stream",
       "stream": "stdout",
       "text": [
        " 0.55105196953 0.679122666741 1491 4261\n",
        "599\n",
        "collision!"
       ]
      },
      {
       "output_type": "stream",
       "stream": "stdout",
       "text": [
        " 0.631358868328 0.0446501147129 1496 1381\n",
        "600\n",
        "collision!"
       ]
      },
      {
       "output_type": "stream",
       "stream": "stdout",
       "text": [
        " 0.5430486555 0.494355170912 1496 3028\n",
        "601\n",
        "collision!"
       ]
      },
      {
       "output_type": "stream",
       "stream": "stdout",
       "text": [
        " 0.777722851112 0.329657999261 1496 4148\n",
        "602\n",
        "collision!"
       ]
      },
      {
       "output_type": "stream",
       "stream": "stdout",
       "text": [
        " 0.269793631515 0.120228432514 1499 238\n",
        "603\n",
        "collision!"
       ]
      },
      {
       "output_type": "stream",
       "stream": "stdout",
       "text": [
        " 0.835399452271 0.416307797462 1501 2902\n",
        "604\n",
        "collision!"
       ]
      },
      {
       "output_type": "stream",
       "stream": "stdout",
       "text": [
        " 0.764421923271 0.956157826501 1502 3635\n",
        "605\n",
        "collision!"
       ]
      },
      {
       "output_type": "stream",
       "stream": "stdout",
       "text": [
        " 0.0401539659824 0.40894287684 1503 654\n",
        "606\n",
        "collision!"
       ]
      },
      {
       "output_type": "stream",
       "stream": "stdout",
       "text": [
        " 0.155512403176 0.288397080465 1505 174\n",
        "607\n",
        "collision! 0.927808479453 0.180760892051 1505 380\n",
        "608\n",
        "collision!"
       ]
      },
      {
       "output_type": "stream",
       "stream": "stdout",
       "text": [
        " 0.131828627017 0.155799691746 1505 1201\n",
        "609\n",
        "collision!"
       ]
      },
      {
       "output_type": "stream",
       "stream": "stdout",
       "text": [
        " 0.22429248104 0.178950397549 1506 698\n",
        "610\n",
        "collision! 0.183038258172 0.855589772285 1506 876\n",
        "611\n",
        "collision!"
       ]
      },
      {
       "output_type": "stream",
       "stream": "stdout",
       "text": [
        " 0.0418431837034 0.125919016421 1506 1783\n",
        "612\n",
        "collision!"
       ]
      },
      {
       "output_type": "stream",
       "stream": "stdout",
       "text": [
        " 0.728706080834 0.164511546858 1506 2954\n",
        "613\n",
        "collision! 0.84201634594 0.0713999156301 1506 3354\n",
        "614\n",
        "collision!"
       ]
      },
      {
       "output_type": "stream",
       "stream": "stdout",
       "text": [
        " 0.309682392187 0.910879044721 1506 4406\n",
        "615\n",
        "collision!"
       ]
      },
      {
       "output_type": "stream",
       "stream": "stdout",
       "text": [
        " 0.955662149403 0.0573405253524 1511 548\n",
        "616\n",
        "collision!"
       ]
      },
      {
       "output_type": "stream",
       "stream": "stdout",
       "text": [
        " 0.801448901756 0.837244778026 1517 174\n",
        "617\n",
        "collision! 0.666578535291 0.618501475964 1517 380\n",
        "618\n",
        "collision!"
       ]
      },
      {
       "output_type": "stream",
       "stream": "stdout",
       "text": [
        " 0.339530036984 0.0332659670415 1517 1323\n",
        "619\n",
        "collision! 0.261841204398 0.0632610697019 1517 1674\n",
        "620\n",
        "collision!"
       ]
      },
      {
       "output_type": "stream",
       "stream": "stdout",
       "text": [
        " 0.217577365702 0.16412274284 1517 4414\n",
        "621\n",
        "collision!"
       ]
      },
      {
       "output_type": "stream",
       "stream": "stdout",
       "text": [
        " 0.850336951894 0.709034827987 1519 3122\n",
        "622\n",
        "collision!"
       ]
      },
      {
       "output_type": "stream",
       "stream": "stdout",
       "text": [
        " 0.81191161563 0.113028373749 1524 125\n",
        "623\n",
        "collision!"
       ]
      },
      {
       "output_type": "stream",
       "stream": "stdout",
       "text": [
        " 0.396138507452 0.864181341898 1524 2309\n",
        "624\n",
        "collision! 0.397407620592 0.0342143904279 1524 2694\n",
        "625\n",
        "collision!"
       ]
      },
      {
       "output_type": "stream",
       "stream": "stdout",
       "text": [
        " 0.802335020873 0.815299405602 1524 4529\n",
        "626\n",
        "collision!"
       ]
      },
      {
       "output_type": "stream",
       "stream": "stdout",
       "text": [
        " 0.403747048269 0.415162970976 1527 4270\n",
        "627\n",
        "collision!"
       ]
      },
      {
       "output_type": "stream",
       "stream": "stdout",
       "text": [
        " 0.917736428218 0.0421818136199 1529 1662\n",
        "628\n",
        "collision!"
       ]
      },
      {
       "output_type": "stream",
       "stream": "stdout",
       "text": [
        " 0.96266029178 0.630873546138 1531 258\n",
        "629\n",
        "collision!"
       ]
      },
      {
       "output_type": "stream",
       "stream": "stdout",
       "text": [
        " 0.451087492896 0.0630875551537 1534 2686\n",
        "630\n",
        "collision!"
       ]
      },
      {
       "output_type": "stream",
       "stream": "stdout",
       "text": [
        " 0.323703635093 0.763525419537 1534 4182\n",
        "631\n",
        "collision!"
       ]
      },
      {
       "output_type": "stream",
       "stream": "stdout",
       "text": [
        " 0.370302719827 0.777045909172 1542 919\n",
        "632\n",
        "collision!"
       ]
      },
      {
       "output_type": "stream",
       "stream": "stdout",
       "text": [
        " 0.604014479166 0.669856069219 1544 2164\n",
        "633\n",
        "collision!"
       ]
      },
      {
       "output_type": "stream",
       "stream": "stdout",
       "text": [
        " 0.10296890005 0.817855549273 1548 1786\n",
        "634\n",
        "collision!"
       ]
      },
      {
       "output_type": "stream",
       "stream": "stdout",
       "text": [
        " 0.00646232839765 0.879829695449 1554 1060\n",
        "635\n",
        "collision!"
       ]
      },
      {
       "output_type": "stream",
       "stream": "stdout",
       "text": [
        " 0.0310405887197 0.620931467711 1554 4491\n",
        "636\n",
        "collision!"
       ]
      },
      {
       "output_type": "stream",
       "stream": "stdout",
       "text": [
        " 0.365282788024 0.733129879525 1556 1466\n",
        "637\n",
        "collision!"
       ]
      },
      {
       "output_type": "stream",
       "stream": "stdout",
       "text": [
        " 0.96065488141 0.377214784214 1569 2197\n",
        "638\n",
        "collision!"
       ]
      },
      {
       "output_type": "stream",
       "stream": "stdout",
       "text": [
        " 0.99662052949 0.83506253585 1574 467\n",
        "639\n",
        "collision!"
       ]
      },
      {
       "output_type": "stream",
       "stream": "stdout",
       "text": [
        " 0.817602404081 0.949778488209 1574 3614\n",
        "640\n",
        "collision! 0.345199200843 0.316659719691 1574 3655\n",
        "641\n",
        "collision! 0.455005574103 0.416550326637 1574 4387\n",
        "642\n",
        "collision!"
       ]
      },
      {
       "output_type": "stream",
       "stream": "stdout",
       "text": [
        " 0.475403164261 0.319059778286 1575 1573\n",
        "643\n",
        "collision!"
       ]
      },
      {
       "output_type": "stream",
       "stream": "stdout",
       "text": [
        " 0.860923697185 0.777836016864 1580 8\n",
        "644\n",
        "collision!"
       ]
      },
      {
       "output_type": "stream",
       "stream": "stdout",
       "text": [
        " 0.457988684093 0.817877682848 1582 131\n",
        "645\n",
        "collision!"
       ]
      },
      {
       "output_type": "stream",
       "stream": "stdout",
       "text": [
        " 0.131674169549 0.703322967327 1583 213\n",
        "646\n",
        "collision!"
       ]
      },
      {
       "output_type": "stream",
       "stream": "stdout",
       "text": [
        " 0.38766113059 0.300408119691 1586 621\n",
        "647\n",
        "collision!"
       ]
      },
      {
       "output_type": "stream",
       "stream": "stdout",
       "text": [
        " 0.0859684033483 0.0415000989866 1587 1647\n",
        "648\n",
        "collision!"
       ]
      },
      {
       "output_type": "stream",
       "stream": "stdout",
       "text": [
        " 0.0611463817346 0.275356121055 1587 2879\n",
        "649\n",
        "collision!"
       ]
      },
      {
       "output_type": "stream",
       "stream": "stdout",
       "text": [
        " 0.130835314973 0.473760267469 1588 1117\n",
        "650\n",
        "collision! 0.0416794242461 0.251506360608 1588 1759\n",
        "651\n",
        "collision! 0.780833642554 0.908589203407 1588 1897\n",
        "652\n",
        "collision!"
       ]
      },
      {
       "output_type": "stream",
       "stream": "stdout",
       "text": [
        " 0.335652342202 0.0200107445703 1588 2677\n",
        "653\n",
        "collision! 0.546730760858 0.4964071293 1588 2698\n",
        "654\n",
        "collision!"
       ]
      },
      {
       "output_type": "stream",
       "stream": "stdout",
       "text": [
        " 0.179145471264 0.793949749237 1595 1303\n",
        "655\n",
        "collision!"
       ]
      },
      {
       "output_type": "stream",
       "stream": "stdout",
       "text": [
        " 0.517765478217 0.361693280132 1596 3394\n",
        "656\n",
        "collision!"
       ]
      },
      {
       "output_type": "stream",
       "stream": "stdout",
       "text": [
        " 0.845684282463 0.42242679321 1604 3040\n",
        "657\n",
        "collision!"
       ]
      },
      {
       "output_type": "stream",
       "stream": "stdout",
       "text": [
        " 0.689531422928 0.040738644803 1613 89\n",
        "658\n",
        "collision!"
       ]
      },
      {
       "output_type": "stream",
       "stream": "stdout",
       "text": [
        " 0.569212113309 0.246210520525 1613 1317\n",
        "659\n",
        "collision!"
       ]
      },
      {
       "output_type": "stream",
       "stream": "stdout",
       "text": [
        " 0.957170914119 0.991447367302 1613 4356\n",
        "660\n",
        "collision!"
       ]
      },
      {
       "output_type": "stream",
       "stream": "stdout",
       "text": [
        " 0.945018243776 0.442241362749 1625 469\n",
        "661\n",
        "collision! 0.216104442854 0.3776826211 1625 830\n",
        "662\n",
        "collision! 0.325471023355 0.555386065419 1625 910\n",
        "663\n",
        "collision!"
       ]
      },
      {
       "output_type": "stream",
       "stream": "stdout",
       "text": [
        " 0.409505350657 0.717896945168 1625 2031\n",
        "664\n",
        "collision! 0.161901135226 0.168977058576 1625 2131\n",
        "665\n",
        "collision! 0.522886823392 0.86503223278 1625 2623\n",
        "666\n",
        "collision!"
       ]
      },
      {
       "output_type": "stream",
       "stream": "stdout",
       "text": [
        " 0.510407991647 0.455549810806 1625 3616\n",
        "667\n",
        "collision! 0.723486850621 0.240657898708 1625 3639\n",
        "668\n",
        "collision!"
       ]
      },
      {
       "output_type": "stream",
       "stream": "stdout",
       "text": [
        " 0.156075086207 0.67857144029 1630 1866\n",
        "669\n",
        "collision!"
       ]
      },
      {
       "output_type": "stream",
       "stream": "stdout",
       "text": [
        " 0.944344897794 0.937313800829 1631 527\n",
        "670\n",
        "collision!"
       ]
      },
      {
       "output_type": "stream",
       "stream": "stdout",
       "text": [
        " 0.690028937335 0.0957813749991 1631 1564\n",
        "671\n",
        "collision!"
       ]
      },
      {
       "output_type": "stream",
       "stream": "stdout",
       "text": [
        " 0.38864905522 0.881675152874 1631 2643\n",
        "672\n",
        "collision!"
       ]
      },
      {
       "output_type": "stream",
       "stream": "stdout",
       "text": [
        " 0.183874804774 0.971131857796 1632 3611\n",
        "673\n",
        "collision! 0.323185385786 0.730882119867 1632 4237\n",
        "674\n",
        "collision!"
       ]
      },
      {
       "output_type": "stream",
       "stream": "stdout",
       "text": [
        " 0.563842969628 0.876660803202 1636 1601\n",
        "675\n",
        "collision!"
       ]
      },
      {
       "output_type": "stream",
       "stream": "stdout",
       "text": [
        " 0.596279640715 0.219132381286 1637 555\n",
        "676\n",
        "collision! 0.101383993983 0.099929368257 1637 1304\n",
        "677\n",
        "collision!"
       ]
      },
      {
       "output_type": "stream",
       "stream": "stdout",
       "text": [
        " 0.17146493242 0.0120203487268 1640 1864\n",
        "678\n",
        "collision!"
       ]
      },
      {
       "output_type": "stream",
       "stream": "stdout",
       "text": [
        " 0.521504371073 0.118284903483 1644 57\n",
        "679\n",
        "collision!"
       ]
      },
      {
       "output_type": "stream",
       "stream": "stdout",
       "text": [
        " 0.540556511325 0.446392900395 1657 1444\n",
        "680\n",
        "collision!"
       ]
      },
      {
       "output_type": "stream",
       "stream": "stdout",
       "text": [
        " 0.222016509267 0.960197709042 1668 2106\n",
        "681\n",
        "collision!"
       ]
      },
      {
       "output_type": "stream",
       "stream": "stdout",
       "text": [
        " 0.725843671899 0.73297474461 1675 2802\n",
        "682\n",
        "collision!"
       ]
      },
      {
       "output_type": "stream",
       "stream": "stdout",
       "text": [
        " 0.744416252828 0.695383908523 1678 820\n",
        "683\n",
        "collision!"
       ]
      },
      {
       "output_type": "stream",
       "stream": "stdout",
       "text": [
        " 0.480539713717 0.779894646959 1681 1497\n",
        "684\n",
        "collision! 0.0052973602061 0.508789506464 1681 2000\n",
        "685\n",
        "collision!"
       ]
      },
      {
       "output_type": "stream",
       "stream": "stdout",
       "text": [
        " 0.45349434844 0.00121817530182 1681 2694\n",
        "686\n",
        "collision! 0.606071824963 0.665454774769 1681 2944\n",
        "687\n",
        "collision!"
       ]
      },
      {
       "output_type": "stream",
       "stream": "stdout",
       "text": [
        " 0.370901320396 0.390764677793 1681 3873\n",
        "688\n",
        "collision!"
       ]
      },
      {
       "output_type": "stream",
       "stream": "stdout",
       "text": [
        " 0.231538710112 0.281313545163 1684 3976\n",
        "689\n",
        "collision!"
       ]
      },
      {
       "output_type": "stream",
       "stream": "stdout",
       "text": [
        " 0.662262897196 0.260019573407 1689 2090\n",
        "690\n",
        "collision!"
       ]
      },
      {
       "output_type": "stream",
       "stream": "stdout",
       "text": [
        " 0.285876093387 0.180897436569 1691 306\n",
        "691\n",
        "collision!"
       ]
      },
      {
       "output_type": "stream",
       "stream": "stdout",
       "text": [
        " 0.165921019125 0.404876910568 1691 3335\n",
        "692\n",
        "collision! 0.399245771738 0.410618885484 1691 3477\n",
        "693\n",
        "collision! 0.420656954278 0.624990800817 1691 3855\n",
        "694\n",
        "collision!"
       ]
      },
      {
       "output_type": "stream",
       "stream": "stdout",
       "text": [
        " 0.376189119926 0.162208417417 1691 4543\n",
        "695\n",
        "collision!"
       ]
      },
      {
       "output_type": "stream",
       "stream": "stdout",
       "text": [
        " 0.184089764395 0.19791295353 1696 3894\n",
        "696\n",
        "collision!"
       ]
      },
      {
       "output_type": "stream",
       "stream": "stdout",
       "text": [
        " 0.0869157122631 0.945514288854 1698 4126\n",
        "697\n",
        "collision!"
       ]
      },
      {
       "output_type": "stream",
       "stream": "stdout",
       "text": [
        " 0.155939699514 0.309798534348 1705 72\n",
        "698\n",
        "collision! 0.469130138578 0.445502946144 1705 834\n",
        "699\n",
        "collision!"
       ]
      },
      {
       "output_type": "stream",
       "stream": "stdout",
       "text": [
        " 0.093449612568 0.534932157202 1705 1106\n",
        "700\n",
        "collision!"
       ]
      },
      {
       "output_type": "stream",
       "stream": "stdout",
       "text": [
        " 0.347868394056 0.148773584735 1705 3961\n",
        "701\n",
        "collision!"
       ]
      },
      {
       "output_type": "stream",
       "stream": "stdout",
       "text": [
        " 0.12460027456 0.645982786165 1710 2119\n",
        "702\n",
        "collision! 0.507627741375 0.93192139033 1710 2597\n",
        "703\n",
        "collision!"
       ]
      },
      {
       "output_type": "stream",
       "stream": "stdout",
       "text": [
        " 0.879446286299 0.437217535363 1720 3463\n",
        "704\n",
        "collision!"
       ]
      },
      {
       "output_type": "stream",
       "stream": "stdout",
       "text": [
        " 0.187566736309 0.925827620773 1720 4452\n",
        "705\n",
        "collision!"
       ]
      },
      {
       "output_type": "stream",
       "stream": "stdout",
       "text": [
        " 0.526866564388 0.356532018897 1728 124\n",
        "706\n",
        "collision! 0.295682580723 0.266180168546 1728 716\n",
        "707\n",
        "collision!"
       ]
      },
      {
       "output_type": "stream",
       "stream": "stdout",
       "text": [
        " 0.351904176353 0.149512343103 1728 2012\n",
        "708\n",
        "collision!"
       ]
      },
      {
       "output_type": "stream",
       "stream": "stdout",
       "text": [
        " 0.693318206661 0.00958690788806 1728 4401\n",
        "709\n",
        "collision!"
       ]
      },
      {
       "output_type": "stream",
       "stream": "stdout",
       "text": [
        " 0.827640655744 0.305133519197 1732 4081\n",
        "710\n",
        "collision!"
       ]
      },
      {
       "output_type": "stream",
       "stream": "stdout",
       "text": [
        " 0.763090809086 0.145093532046 1733 1091\n",
        "711\n",
        "collision!"
       ]
      },
      {
       "output_type": "stream",
       "stream": "stdout",
       "text": [
        " 0.529661211913 0.687781282023 1738 1165\n",
        "712\n",
        "collision!"
       ]
      },
      {
       "output_type": "stream",
       "stream": "stdout",
       "text": [
        " 0.404650242967 0.822736299617 1748 2438\n",
        "713\n",
        "collision!"
       ]
      },
      {
       "output_type": "stream",
       "stream": "stdout",
       "text": [
        " 0.98311229689 0.894391685121 1754 3373\n",
        "714\n",
        "collision!"
       ]
      },
      {
       "output_type": "stream",
       "stream": "stdout",
       "text": [
        " 0.84457501646 0.706703484504 1758 3036\n",
        "715\n",
        "collision!"
       ]
      },
      {
       "output_type": "stream",
       "stream": "stdout",
       "text": [
        " 0.598377721866 0.774684668985 1758 4078\n",
        "716\n",
        "collision!"
       ]
      },
      {
       "output_type": "stream",
       "stream": "stdout",
       "text": [
        " 0.584482998576 0.31248777593 1768 2761\n",
        "717\n",
        "collision!"
       ]
      },
      {
       "output_type": "stream",
       "stream": "stdout",
       "text": [
        " 0.103982138368 0.796432080855 1768 4539\n",
        "718\n",
        "collision!"
       ]
      },
      {
       "output_type": "stream",
       "stream": "stdout",
       "text": [
        " 0.877461027662 0.576274083439 1778 633\n",
        "719\n",
        "collision!"
       ]
      },
      {
       "output_type": "stream",
       "stream": "stdout",
       "text": [
        " 0.537792180424 0.58097389348 1780 3448\n",
        "720\n",
        "collision!"
       ]
      },
      {
       "output_type": "stream",
       "stream": "stdout",
       "text": [
        " 0.907618432997 0.185584233618 1782 1879\n",
        "721\n",
        "collision!"
       ]
      },
      {
       "output_type": "stream",
       "stream": "stdout",
       "text": [
        " 0.179434070593 0.519538165869 1789 1409\n",
        "722\n",
        "collision!"
       ]
      },
      {
       "output_type": "stream",
       "stream": "stdout",
       "text": [
        " 0.923467291948 0.744451670921 1794 57\n",
        "723\n",
        "collision!"
       ]
      },
      {
       "output_type": "stream",
       "stream": "stdout",
       "text": [
        " 0.912062957659 0.961227900796 1795 3550\n",
        "724\n",
        "collision!"
       ]
      },
      {
       "output_type": "stream",
       "stream": "stdout",
       "text": [
        " 0.937498021658 0.702227802229 1799 1235\n",
        "725\n",
        "collision!"
       ]
      },
      {
       "output_type": "stream",
       "stream": "stdout",
       "text": [
        " 0.93090127027 0.251503997464 1801 179\n",
        "726\n",
        "collision!"
       ]
      },
      {
       "output_type": "stream",
       "stream": "stdout",
       "text": [
        " 0.247458265059 0.783028324548 1801 3822\n",
        "727\n",
        "collision!"
       ]
      },
      {
       "output_type": "stream",
       "stream": "stdout",
       "text": [
        " 0.232589558604 0.646097468471 1802 2433\n",
        "728\n",
        "collision!"
       ]
      },
      {
       "output_type": "stream",
       "stream": "stdout",
       "text": [
        " 0.156512099405 0.202293492177 1803 1381\n",
        "729\n",
        "collision!"
       ]
      },
      {
       "output_type": "stream",
       "stream": "stdout",
       "text": [
        " 0.0431040804559 0.682855961187 1807 1287\n",
        "730\n",
        "collision!"
       ]
      },
      {
       "output_type": "stream",
       "stream": "stdout",
       "text": [
        " 0.197222614904 0.94805846357 1807 3242\n",
        "731\n",
        "collision!"
       ]
      },
      {
       "output_type": "stream",
       "stream": "stdout",
       "text": [
        " 0.618321709793 0.783924736908 1809 2240\n",
        "732\n",
        "collision!"
       ]
      },
      {
       "output_type": "stream",
       "stream": "stdout",
       "text": [
        " 0.364020433789 0.242582296961 1811 131\n",
        "733\n",
        "collision!"
       ]
      },
      {
       "output_type": "stream",
       "stream": "stdout",
       "text": [
        " 0.189507143368 0.462059915363 1813 542\n",
        "734\n",
        "collision! 0.765359404271 0.878621876161 1813 1130\n",
        "735\n",
        "collision! 0.399644322683 0.167462942895 1813 1235\n",
        "736\n",
        "collision!"
       ]
      },
      {
       "output_type": "stream",
       "stream": "stdout",
       "text": [
        " 0.976813249376 0.874378284237 1813 2304\n",
        "737\n",
        "collision! 0.770054073626 0.421677498123 1813 2849\n",
        "738\n",
        "collision!"
       ]
      },
      {
       "output_type": "stream",
       "stream": "stdout",
       "text": [
        " 0.594107696984 0.69635250585 1813 3311\n",
        "739\n",
        "collision!"
       ]
      },
      {
       "output_type": "stream",
       "stream": "stdout",
       "text": [
        " 0.852260436187 0.0730208612195 1814 421\n",
        "740\n",
        "collision! 0.0340347300606 0.121427497715 1814 474\n",
        "741\n",
        "collision! 0.355897936799 0.768594927477 1814 521\n",
        "742\n",
        "collision! 0.0962115406227 0.037336438003 1814 638\n",
        "743\n",
        "collision!"
       ]
      },
      {
       "output_type": "stream",
       "stream": "stdout",
       "text": [
        " 0.893717549231 0.267615124634 1814 1709\n",
        "744\n",
        "collision!"
       ]
      },
      {
       "output_type": "stream",
       "stream": "stdout",
       "text": [
        " 0.274171136219 0.347296590913 1814 3086\n",
        "745\n",
        "collision! 0.488821065529 0.973588810032 1814 3857\n",
        "746\n",
        "collision! 0.415595047307 0.760960606301 1814 3877\n",
        "747\n",
        "collision!"
       ]
      },
      {
       "output_type": "stream",
       "stream": "stdout",
       "text": [
        " 0.990813463843 0.116056080721 1821 171\n",
        "748\n",
        "collision!"
       ]
      },
      {
       "output_type": "stream",
       "stream": "stdout",
       "text": [
        " 0.859173610958 0.372335068832 1821 3569\n",
        "749\n",
        "collision!"
       ]
      },
      {
       "output_type": "stream",
       "stream": "stdout",
       "text": [
        " 0.0448853613838 0.0249187570841 1823 1103\n",
        "750\n",
        "collision! 0.0336728104239 0.496608046725 1823 1115\n",
        "751\n",
        "collision!"
       ]
      },
      {
       "output_type": "stream",
       "stream": "stdout",
       "text": [
        " 0.936673101788 0.792146863734 1825 2806\n",
        "752\n",
        "collision!"
       ]
      },
      {
       "output_type": "stream",
       "stream": "stdout",
       "text": [
        " 0.455626013971 0.0467053211759 1828 3170\n",
        "753\n",
        "collision!"
       ]
      },
      {
       "output_type": "stream",
       "stream": "stdout",
       "text": [
        " 0.929708667272 0.437045092746 1833 1537\n",
        "754\n",
        "collision!"
       ]
      },
      {
       "output_type": "stream",
       "stream": "stdout",
       "text": [
        " 0.301083724353 0.577390939694 1836 103\n",
        "755\n",
        "collision!"
       ]
      },
      {
       "output_type": "stream",
       "stream": "stdout",
       "text": [
        " 0.740789071016 0.686333535637 1839 1165\n",
        "756\n",
        "collision! 0.113450130185 0.387034548808 1839 1662\n",
        "757\n",
        "collision! 0.518643049048 0.0176336648048 1839 2021\n",
        "758\n",
        "collision!"
       ]
      },
      {
       "output_type": "stream",
       "stream": "stdout",
       "text": [
        " 0.868415411215 0.529804756294 1839 2496\n",
        "759\n",
        "collision!"
       ]
      },
      {
       "output_type": "stream",
       "stream": "stdout",
       "text": [
        " 0.891659596757 0.286261597709 1840 3610\n",
        "760\n",
        "collision!"
       ]
      },
      {
       "output_type": "stream",
       "stream": "stdout",
       "text": [
        " 0.272905455295 0.954499982268 1841 336\n",
        "761\n",
        "collision!"
       ]
      },
      {
       "output_type": "stream",
       "stream": "stdout",
       "text": [
        " 0.256730844721 0.577632661216 1842 1634\n",
        "762\n",
        "collision!"
       ]
      },
      {
       "output_type": "stream",
       "stream": "stdout",
       "text": [
        " 0.329534419619 0.00888635928536 1844 755\n",
        "763\n",
        "collision!"
       ]
      },
      {
       "output_type": "stream",
       "stream": "stdout",
       "text": [
        " 0.537231663423 0.321604093604 1844 2052\n",
        "764\n",
        "collision!"
       ]
      },
      {
       "output_type": "stream",
       "stream": "stdout",
       "text": [
        " 0.441219768482 0.00643488743044 1851 2575\n",
        "765\n",
        "collision!"
       ]
      },
      {
       "output_type": "stream",
       "stream": "stdout",
       "text": [
        " 0.813522603326 0.0437553505953 1855 467\n",
        "766\n",
        "collision!"
       ]
      },
      {
       "output_type": "stream",
       "stream": "stdout",
       "text": [
        " 0.737395961266 0.111885168513 1855 2634\n",
        "767\n",
        "collision!"
       ]
      },
      {
       "output_type": "stream",
       "stream": "stdout",
       "text": [
        " 0.916499944427 0.00810687205141 1859 4502\n",
        "768\n",
        "collision!"
       ]
      },
      {
       "output_type": "stream",
       "stream": "stdout",
       "text": [
        " 0.374121125439 0.792258961 1861 3385\n",
        "769\n",
        "collision!"
       ]
      },
      {
       "output_type": "stream",
       "stream": "stdout",
       "text": [
        " 0.220401649943 0.456830135492 1862 2496\n",
        "770\n",
        "collision!"
       ]
      },
      {
       "output_type": "stream",
       "stream": "stdout",
       "text": [
        " 0.753793939011 0.842351678645 1874 3858\n",
        "771\n",
        "collision!"
       ]
      },
      {
       "output_type": "stream",
       "stream": "stdout",
       "text": [
        " 0.35332794911 0.358543522477 1883 1983\n",
        "772\n",
        "collision!"
       ]
      },
      {
       "output_type": "stream",
       "stream": "stdout",
       "text": [
        " 0.439961851336 0.774141710381 1886 131\n",
        "773\n",
        "collision! 0.842557709686 0.618911402727 1886 485\n",
        "774\n",
        "collision!"
       ]
      },
      {
       "output_type": "stream",
       "stream": "stdout",
       "text": [
        " 0.88382511274 0.822963430607 1890 3745\n",
        "775\n",
        "collision!"
       ]
      },
      {
       "output_type": "stream",
       "stream": "stdout",
       "text": [
        " 0.329009701947 0.769044625164 1891 2453\n",
        "776\n",
        "collision! 0.677681636275 0.017530524463 1891 2575\n",
        "777\n",
        "collision!"
       ]
      },
      {
       "output_type": "stream",
       "stream": "stdout",
       "text": [
        " 0.560136055934 0.420507434962 1901 1015\n",
        "778\n",
        "collision!"
       ]
      },
      {
       "output_type": "stream",
       "stream": "stdout",
       "text": [
        " 0.253771751328 0.830522852473 1903 4543\n",
        "779\n",
        "collision!"
       ]
      },
      {
       "output_type": "stream",
       "stream": "stdout",
       "text": [
        " 0.796580253727 0.0658745632934 1914 3995\n",
        "780\n",
        "collision!"
       ]
      },
      {
       "output_type": "stream",
       "stream": "stdout",
       "text": [
        " 0.395882522778 0.877256381873 1918 4512\n",
        "781\n",
        "collision!"
       ]
      },
      {
       "output_type": "stream",
       "stream": "stdout",
       "text": [
        " 0.912738324337 0.901779976477 1922 3344\n",
        "782\n",
        "collision!"
       ]
      },
      {
       "output_type": "stream",
       "stream": "stdout",
       "text": [
        " 0.145356081757 0.3015534757 1927 3745\n",
        "783\n",
        "collision!"
       ]
      },
      {
       "output_type": "stream",
       "stream": "stdout",
       "text": [
        " 0.523856845385 0.0520862748958 1929 2784\n",
        "784\n",
        "collision! 0.417072287511 0.171875772555 1929 3591\n",
        "785\n",
        "collision!"
       ]
      },
      {
       "output_type": "stream",
       "stream": "stdout",
       "text": [
        " 0.339684006081 0.428448615603 1931 2634\n",
        "786\n",
        "collision!"
       ]
      },
      {
       "output_type": "stream",
       "stream": "stdout",
       "text": [
        " 0.386971837288 0.574141020498 1932 600\n",
        "787\n",
        "collision!"
       ]
      },
      {
       "output_type": "stream",
       "stream": "stdout",
       "text": [
        " 0.73717906255 0.187778759918 1934 755\n",
        "788\n",
        "collision!"
       ]
      },
      {
       "output_type": "stream",
       "stream": "stdout",
       "text": [
        " 0.41453902871 0.474420804554 1935 3465\n",
        "789\n",
        "collision!"
       ]
      },
      {
       "output_type": "stream",
       "stream": "stdout",
       "text": [
        " 0.74098681839 0.035198348835 1941 2784\n",
        "790\n",
        "collision!"
       ]
      },
      {
       "output_type": "stream",
       "stream": "stdout",
       "text": [
        " 0.65675891946 0.310914043997 1949 228\n",
        "791\n",
        "collision!"
       ]
      },
      {
       "output_type": "stream",
       "stream": "stdout",
       "text": [
        " 0.354801455841 0.110280895335 1949 2238\n",
        "792\n",
        "collision!"
       ]
      },
      {
       "output_type": "stream",
       "stream": "stdout",
       "text": [
        " 0.505327771825 0.89762955261 1954 4430\n",
        "793\n",
        "collision!"
       ]
      },
      {
       "output_type": "stream",
       "stream": "stdout",
       "text": [
        " 0.687326128686 0.528087603272 1959 2784\n",
        "794\n",
        "collision!"
       ]
      },
      {
       "output_type": "stream",
       "stream": "stdout",
       "text": [
        " 0.64850720168 0.376842536286 1963 3705\n",
        "795\n",
        "collision!"
       ]
      },
      {
       "output_type": "stream",
       "stream": "stdout",
       "text": [
        " 0.840540656751 0.422364470208 1964 3036\n",
        "796\n",
        "collision!"
       ]
      },
      {
       "output_type": "stream",
       "stream": "stdout",
       "text": [
        " 0.257833704037 0.528281929406 1968 1786\n",
        "797\n",
        "collision!"
       ]
      },
      {
       "output_type": "stream",
       "stream": "stdout",
       "text": [
        " 0.254401529723 0.157144196738 1968 4401\n",
        "798\n",
        "collision!"
       ]
      },
      {
       "output_type": "stream",
       "stream": "stdout",
       "text": [
        " 0.984868699603 0.105516757642 1971 2744\n",
        "799\n",
        "collision! 0.315778627779 0.0439915356392 1971 2876\n",
        "800\n",
        "collision! 0.630892309175 0.497850714966 1971 2906\n",
        "801\n",
        "collision!"
       ]
      },
      {
       "output_type": "stream",
       "stream": "stdout",
       "text": [
        " 0.627854758554 0.272735406323 1971 4156\n",
        "802\n",
        "collision!"
       ]
      },
      {
       "output_type": "stream",
       "stream": "stdout",
       "text": [
        " 0.91688152617 0.956136974486 1973 1894\n",
        "803\n",
        "collision!"
       ]
      },
      {
       "output_type": "stream",
       "stream": "stdout",
       "text": [
        " 0.842241788063 0.196277645618 1979 1025\n",
        "804\n",
        "collision!"
       ]
      },
      {
       "output_type": "stream",
       "stream": "stdout",
       "text": [
        " 0.147733955712 0.3821178872 1984 1784\n",
        "805\n",
        "collision!"
       ]
      },
      {
       "output_type": "stream",
       "stream": "stdout",
       "text": [
        " 0.184976201553 0.0422530601307 1987 2694\n",
        "806\n",
        "collision!"
       ]
      },
      {
       "output_type": "stream",
       "stream": "stdout",
       "text": [
        " 0.998311576163 0.371559545307 1988 2987\n",
        "807\n",
        "collision!"
       ]
      },
      {
       "output_type": "stream",
       "stream": "stdout",
       "text": [
        " 0.726652155374 0.717510255368 1992 2885\n",
        "808\n",
        "collision!"
       ]
      },
      {
       "output_type": "stream",
       "stream": "stdout",
       "text": [
        " 0.134764789335 0.133781179295 1993 2453\n",
        "809\n",
        "collision!"
       ]
      },
      {
       "output_type": "stream",
       "stream": "stdout",
       "text": [
        " 0.388943502506 0.705383939168 1998 3636\n",
        "810\n",
        "collision!"
       ]
      },
      {
       "output_type": "stream",
       "stream": "stdout",
       "text": [
        " 0.930549861079 0.668050889458 2005 972\n",
        "811\n",
        "collision! 0.0464608631384 0.276637873807 2005 1366\n",
        "812\n",
        "collision!"
       ]
      },
      {
       "output_type": "stream",
       "stream": "stdout",
       "text": [
        " 0.0646350298841 0.0499835275356 2026 1381\n",
        "813\n",
        "collision! 0.547695267456 0.89980758757 2026 1471\n",
        "814\n",
        "collision!"
       ]
      },
      {
       "output_type": "stream",
       "stream": "stdout",
       "text": [
        " 0.489372788805 0.193862919471 2028 2546\n",
        "815\n",
        "collision!"
       ]
      },
      {
       "output_type": "stream",
       "stream": "stdout",
       "text": [
        " 0.314274664378 0.878992458059 2031 3576\n",
        "816\n",
        "collision!"
       ]
      },
      {
       "output_type": "stream",
       "stream": "stdout",
       "text": [
        " 0.84958178747 0.0333462809741 2032 3421\n",
        "817\n",
        "collision!"
       ]
      },
      {
       "output_type": "stream",
       "stream": "stdout",
       "text": [
        " 0.473228293976 0.589827332069 2037 1266\n",
        "818\n",
        "collision!"
       ]
      },
      {
       "output_type": "stream",
       "stream": "stdout",
       "text": [
        " 0.0925293432616 0.265234924264 2041 2322\n",
        "819\n",
        "collision! 0.964234336632 0.385948054765 2041 2753\n",
        "820\n",
        "collision!"
       ]
      },
      {
       "output_type": "stream",
       "stream": "stdout",
       "text": [
        " 0.595952987178 0.00297804390385 2041 4270\n",
        "821\n",
        "collision!"
       ]
      },
      {
       "output_type": "stream",
       "stream": "stdout",
       "text": [
        " 0.436065980602 0.433031162322 2042 1067\n",
        "822\n",
        "collision!"
       ]
      },
      {
       "output_type": "stream",
       "stream": "stdout",
       "text": [
        " 0.144593320649 0.555273993048 2043 4334\n",
        "823\n",
        "collision!"
       ]
      },
      {
       "output_type": "stream",
       "stream": "stdout",
       "text": [
        " 0.770623412426 0.156763385672 2046 322\n",
        "824\n",
        "collision! 0.907353089927 0.0204364523881 2046 1043\n",
        "825\n",
        "collision!"
       ]
      },
      {
       "output_type": "stream",
       "stream": "stdout",
       "text": [
        " 0.526519402576 0.309249920354 2046 2494\n",
        "826\n",
        "collision!"
       ]
      },
      {
       "output_type": "stream",
       "stream": "stdout",
       "text": [
        " 0.0885637990585 0.445797357843 2047 184\n",
        "827\n",
        "collision!"
       ]
      },
      {
       "output_type": "stream",
       "stream": "stdout",
       "text": [
        " 0.575287615528 0.435165113547 2050 3737\n",
        "828\n",
        "collision!"
       ]
      },
      {
       "output_type": "stream",
       "stream": "stdout",
       "text": [
        " 0.070980061776 0.413112304176 2051 2052\n",
        "829\n",
        "collision!"
       ]
      },
      {
       "output_type": "stream",
       "stream": "stdout",
       "text": [
        " 0.200077297504 0.174097601675 2059 213\n",
        "830\n",
        "collision!"
       ]
      },
      {
       "output_type": "stream",
       "stream": "stdout",
       "text": [
        " 0.869945712565 0.415703829149 2064 1540\n",
        "831\n",
        "collision!"
       ]
      },
      {
       "output_type": "stream",
       "stream": "stdout",
       "text": [
        " 0.751747590982 0.0376100541202 2071 381\n",
        "832\n",
        "collision! 0.684995335394 0.791586196796 2071 1108\n",
        "833\n",
        "collision!"
       ]
      },
      {
       "output_type": "stream",
       "stream": "stdout",
       "text": [
        " 0.357412498773 0.327572828825 2071 1706\n",
        "834\n",
        "collision!"
       ]
      },
      {
       "output_type": "stream",
       "stream": "stdout",
       "text": [
        " 0.0880177194109 0.0518974988858 2079 1784\n",
        "835\n",
        "collision!"
       ]
      },
      {
       "output_type": "stream",
       "stream": "stdout",
       "text": [
        " 0.352452200247 0.455853771423 2091 258\n",
        "836\n",
        "collision!"
       ]
      },
      {
       "output_type": "stream",
       "stream": "stdout",
       "text": [
        " 0.37269092249 0.384211744149 2096 131\n",
        "837\n",
        "collision!"
       ]
      },
      {
       "output_type": "stream",
       "stream": "stdout",
       "text": [
        " 0.712462184557 0.0494699620673 2097 2575\n",
        "838\n",
        "collision!"
       ]
      },
      {
       "output_type": "stream",
       "stream": "stdout",
       "text": [
        " 0.752506523799 0.446915229849 2100 2052\n",
        "839\n",
        "collision!"
       ]
      },
      {
       "output_type": "stream",
       "stream": "stdout",
       "text": [
        " 0.167181300769 0.273936882806 2108 4147\n",
        "840\n",
        "collision!"
       ]
      },
      {
       "output_type": "stream",
       "stream": "stdout",
       "text": [
        " 0.218617107765 0.217927085637 2112 4081\n",
        "841\n",
        "collision!"
       ]
      },
      {
       "output_type": "stream",
       "stream": "stdout",
       "text": [
        " 0.334990829747 0.786147513501 2116 3611\n",
        "842\n",
        "collision!"
       ]
      },
      {
       "output_type": "stream",
       "stream": "stdout",
       "text": [
        " 0.674003335954 0.82432729536 2118 383\n",
        "843\n",
        "collision!"
       ]
      },
      {
       "output_type": "stream",
       "stream": "stdout",
       "text": [
        " 0.6938035155 0.667730587456 2118 2612\n",
        "844\n",
        "collision!"
       ]
      },
      {
       "output_type": "stream",
       "stream": "stdout",
       "text": [
        " 0.729972561663 0.390400759757 2118 3799\n",
        "845\n",
        "collision!"
       ]
      },
      {
       "output_type": "stream",
       "stream": "stdout",
       "text": [
        " 0.208892640593 0.881521216041 2124 3443\n",
        "846\n",
        "collision!"
       ]
      },
      {
       "output_type": "stream",
       "stream": "stdout",
       "text": [
        " 0.905113261509 0.566336367398 2129 1667\n",
        "847\n",
        "collision!"
       ]
      },
      {
       "output_type": "stream",
       "stream": "stdout",
       "text": [
        " 0.964532375922 0.88684982987 2141 2193\n",
        "848\n",
        "collision!"
       ]
      },
      {
       "output_type": "stream",
       "stream": "stdout",
       "text": [
        " 0.919547007691 0.0763347600694 2143 1305\n",
        "849\n",
        "collision!"
       ]
      },
      {
       "output_type": "stream",
       "stream": "stdout",
       "text": [
        " 0.957789072413 0.409539449854 2146 730\n",
        "850\n",
        "collision!"
       ]
      },
      {
       "output_type": "stream",
       "stream": "stdout",
       "text": [
        " 0.480631175541 0.584117507545 2146 2274\n",
        "851\n",
        "collision! 0.792746341322 0.253276999723 2146 2680\n",
        "852\n",
        "collision!"
       ]
      },
      {
       "output_type": "stream",
       "stream": "stdout",
       "text": [
        " 0.423461549343 0.146920326461 2146 3873\n",
        "853\n",
        "collision! 0.23442145284 0.385484381616 2146 4320\n",
        "854\n",
        "collision! 0.372510556658 0.417616776046 2146 4434\n",
        "855\n",
        "collision!"
       ]
      },
      {
       "output_type": "stream",
       "stream": "stdout",
       "text": [
        " 0.0694059159791 0.666309745466 2150 89\n",
        "856\n",
        "collision! 0.519474012035 0.275907465352 2150 272\n",
        "857\n",
        "collision! 0.51008419481 0.367320535795 2150 494\n",
        "858\n",
        "collision!"
       ]
      },
      {
       "output_type": "stream",
       "stream": "stdout",
       "text": [
        " 0.557058446346 0.0341651791943 2150 1317\n",
        "859\n",
        "collision!"
       ]
      },
      {
       "output_type": "stream",
       "stream": "stdout",
       "text": [
        " 0.260297537298 0.00147539445965 2150 2708\n",
        "860\n",
        "collision! 0.705202738575 0.648370130248 2150 2928\n",
        "861\n",
        "collision! 0.46061491366 0.020053080192 2150 2980\n",
        "862\n",
        "collision!"
       ]
      },
      {
       "output_type": "stream",
       "stream": "stdout",
       "text": [
        " 0.947487863762 0.0160159546292 2154 2727\n",
        "863\n",
        "collision! 0.188103188829 0.544367191782 2154 3048\n",
        "864\n",
        "collision!"
       ]
      },
      {
       "output_type": "stream",
       "stream": "stdout",
       "text": [
        " 0.386735959804 0.918865484632 2160 470\n",
        "865\n",
        "collision! 0.289237479175 0.631634729595 2160 1234\n",
        "866\n",
        "collision!"
       ]
      },
      {
       "output_type": "stream",
       "stream": "stdout",
       "text": [
        " 0.124571376286 0.0689041411873 2160 1879\n",
        "867\n",
        "collision! 0.862536727328 0.229994766144 2160 2313\n",
        "868\n",
        "collision!"
       ]
      },
      {
       "output_type": "stream",
       "stream": "stdout",
       "text": [
        " 0.773535263098 0.602527891412 2161 156\n",
        "869\n",
        "collision!"
       ]
      },
      {
       "output_type": "stream",
       "stream": "stdout",
       "text": [
        " 0.8994855137 0.154045061741 2169 1997\n",
        "870\n",
        "collision!"
       ]
      },
      {
       "output_type": "stream",
       "stream": "stdout",
       "text": [
        " 0.886770718623 0.807018219195 2170 510\n",
        "871\n",
        "collision!"
       ]
      },
      {
       "output_type": "stream",
       "stream": "stdout",
       "text": [
        " 0.747111347114 0.541212444735 2170 1537\n",
        "872\n",
        "collision!"
       ]
      },
      {
       "output_type": "stream",
       "stream": "stdout",
       "text": [
        " 0.958963085225 0.235885846855 2176 1366\n",
        "873\n",
        "collision! 0.212128322677 0.567764755588 2176 1574\n",
        "874\n",
        "collision! 0.991962089301 0.619839143796 2176 2167\n",
        "875\n",
        "collision!"
       ]
      },
      {
       "output_type": "stream",
       "stream": "stdout",
       "text": [
        " 0.970885066673 0.104699348774 2176 3894\n",
        "876\n",
        "collision!"
       ]
      },
      {
       "output_type": "stream",
       "stream": "stdout",
       "text": [
        " 0.696239906325 0.248924384767 2184 3988\n",
        "877\n",
        "collision!"
       ]
      },
      {
       "output_type": "stream",
       "stream": "stdout",
       "text": [
        " 0.0657441589631 0.813108858109 2190 2183\n",
        "878\n",
        "collision!"
       ]
      },
      {
       "output_type": "stream",
       "stream": "stdout",
       "text": [
        " 0.285598252184 0.0319464528053 2191 3373\n",
        "879\n",
        "collision! 0.648475803118 0.0629093622048 2191 3745\n",
        "880\n",
        "collision!"
       ]
      },
      {
       "output_type": "stream",
       "stream": "stdout",
       "text": [
        " 0.915861752191 0.399705533415 2191 4464\n",
        "881\n",
        "collision!"
       ]
      },
      {
       "output_type": "stream",
       "stream": "stdout",
       "text": [
        " 0.650787679458 0.766069531579 2192 2109\n",
        "882\n",
        "collision!"
       ]
      },
      {
       "output_type": "stream",
       "stream": "stdout",
       "text": [
        " 0.0431393418632 0.8435441885 2199 954\n",
        "883\n",
        "collision!"
       ]
      },
      {
       "output_type": "stream",
       "stream": "stdout",
       "text": [
        " 0.0881957366751 0.0587294489404 2200 4192\n",
        "884\n",
        "collision!"
       ]
      },
      {
       "output_type": "stream",
       "stream": "stdout",
       "text": [
        " 0.316179202429 0.276046456737 2204 2021\n",
        "885\n",
        "collision!"
       ]
      },
      {
       "output_type": "stream",
       "stream": "stdout",
       "text": [
        " 0.979976581821 0.0199147303153 2206 1162\n",
        "886\n",
        "collision! 0.74682993705 0.413273501729 2206 1999\n",
        "887\n",
        "collision!"
       ]
      },
      {
       "output_type": "stream",
       "stream": "stdout",
       "text": [
        " 0.766384978109 0.672337977749 2206 3589\n",
        "888\n",
        "collision! 0.2401169891 0.373923246828 2206 3993\n",
        "889\n",
        "collision!"
       ]
      },
      {
       "output_type": "stream",
       "stream": "stdout",
       "text": [
        " 0.536245428273 0.0998504156391 2208 4461\n",
        "890\n",
        "collision! 0.631391440678 0.925542778339 2209 807\n",
        "891\n",
        "collision!"
       ]
      },
      {
       "output_type": "stream",
       "stream": "stdout",
       "text": [
        " 0.567627108616 0.200560113287 2215 1537\n",
        "892\n",
        "collision!"
       ]
      },
      {
       "output_type": "stream",
       "stream": "stdout",
       "text": [
        " 0.118176832112 0.195791235258 2219 1060\n",
        "893\n",
        "collision! 0.670380988282 0.123036159403 2219 1808\n",
        "894\n",
        "collision! 0.717908761997 0.682313850439 2219 1934\n",
        "895\n",
        "collision!"
       ]
      },
      {
       "output_type": "stream",
       "stream": "stdout",
       "text": [
        " 0.0225549972525 0.0765681955134 2223 3025\n",
        "896\n",
        "collision!"
       ]
      },
      {
       "output_type": "stream",
       "stream": "stdout",
       "text": [
        " 0.299804303734 0.955983582398 2225 329\n",
        "897\n",
        "collision!"
       ]
      },
      {
       "output_type": "stream",
       "stream": "stdout",
       "text": [
        " 0.1406785809 0.194612056813 2226 2275\n",
        "898\n",
        "collision!"
       ]
      },
      {
       "output_type": "stream",
       "stream": "stdout",
       "text": [
        " 0.299102305251 0.0997734758166 2232 755\n",
        "899\n",
        "collision!"
       ]
      },
      {
       "output_type": "stream",
       "stream": "stdout",
       "text": [
        " 0.268703508854 0.53424750336 2234 4045\n",
        "900\n",
        "collision!"
       ]
      },
      {
       "output_type": "stream",
       "stream": "stdout",
       "text": [
        " 0.932775223136 0.171433382894 2242 16\n",
        "901\n",
        "collision!"
       ]
      },
      {
       "output_type": "stream",
       "stream": "stdout",
       "text": [
        " 0.601070917764 0.846172491128 2244 1103\n",
        "902\n",
        "collision!"
       ]
      },
      {
       "output_type": "stream",
       "stream": "stdout",
       "text": [
        " 0.0948701364671 0.0455490728296 2247 4279\n",
        "903\n",
        "collision!"
       ]
      },
      {
       "output_type": "stream",
       "stream": "stdout",
       "text": [
        " 0.0237401895558 0.0274955493995 2248 4047\n",
        "904\n",
        "collision!"
       ]
      },
      {
       "output_type": "stream",
       "stream": "stdout",
       "text": [
        " 0.983039132509 0.135883702693 2256 3220\n",
        "905\n",
        "collision!"
       ]
      },
      {
       "output_type": "stream",
       "stream": "stdout",
       "text": [
        " 0.825538325361 0.40811437557 2257 364\n",
        "906\n",
        "collision!"
       ]
      },
      {
       "output_type": "stream",
       "stream": "stdout",
       "text": [
        " 0.355884558705 0.347233306969 2257 2156\n",
        "907\n",
        "collision!"
       ]
      },
      {
       "output_type": "stream",
       "stream": "stdout",
       "text": [
        " 0.67344355321 0.167529670791 2257 3253\n",
        "908\n",
        "collision!"
       ]
      },
      {
       "output_type": "stream",
       "stream": "stdout",
       "text": [
        " 0.874532780151 0.288147755226 2259 1776\n",
        "909\n",
        "collision!"
       ]
      },
      {
       "output_type": "stream",
       "stream": "stdout",
       "text": [
        " 0.820447290713 0.438052825711 2262 461\n",
        "910\n",
        "collision!"
       ]
      },
      {
       "output_type": "stream",
       "stream": "stdout",
       "text": [
        " 0.917974443473 0.834703629721 2262 3239\n",
        "911\n",
        "collision!"
       ]
      },
      {
       "output_type": "stream",
       "stream": "stdout",
       "text": [
        " 0.70469832748 0.0857893732877 2262 4461\n",
        "912\n",
        "collision!"
       ]
      },
      {
       "output_type": "stream",
       "stream": "stdout",
       "text": [
        " 0.608723641957 0.735821949493 2263 1136\n",
        "913\n",
        "collision!"
       ]
      },
      {
       "output_type": "stream",
       "stream": "stdout",
       "text": [
        " 0.905920666628 0.499974709744 2263 2094\n",
        "914\n",
        "collision!"
       ]
      },
      {
       "output_type": "stream",
       "stream": "stdout",
       "text": [
        " 0.793608874752 0.285765679799 2266 1360\n",
        "915\n",
        "collision!"
       ]
      },
      {
       "output_type": "stream",
       "stream": "stdout",
       "text": [
        " 0.984180417742 0.401801879872 2268 1556\n",
        "916\n",
        "collision!"
       ]
      },
      {
       "output_type": "stream",
       "stream": "stdout",
       "text": [
        " 0.202375983398 0.213154023624 2273 736\n",
        "917\n",
        "collision!"
       ]
      },
      {
       "output_type": "stream",
       "stream": "stdout",
       "text": [
        " 0.790307193078 0.957644107778 2273 2731\n",
        "918\n",
        "collision!"
       ]
      },
      {
       "output_type": "stream",
       "stream": "stdout",
       "text": [
        " 0.624749102215 0.841434563852 2281 1381\n",
        "919\n",
        "collision!"
       ]
      },
      {
       "output_type": "stream",
       "stream": "stdout",
       "text": [
        " 0.927886500528 0.535188061002 2281 2807\n",
        "920\n",
        "collision!"
       ]
      },
      {
       "output_type": "stream",
       "stream": "stdout",
       "text": [
        " 0.504548142724 0.889513919184 2289 3250\n",
        "921\n",
        "collision!"
       ]
      },
      {
       "output_type": "stream",
       "stream": "stdout",
       "text": [
        " 0.0685090524268 0.42430618257 2293 52\n",
        "922\n",
        "collision!"
       ]
      },
      {
       "output_type": "stream",
       "stream": "stdout",
       "text": [
        " 0.364302642777 0.216663638694 2293 2427\n",
        "923\n",
        "collision!"
       ]
      },
      {
       "output_type": "stream",
       "stream": "stdout",
       "text": [
        " 0.572436133822 0.284852925088 2293 4220\n",
        "924\n",
        "collision!"
       ]
      },
      {
       "output_type": "stream",
       "stream": "stdout",
       "text": [
        " 0.0557686457815 0.625270884876 2299 2634\n",
        "925\n",
        "collision!"
       ]
      },
      {
       "output_type": "stream",
       "stream": "stdout",
       "text": [
        " 0.615071292959 0.00763046485887 2302 1409\n",
        "926\n",
        "collision!"
       ]
      },
      {
       "output_type": "stream",
       "stream": "stdout",
       "text": [
        " 0.440735863452 0.345933970728 2304 2629\n",
        "927\n",
        "collision!"
       ]
      },
      {
       "output_type": "stream",
       "stream": "stdout",
       "text": [
        " 0.870748205555 0.939338251489 2305 834\n",
        "928\n",
        "collision!"
       ]
      },
      {
       "output_type": "stream",
       "stream": "stdout",
       "text": [
        " 0.933496664161 0.85381322326 2306 3518\n",
        "929\n",
        "collision!"
       ]
      },
      {
       "output_type": "stream",
       "stream": "stdout",
       "text": [
        " 0.0486765341324 0.328258045759 2308 1716\n",
        "930\n",
        "collision!"
       ]
      },
      {
       "output_type": "stream",
       "stream": "stdout",
       "text": [
        " 0.931090023179 0.211944262816 2309 31\n",
        "931\n",
        "collision!"
       ]
      },
      {
       "output_type": "stream",
       "stream": "stdout",
       "text": [
        " 0.160159823781 0.78823103769 2312 3349\n",
        "932\n",
        "collision!"
       ]
      },
      {
       "output_type": "stream",
       "stream": "stdout",
       "text": [
        " 0.238637670545 0.597249745863 2314 4062\n",
        "933\n",
        "collision!"
       ]
      },
      {
       "output_type": "stream",
       "stream": "stdout",
       "text": [
        " 0.966191552356 0.248400012694 2316 4126\n",
        "934\n",
        "collision! 0.231618321604 0.513844037763 2317 336\n",
        "935\n",
        "collision!"
       ]
      },
      {
       "output_type": "stream",
       "stream": "stdout",
       "text": [
        " 0.509183042933 0.578492761628 2319 4182\n",
        "936\n",
        "collision!"
       ]
      },
      {
       "output_type": "stream",
       "stream": "stdout",
       "text": [
        " 0.564643833523 0.0860537553395 2331 2843\n",
        "937\n",
        "collision!"
       ]
      },
      {
       "output_type": "stream",
       "stream": "stdout",
       "text": [
        " 0.00272015194933 0.395577972705 2337 1663\n",
        "938\n",
        "collision!"
       ]
      },
      {
       "output_type": "stream",
       "stream": "stdout",
       "text": [
        " 0.138975542086 0.599395869291 2338 2941\n",
        "939\n",
        "collision!"
       ]
      },
      {
       "output_type": "stream",
       "stream": "stdout",
       "text": [
        " 0.981798460932 0.899653093975 2344 2874\n",
        "940\n",
        "collision!"
       ]
      },
      {
       "output_type": "stream",
       "stream": "stdout",
       "text": [
        " 0.654304733827 0.517767245096 2346 3421\n",
        "941\n",
        "collision!"
       ]
      },
      {
       "output_type": "stream",
       "stream": "stdout",
       "text": [
        " 0.324025415726 0.350448757484 2353 1659\n",
        "942\n",
        "collision! 0.582401202799 0.750408221062 2353 1688\n",
        "943\n",
        "collision!"
       ]
      },
      {
       "output_type": "stream",
       "stream": "stdout",
       "text": [
        " 0.30798606786 0.998521602173 2354 231\n",
        "944\n",
        "collision!"
       ]
      },
      {
       "output_type": "stream",
       "stream": "stdout",
       "text": [
        " 0.328520369573 0.897896873076 2358 510\n",
        "945\n",
        "collision!"
       ]
      },
      {
       "output_type": "stream",
       "stream": "stdout",
       "text": [
        " 0.450299207317 0.0331135140575 2361 1889\n",
        "946\n",
        "collision!"
       ]
      },
      {
       "output_type": "stream",
       "stream": "stdout",
       "text": [
        " 0.540162018913 0.555891250573 2367 1679\n",
        "947\n",
        "collision! 0.493344475997 0.185130816211 2367 1776\n",
        "948\n",
        "collision!"
       ]
      },
      {
       "output_type": "stream",
       "stream": "stdout",
       "text": [
        " 0.603501559471 0.480358229567 2367 3766\n",
        "949\n",
        "collision!"
       ]
      },
      {
       "output_type": "stream",
       "stream": "stdout",
       "text": [
        " 0.442324603264 0.0159418116241 2368 1381\n",
        "950\n",
        "collision! 0.446699837566 0.231060968143 2368 1627\n",
        "951\n",
        "collision!"
       ]
      },
      {
       "output_type": "stream",
       "stream": "stdout",
       "text": [
        " 0.173281441181 0.648096814007 2368 2662\n",
        "952\n",
        "collision! 0.596532889251 0.615895878276 2368 2726\n",
        "953\n",
        "collision! 0.891876808539 0.102542018114 2368 3379\n",
        "954\n",
        "collision!"
       ]
      },
      {
       "output_type": "stream",
       "stream": "stdout",
       "text": [
        " 0.606898279615 0.390880199351 2368 4039\n",
        "955\n",
        "collision!"
       ]
      },
      {
       "output_type": "stream",
       "stream": "stdout",
       "text": [
        " 0.488062691063 0.515860841508 2370 238\n",
        "956\n",
        "collision!"
       ]
      },
      {
       "output_type": "stream",
       "stream": "stdout",
       "text": [
        " 0.813952134149 0.445285772229 2371 90\n",
        "957\n",
        "collision! 0.695967066409 0.951969136671 2371 266\n",
        "958\n",
        "collision!"
       ]
      },
      {
       "output_type": "stream",
       "stream": "stdout",
       "text": [
        " 0.446433541213 0.145732632344 2371 1537\n",
        "959\n",
        "collision!"
       ]
      },
      {
       "output_type": "stream",
       "stream": "stdout",
       "text": [
        " 0.786004875065 0.121039264583 2375 4353\n",
        "960\n",
        "collision!"
       ]
      },
      {
       "output_type": "stream",
       "stream": "stdout",
       "text": [
        " 0.509665127646 0.640875332535 2383 179\n",
        "961\n",
        "collision!"
       ]
      },
      {
       "output_type": "stream",
       "stream": "stdout",
       "text": [
        " 0.602945926943 0.0786120972019 2387 1601\n",
        "962\n",
        "collision! 0.152597097905 0.263204252238 2387 2187\n",
        "963\n",
        "collision!"
       ]
      },
      {
       "output_type": "stream",
       "stream": "stdout",
       "text": [
        " 0.0599764212317 0.425095282723 2387 2883\n",
        "964\n",
        "collision! 0.180625963751 0.799299354569 2387 3545\n",
        "965\n",
        "collision!"
       ]
      },
      {
       "output_type": "stream",
       "stream": "stdout",
       "text": [
        " 0.744769657447 0.916720149934 2387 4325\n",
        "966\n",
        "collision! 0.417451707571 0.275305792398 2387 4354\n",
        "967\n",
        "collision!"
       ]
      },
      {
       "output_type": "stream",
       "stream": "stdout",
       "text": [
        " 0.583498329316 0.843024504881 2394 74\n",
        "968\n",
        "collision!"
       ]
      },
      {
       "output_type": "stream",
       "stream": "stdout",
       "text": [
        " 0.834012356837 0.195326846852 2394 2021\n",
        "969\n",
        "collision!"
       ]
      },
      {
       "output_type": "stream",
       "stream": "stdout",
       "text": [
        " 0.29476538375 0.196341181627 2395 694\n",
        "970\n",
        "collision! 0.552973437455 0.104708204579 2395 1610\n",
        "971\n",
        "collision!"
       ]
      },
      {
       "output_type": "stream",
       "stream": "stdout",
       "text": [
        " 0.443243779812 0.271878971542 2395 3683\n",
        "972\n",
        "collision!"
       ]
      },
      {
       "output_type": "stream",
       "stream": "stdout",
       "text": [
        " 0.850492605475 0.0539877488172 2397 3329\n",
        "973\n",
        "collision! 0.806216314238 0.170589887587 2397 4269\n",
        "974\n",
        "collision!"
       ]
      },
      {
       "output_type": "stream",
       "stream": "stdout",
       "text": [
        " 0.919423307568 0.446878377145 2399 1535\n",
        "975\n",
        "collision!"
       ]
      },
      {
       "output_type": "stream",
       "stream": "stdout",
       "text": [
        " 0.812944173359 0.452808351567 2400 3988\n",
        "976\n",
        "collision!"
       ]
      },
      {
       "output_type": "stream",
       "stream": "stdout",
       "text": [
        " 0.592593683534 0.764921967967 2404 4363\n",
        "977\n",
        "collision!"
       ]
      },
      {
       "output_type": "stream",
       "stream": "stdout",
       "text": [
        " 0.407186164031 0.619704277052 2405 3745\n",
        "978\n",
        "collision!"
       ]
      },
      {
       "output_type": "stream",
       "stream": "stdout",
       "text": [
        " 0.107072301826 0.556556239518 2406 1573\n",
        "979\n",
        "collision!"
       ]
      },
      {
       "output_type": "stream",
       "stream": "stdout",
       "text": [
        " 0.353410511572 0.439499812047 2407 2996\n",
        "980\n",
        "collision!"
       ]
      },
      {
       "output_type": "stream",
       "stream": "stdout",
       "text": [
        " 0.441569716048 0.568015990172 2414 698\n",
        "981\n",
        "collision! 0.645449894297 0.984004706679 2414 788\n",
        "982\n",
        "collision!"
       ]
      },
      {
       "output_type": "stream",
       "stream": "stdout",
       "text": [
        " 0.257510628653 0.538765719894 2418 3877\n",
        "983\n",
        "collision!"
       ]
      },
      {
       "output_type": "stream",
       "stream": "stdout",
       "text": [
        " 0.600444739269 0.110739339304 2422 3831\n",
        "984\n",
        "collision!"
       ]
      },
      {
       "output_type": "stream",
       "stream": "stdout",
       "text": [
        " 0.0455749216121 0.504379584356 2430 3344\n",
        "985\n",
        "collision!"
       ]
      },
      {
       "output_type": "stream",
       "stream": "stdout",
       "text": [
        " 0.754597815033 0.91565590355 2431 4162\n",
        "986\n",
        "collision!"
       ]
      },
      {
       "output_type": "stream",
       "stream": "stdout",
       "text": [
        " 0.897490341631 0.270294072583 2434 1436\n",
        "987\n",
        "collision!"
       ]
      },
      {
       "output_type": "stream",
       "stream": "stdout",
       "text": [
        " 0.171381304805 0.0351975785641 2434 3815\n",
        "988\n",
        "collision!"
       ]
      },
      {
       "output_type": "stream",
       "stream": "stdout",
       "text": [
        " 0.339416250354 0.547738947659 2435 381\n",
        "989\n",
        "collision!"
       ]
      },
      {
       "output_type": "stream",
       "stream": "stdout",
       "text": [
        " 0.596284803297 0.00992007798104 2436 2575\n",
        "990\n",
        "collision!"
       ]
      },
      {
       "output_type": "stream",
       "stream": "stdout",
       "text": [
        " 0.00514224306896 0.163842390695 2440 125\n",
        "991\n",
        "collision!"
       ]
      },
      {
       "output_type": "stream",
       "stream": "stdout",
       "text": [
        " 0.899240937277 0.966294456509 2455 1934\n",
        "992\n",
        "collision!"
       ]
      },
      {
       "output_type": "stream",
       "stream": "stdout",
       "text": [
        " 0.95085025153 0.804491950202 2460 3801\n",
        "993\n",
        "collision! 0.416538631935 0.224468292081 2460 4334\n",
        "994\n",
        "collision!"
       ]
      },
      {
       "output_type": "stream",
       "stream": "stdout",
       "text": [
        " 0.614985400671 0.25240922563 2463 698\n",
        "995\n",
        "collision!"
       ]
      },
      {
       "output_type": "stream",
       "stream": "stdout",
       "text": [
        " 0.713609102059 0.561169253239 2463 1824\n",
        "996\n",
        "collision! 0.908484165872 0.409764189499 2463 1969\n",
        "997\n",
        "collision!"
       ]
      },
      {
       "output_type": "stream",
       "stream": "stdout",
       "text": [
        " 0.57215041601 0.331940677778 2463 4269\n",
        "998\n",
        "collision! 0.857696844011 0.0933056854209 2464 450\n",
        "999\n",
        "collision!"
       ]
      },
      {
       "output_type": "stream",
       "stream": "stdout",
       "text": [
        " 0.968410746958 0.461333206749 2464 3520\n",
        "1000\n",
        "collision!"
       ]
      },
      {
       "output_type": "stream",
       "stream": "stdout",
       "text": [
        " 0.70256120009 0.462370200178 2472 10\n",
        "1001\n",
        "collision!"
       ]
      },
      {
       "output_type": "stream",
       "stream": "stdout",
       "text": [
        " 0.388325611551 0.818721762547 2475 3902\n",
        "1002\n",
        "collision!"
       ]
      },
      {
       "output_type": "stream",
       "stream": "stdout",
       "text": [
        " 0.809448669015 0.469084554437 2478 827\n",
        "1003\n",
        "collision! 0.756593233677 0.62218601218 2478 1669\n",
        "1004\n",
        "collision!"
       ]
      },
      {
       "output_type": "stream",
       "stream": "stdout",
       "text": [
        " 0.435066267433 0.608731317741 2478 2092\n",
        "1005\n",
        "collision!"
       ]
      },
      {
       "output_type": "stream",
       "stream": "stdout",
       "text": [
        " 0.637627243094 0.299920514135 2478 3875\n",
        "1006\n",
        "collision!"
       ]
      },
      {
       "output_type": "stream",
       "stream": "stdout",
       "text": [
        " 0.153413963622 0.921273460813 2486 3940\n",
        "1007\n",
        "collision!"
       ]
      },
      {
       "output_type": "stream",
       "stream": "stdout",
       "text": [
        " 0.6349285938 0.502677796881 2488 91\n",
        "1008\n",
        "collision!"
       ]
      },
      {
       "output_type": "stream",
       "stream": "stdout",
       "text": [
        " 0.848057889994 0.0559251856117 2488 4047\n",
        "1009\n",
        "collision!"
       ]
      },
      {
       "output_type": "stream",
       "stream": "stdout",
       "text": [
        " 0.00208641488119 0.379923012951 2489 3589\n",
        "1010\n",
        "collision!"
       ]
      },
      {
       "output_type": "stream",
       "stream": "stdout",
       "text": [
        " 0.0479722545611 0.888178443104 2492 3304\n",
        "1011\n",
        "collision!"
       ]
      },
      {
       "output_type": "stream",
       "stream": "stdout",
       "text": [
        " 0.8672681023 0.903970422889 2493 685\n",
        "1012\n",
        "collision!"
       ]
      },
      {
       "output_type": "stream",
       "stream": "stdout",
       "text": [
        " 0.772763793817 0.807285026224 2503 577\n",
        "1013\n",
        "collision!"
       ]
      },
      {
       "output_type": "stream",
       "stream": "stdout",
       "text": [
        " 0.675374421932 0.108902249717 2504 1663\n",
        "1014\n",
        "collision!"
       ]
      },
      {
       "output_type": "stream",
       "stream": "stdout",
       "text": [
        " 0.408924687498 0.338172837215 2506 1934\n",
        "1015\n",
        "collision! 0.324969523976 0.872340963909 2506 2636\n",
        "1016\n",
        "collision!"
       ]
      },
      {
       "output_type": "stream",
       "stream": "stdout",
       "text": [
        " 0.741391707647 0.289217795741 2515 3383\n",
        "1017\n",
        "collision!"
       ]
      },
      {
       "output_type": "stream",
       "stream": "stdout",
       "text": [
        " 0.649311014517 0.98325413566 2519 4334\n",
        "1018\n",
        "collision!"
       ]
      },
      {
       "output_type": "stream",
       "stream": "stdout",
       "text": [
        " 0.82485205983 0.533077931362 2522 2784\n",
        "1019\n",
        "collision!"
       ]
      },
      {
       "output_type": "stream",
       "stream": "stdout",
       "text": [
        " 0.724667841738 0.530408600954 2527 1786\n",
        "1020\n",
        "collision!"
       ]
      },
      {
       "output_type": "stream",
       "stream": "stdout",
       "text": [
        " 0.866016776667 0.848818704363 2530 1095\n",
        "1021\n",
        "collision! 0.486098983249 0.404028843513 2530 1909\n",
        "1022\n",
        "collision!"
       ]
      },
      {
       "output_type": "stream",
       "stream": "stdout",
       "text": [
        " 0.740544065065 0.574929059657 2532 2089\n",
        "1023\n",
        "collision!"
       ]
      },
      {
       "output_type": "stream",
       "stream": "stdout",
       "text": [
        " 0.405293193646 0.374718804631 2533 733\n",
        "1024\n",
        "collision!"
       ]
      },
      {
       "output_type": "stream",
       "stream": "stdout",
       "text": [
        " 0.912840559477 0.88161314543 2535 3878\n",
        "1025\n",
        "collision!"
       ]
      },
      {
       "output_type": "stream",
       "stream": "stdout",
       "text": [
        " 0.82110673543 0.164415034975 2540 3967\n",
        "1026\n",
        "collision! 0.586123196707 0.268154907855 2540 4198\n",
        "1027\n",
        "collision!"
       ]
      },
      {
       "output_type": "stream",
       "stream": "stdout",
       "text": [
        " 0.0505192673561 0.225599059698 2541 3393\n",
        "1028\n",
        "collision!"
       ]
      },
      {
       "output_type": "stream",
       "stream": "stdout",
       "text": [
        " 0.239290395647 0.579559420999 2547 2066\n",
        "1029\n",
        "collision!"
       ]
      },
      {
       "output_type": "stream",
       "stream": "stdout",
       "text": [
        " 0.530874235291 0.67803618504 2549 3631\n",
        "1030\n",
        "collision!"
       ]
      },
      {
       "output_type": "stream",
       "stream": "stdout",
       "text": [
        " 0.0312382272426 0.536833427675 2551 3655\n",
        "1031\n",
        "collision! 0.139138374538 0.900581330239 2551 4334\n",
        "1032\n",
        "collision!"
       ]
      },
      {
       "output_type": "stream",
       "stream": "stdout",
       "text": [
        " 0.0125814265764 0.712268770781 2557 330\n",
        "1033\n",
        "collision!"
       ]
      },
      {
       "output_type": "stream",
       "stream": "stdout",
       "text": [
        " 0.690089692242 0.82633145971 2562 569\n",
        "1034\n",
        "collision!"
       ]
      },
      {
       "output_type": "stream",
       "stream": "stdout",
       "text": [
        " 0.813833573068 0.038591636919 2563 1086\n",
        "1035\n",
        "collision! 0.560647845294 0.812664923292 2563 1222\n",
        "1036\n",
        "collision! 0.828742298821 0.0303018155377 2563 1271\n",
        "1037\n",
        "collision! 0.164963727528 0.24383368388 2563 1407\n",
        "1038\n",
        "collision!"
       ]
      },
      {
       "output_type": "stream",
       "stream": "stdout",
       "text": [
        " 0.350930690741 0.456857311138 2563 2812\n",
        "1039\n",
        "collision!"
       ]
      },
      {
       "output_type": "stream",
       "stream": "stdout",
       "text": [
        " 0.737493636751 0.889377658435 2565 3489\n",
        "1040\n",
        "collision!"
       ]
      },
      {
       "output_type": "stream",
       "stream": "stdout",
       "text": [
        " 0.067856473207 0.478238238226 2569 2598\n",
        "1041\n",
        "collision! 0.224462678949 0.844644541146 2569 2801\n",
        "1042\n",
        "collision!"
       ]
      },
      {
       "output_type": "stream",
       "stream": "stdout",
       "text": [
        " 0.851875222047 0.380847848307 2571 2870\n",
        "1043\n",
        "collision!"
       ]
      },
      {
       "output_type": "stream",
       "stream": "stdout",
       "text": [
        " 0.0987854463921 0.240190841265 2576 309\n",
        "1044\n",
        "collision!"
       ]
      },
      {
       "output_type": "stream",
       "stream": "stdout",
       "text": [
        " 0.242306419366 0.897393273992 2577 2838\n",
        "1045\n",
        "collision!"
       ]
      },
      {
       "output_type": "stream",
       "stream": "stdout",
       "text": [
        " 0.178890883155 0.504279937692 2584 2336\n",
        "1046\n",
        "collision!"
       ]
      },
      {
       "output_type": "stream",
       "stream": "stdout",
       "text": [
        " 0.39998883707 0.667012643421 2585 1123\n",
        "1047\n",
        "collision! 0.783098021774 0.546179693374 2585 1843\n",
        "1048\n",
        "collision! 0.328732021633 0.957012688432 2585 1946\n",
        "1049\n",
        "collision!"
       ]
      },
      {
       "output_type": "stream",
       "stream": "stdout",
       "text": [
        " 0.661531434155 0.0111549951709 2585 2238\n",
        "1050\n",
        "collision! 0.984313883436 0.0545994580192 2585 2785\n",
        "1051\n",
        "collision! 0.0285520903947 0.4694295408 2585 2957\n",
        "1052\n",
        "collision!"
       ]
      },
      {
       "output_type": "stream",
       "stream": "stdout",
       "text": [
        " 0.469690326764 0.157554053681 2585 3729\n",
        "1053\n",
        "collision! 0.294015774725 0.0817833035391 2585 4428\n",
        "1054\n",
        "collision!"
       ]
      },
      {
       "output_type": "stream",
       "stream": "stdout",
       "text": [
        " 0.539414410788 0.649442575824 2590 4071\n",
        "1055\n",
        "collision!"
       ]
      },
      {
       "output_type": "stream",
       "stream": "stdout",
       "text": [
        " 0.143299340227 0.331209880014 2592 475\n",
        "1056\n",
        "collision!"
       ]
      },
      {
       "output_type": "stream",
       "stream": "stdout",
       "text": [
        " 0.0490632449959 0.718062325903 2592 1592\n",
        "1057\n",
        "collision! 0.731956545717 0.043549883723 2592 1863\n",
        "1058\n",
        "collision!"
       ]
      },
      {
       "output_type": "stream",
       "stream": "stdout",
       "text": [
        " 0.899406266552 0.664549004005 2592 2622\n",
        "1059\n",
        "collision!"
       ]
      },
      {
       "output_type": "stream",
       "stream": "stdout",
       "text": [
        " 0.0865363400446 0.183956212135 2601 4078\n",
        "1060\n",
        "collision!"
       ]
      },
      {
       "output_type": "stream",
       "stream": "stdout",
       "text": [
        " 0.746385159661 0.689650671337 2606 1486\n",
        "1061\n",
        "collision!"
       ]
      },
      {
       "output_type": "stream",
       "stream": "stdout",
       "text": [
        " 0.972045585569 0.198129954812 2607 662\n",
        "1062\n",
        "collision!"
       ]
      },
      {
       "output_type": "stream",
       "stream": "stdout",
       "text": [
        " 0.212817872152 0.305773765483 2616 824\n",
        "1063\n",
        "collision!"
       ]
      },
      {
       "output_type": "stream",
       "stream": "stdout",
       "text": [
        " 0.47249231487 0.392480831918 2616 2731\n",
        "1064\n",
        "collision!"
       ]
      },
      {
       "output_type": "stream",
       "stream": "stdout",
       "text": [
        " 0.652497658204 0.127355106992 2626 4047\n",
        "1065\n",
        "collision!"
       ]
      },
      {
       "output_type": "stream",
       "stream": "stdout",
       "text": [
        " 0.65199560756 0.0686025247274 2627 4262\n",
        "1066\n",
        "collision!"
       ]
      },
      {
       "output_type": "stream",
       "stream": "stdout",
       "text": [
        " 0.0709568614212 0.199649440394 2635 990\n",
        "1067\n",
        "collision! 0.0206295908933 0.37160187727 2635 1765\n",
        "1068\n",
        "collision!"
       ]
      },
      {
       "output_type": "stream",
       "stream": "stdout",
       "text": [
        " 0.151191740229 0.624988447964 2635 2162\n",
        "1069\n",
        "collision! 0.234115107385 0.0837110076608 2635 2667\n",
        "1070\n",
        "collision!"
       ]
      },
      {
       "output_type": "stream",
       "stream": "stdout",
       "text": [
        " 0.512152941774 0.465874871961 2635 4235\n",
        "1071\n",
        "collision!"
       ]
      },
      {
       "output_type": "stream",
       "stream": "stdout",
       "text": [
        " 0.903196276397 0.854866739324 2638 3745\n",
        "1072\n",
        "collision!"
       ]
      },
      {
       "output_type": "stream",
       "stream": "stdout",
       "text": [
        " 0.607212713099 0.222245656454 2639 2094\n",
        "1073\n",
        "collision!"
       ]
      },
      {
       "output_type": "stream",
       "stream": "stdout",
       "text": [
        " 0.966395566573 0.0415994708037 2654 2052\n",
        "1074\n",
        "collision!"
       ]
      },
      {
       "output_type": "stream",
       "stream": "stdout",
       "text": [
        " 0.499273593946 0.542204811085 2655 623\n",
        "1075\n",
        "collision!"
       ]
      },
      {
       "output_type": "stream",
       "stream": "stdout",
       "text": [
        " 0.304110679489 0.150555763073 2659 3409\n",
        "1076\n",
        "collision!"
       ]
      },
      {
       "output_type": "stream",
       "stream": "stdout",
       "text": [
        " 0.019342107652 0.555033096091 2663 2929\n",
        "1077\n",
        "collision!"
       ]
      },
      {
       "output_type": "stream",
       "stream": "stdout",
       "text": [
        " 0.266412356214 0.598090962953 2670 258\n",
        "1078\n",
        "collision!"
       ]
      },
      {
       "output_type": "stream",
       "stream": "stdout",
       "text": [
        " 0.82857013969 0.720610880753 2680 3745\n",
        "1079\n",
        "collision!"
       ]
      },
      {
       "output_type": "stream",
       "stream": "stdout",
       "text": [
        " 0.31820566023 0.840502224701 2681 1611\n",
        "1080\n",
        "collision!"
       ]
      },
      {
       "output_type": "stream",
       "stream": "stdout",
       "text": [
        " 0.860876700097 0.457184442216 2685 4503\n",
        "1081\n",
        "collision!"
       ]
      },
      {
       "output_type": "stream",
       "stream": "stdout",
       "text": [
        " 0.995572597289 0.106620782175 2689 555\n",
        "1082\n",
        "collision!"
       ]
      },
      {
       "output_type": "stream",
       "stream": "stdout",
       "text": [
        " 0.152898883414 0.018649592895 2692 755\n",
        "1083\n",
        "collision!"
       ]
      },
      {
       "output_type": "stream",
       "stream": "stdout",
       "text": [
        " 0.235950414316 0.272831683604 2699 3844\n",
        "1084\n",
        "collision!"
       ]
      },
      {
       "output_type": "stream",
       "stream": "stdout",
       "text": [
        " 0.597826875735 0.138372401699 2708 4047\n",
        "1085\n",
        "collision!"
       ]
      },
      {
       "output_type": "stream",
       "stream": "stdout",
       "text": [
        " 0.796246836768 0.621477169046 2710 1430\n",
        "1086\n",
        "collision! 0.820566001249 0.194496379025 2710 2292\n",
        "1087\n",
        "collision!"
       ]
      },
      {
       "output_type": "stream",
       "stream": "stdout",
       "text": [
        " 0.32651515591 0.511514431751 2711 2236\n",
        "1088\n",
        "collision!"
       ]
      },
      {
       "output_type": "stream",
       "stream": "stdout",
       "text": [
        " 0.128049618727 0.303712376075 2714 1460\n",
        "1089\n",
        "collision!"
       ]
      },
      {
       "output_type": "stream",
       "stream": "stdout",
       "text": [
        " 0.126890041162 0.123601755607 2719 131\n",
        "1090\n",
        "collision!"
       ]
      },
      {
       "output_type": "stream",
       "stream": "stdout",
       "text": [
        " 0.132865350857 0.520620826388 2728 2021\n",
        "1091\n",
        "collision!"
       ]
      },
      {
       "output_type": "stream",
       "stream": "stdout",
       "text": [
        " 0.183922357033 0.106460334455 2732 485\n",
        "1092\n",
        "collision!"
       ]
      },
      {
       "output_type": "stream",
       "stream": "stdout",
       "text": [
        " 0.261303752985 0.939651288354 2732 1722\n",
        "1093\n",
        "collision!"
       ]
      },
      {
       "output_type": "stream",
       "stream": "stdout",
       "text": [
        " 0.610238359668 0.155797252951 2734 2853\n",
        "1094\n",
        "collision!"
       ]
      },
      {
       "output_type": "stream",
       "stream": "stdout",
       "text": [
        " 0.417226083026 0.886832835708 2738 4543\n",
        "1095\n",
        "collision!"
       ]
      },
      {
       "output_type": "stream",
       "stream": "stdout",
       "text": [
        " 0.456138001855 0.163219532788 2741 1060\n",
        "1096\n",
        "collision!"
       ]
      },
      {
       "output_type": "stream",
       "stream": "stdout",
       "text": [
        " 0.579034387644 0.188151313234 2741 4491\n",
        "1097\n",
        "collision!"
       ]
      },
      {
       "output_type": "stream",
       "stream": "stdout",
       "text": [
        " 0.816912805227 0.264786448796 2743 2137\n",
        "1098\n",
        "collision!"
       ]
      },
      {
       "output_type": "stream",
       "stream": "stdout",
       "text": [
        " 0.118370982607 0.140570865519 2743 3339\n",
        "1099\n",
        "collision! 0.59764487018 0.432526137901 2743 4214\n",
        "1100\n",
        "collision!"
       ]
      },
      {
       "output_type": "stream",
       "stream": "stdout",
       "text": [
        " 0.681455419959 0.749723054896 2744 4039\n",
        "1101\n",
        "collision!"
       ]
      },
      {
       "output_type": "stream",
       "stream": "stdout",
       "text": [
        " 0.727309190431 0.336604525645 2756 2634\n",
        "1102\n",
        "collision!"
       ]
      },
      {
       "output_type": "stream",
       "stream": "stdout",
       "text": [
        " 0.128963841915 0.773167423057 2757 460\n",
        "1103\n",
        "collision!"
       ]
      },
      {
       "output_type": "stream",
       "stream": "stdout",
       "text": [
        " 0.990895143728 0.444714336312 2758 730\n",
        "1104\n",
        "collision!"
       ]
      },
      {
       "output_type": "stream",
       "stream": "stdout",
       "text": [
        " 0.400377132005 0.604179898581 2758 3036\n",
        "1105\n",
        "collision!"
       ]
      },
      {
       "output_type": "stream",
       "stream": "stdout",
       "text": [
        " 0.643718891353 0.455891442471 2771 654\n",
        "1106\n",
        "collision! 0.462446112386 0.84598978752 2771 1135\n",
        "1107\n",
        "collision!"
       ]
      },
      {
       "output_type": "stream",
       "stream": "stdout",
       "text": [
        " 0.680595022731 0.022550427567 2776 3745\n",
        "1108\n",
        "collision!"
       ]
      },
      {
       "output_type": "stream",
       "stream": "stdout",
       "text": [
        " 0.0593680901172 0.464145859295 2777 1095\n",
        "1109\n",
        "collision!"
       ]
      },
      {
       "output_type": "stream",
       "stream": "stdout",
       "text": [
        " 0.554032943296 0.538444231376 2780 555\n",
        "1110\n",
        "collision! 0.912756758116 0.266592075701 2780 1303\n",
        "1111\n",
        "collision!"
       ]
      },
      {
       "output_type": "stream",
       "stream": "stdout",
       "text": [
        " 0.520538339951 0.641914309598 2780 2052\n",
        "1112\n",
        "collision!"
       ]
      },
      {
       "output_type": "stream",
       "stream": "stdout",
       "text": [
        " 0.270687556193 0.152462095304 2786 2449\n",
        "1113\n",
        "collision!"
       ]
      },
      {
       "output_type": "stream",
       "stream": "stdout",
       "text": [
        " 0.376012682074 0.715960384445 2793 1612\n",
        "1114\n",
        "collision!"
       ]
      },
      {
       "output_type": "stream",
       "stream": "stdout",
       "text": [
        " 0.963526778634 0.798944497717 2793 4265\n",
        "1115\n",
        "collision!"
       ]
      },
      {
       "output_type": "stream",
       "stream": "stdout",
       "text": [
        " 0.718435126866 0.247367213084 2794 3884\n",
        "1116\n",
        "collision!"
       ]
      },
      {
       "output_type": "stream",
       "stream": "stdout",
       "text": [
        " 0.829905497564 0.19282293875 2796 510\n",
        "1117\n",
        "collision!"
       ]
      },
      {
       "output_type": "stream",
       "stream": "stdout",
       "text": [
        " 0.295159401041 0.888778846821 2800 210\n",
        "1118\n",
        "collision!"
       ]
      },
      {
       "output_type": "stream",
       "stream": "stdout",
       "text": [
        " 0.692628426357 0.970024378702 2800 4103\n",
        "1119\n",
        "collision!"
       ]
      },
      {
       "output_type": "stream",
       "stream": "stdout",
       "text": [
        " 0.662360169702 0.508700556592 2804 2021\n",
        "1120\n",
        "collision!"
       ]
      },
      {
       "output_type": "stream",
       "stream": "stdout",
       "text": [
        " 0.514236968682 0.253453192887 2811 3228\n",
        "1121\n",
        "collision!"
       ]
      },
      {
       "output_type": "stream",
       "stream": "stdout",
       "text": [
        " 0.530254863584 0.213240308236 2814 2518\n",
        "1122\n",
        "collision!"
       ]
      },
      {
       "output_type": "stream",
       "stream": "stdout",
       "text": [
        " 0.698165026047 0.144585044126 2815 2052\n",
        "1123\n",
        "collision!"
       ]
      },
      {
       "output_type": "stream",
       "stream": "stdout",
       "text": [
        " 0.43293957485 0.644231889639 2820 788\n",
        "1124\n",
        "collision!"
       ]
      },
      {
       "output_type": "stream",
       "stream": "stdout",
       "text": [
        " 0.656680696778 0.630590659455 2821 2760\n",
        "1125\n",
        "collision!"
       ]
      },
      {
       "output_type": "stream",
       "stream": "stdout",
       "text": [
        " 0.932872964532 0.327420555271 2822 381\n",
        "1126\n",
        "collision! 0.518796840747 0.0630056678486 2822 1305\n",
        "1127\n",
        "collision!"
       ]
      },
      {
       "output_type": "stream",
       "stream": "stdout",
       "text": [
        " 0.133334513891 0.373153578167 2822 3191\n",
        "1128\n",
        "collision! 0.256420772125 0.727573228567 2822 3349\n",
        "1129\n",
        "collision!"
       ]
      },
      {
       "output_type": "stream",
       "stream": "stdout",
       "text": [
        " 0.785442494278 0.121527798609 2830 10\n",
        "1130\n",
        "collision!"
       ]
      },
      {
       "output_type": "stream",
       "stream": "stdout",
       "text": [
        " 0.497136206572 0.326704063769 2830 1540\n",
        "1131\n",
        "collision!"
       ]
      },
      {
       "output_type": "stream",
       "stream": "stdout",
       "text": [
        " 0.94690629245 0.778861487413 2834 3552\n",
        "1132\n",
        "collision!"
       ]
      },
      {
       "output_type": "stream",
       "stream": "stdout",
       "text": [
        " 0.595600734874 0.222655664733 2842 1299\n",
        "1133\n",
        "collision!"
       ]
      },
      {
       "output_type": "stream",
       "stream": "stdout",
       "text": [
        " 0.88381219748 0.312181225727 2850 2677\n",
        "1134\n",
        "collision!"
       ]
      },
      {
       "output_type": "stream",
       "stream": "stdout",
       "text": [
        " 0.93616988084 0.981524320283 2852 2654\n",
        "1135\n",
        "collision!"
       ]
      },
      {
       "output_type": "stream",
       "stream": "stdout",
       "text": [
        " 0.780906786468 0.114051247937 2852 4121\n",
        "1136\n",
        "collision!"
       ]
      },
      {
       "output_type": "stream",
       "stream": "stdout",
       "text": [
        " 0.477465849307 0.387383400786 2859 1244\n",
        "1137\n",
        "collision!"
       ]
      },
      {
       "output_type": "stream",
       "stream": "stdout",
       "text": [
        " 0.192364929783 0.227687228341 2867 1171\n",
        "1138\n",
        "collision!"
       ]
      },
      {
       "output_type": "stream",
       "stream": "stdout",
       "text": [
        " 0.311113461193 0.631780184157 2867 4311\n",
        "1139\n",
        "collision!"
       ]
      },
      {
       "output_type": "stream",
       "stream": "stdout",
       "text": [
        " 0.427440087158 0.447284481555 2869 824\n",
        "1140\n",
        "collision!"
       ]
      },
      {
       "output_type": "stream",
       "stream": "stdout",
       "text": [
        " 0.556100730919 0.432142170421 2869 4054\n",
        "1141\n",
        "collision!"
       ]
      },
      {
       "output_type": "stream",
       "stream": "stdout",
       "text": [
        " 0.655564504227 0.260322218348 2872 825\n",
        "1142\n",
        "collision!"
       ]
      },
      {
       "output_type": "stream",
       "stream": "stdout",
       "text": [
        " 0.451030349868 0.500988999913 2882 1255\n",
        "1143\n",
        "collision! 0.084007589568 0.319383584794 2882 2104\n",
        "1144\n",
        "collision!"
       ]
      },
      {
       "output_type": "stream",
       "stream": "stdout",
       "text": [
        " 0.47549684005 0.762268982698 2882 4318\n",
        "1145\n",
        "collision!"
       ]
      },
      {
       "output_type": "stream",
       "stream": "stdout",
       "text": [
        " 0.387731604479 0.840111824104 2888 4255\n",
        "1146\n",
        "collision!"
       ]
      },
      {
       "output_type": "stream",
       "stream": "stdout",
       "text": [
        " 0.649600671383 0.0413926958342 2891 1871\n",
        "1147\n",
        "collision! 0.60821183326 0.58577363117 2891 2779\n",
        "1148\n",
        "collision!"
       ]
      },
      {
       "output_type": "stream",
       "stream": "stdout",
       "text": [
        " 0.986590167787 0.293332033142 2891 3170\n",
        "1149\n",
        "collision!"
       ]
      },
      {
       "output_type": "stream",
       "stream": "stdout",
       "text": [
        " 0.0865837745756 0.149022438852 2893 3396\n",
        "1150\n",
        "collision!"
       ]
      },
      {
       "output_type": "stream",
       "stream": "stdout",
       "text": [
        " 0.216414786935 0.237647224446 2898 1960\n",
        "1151\n",
        "collision!"
       ]
      },
      {
       "output_type": "stream",
       "stream": "stdout",
       "text": [
        " 0.759148594877 0.710763169588 2909 788\n",
        "1152\n",
        "collision!"
       ]
      },
      {
       "output_type": "stream",
       "stream": "stdout",
       "text": [
        " 0.270307142916 0.829337897193 2909 2157\n",
        "1153\n",
        "collision!"
       ]
      },
      {
       "output_type": "stream",
       "stream": "stdout",
       "text": [
        " 0.340988373868 0.908832246654 2914 310\n",
        "1154\n",
        "collision! 0.956688716942 0.0745200339128 2914 934\n",
        "1155\n",
        "collision! 0.157416761241 0.250258016553 2914 1153\n",
        "1156\n",
        "collision!"
       ]
      },
      {
       "output_type": "stream",
       "stream": "stdout",
       "text": [
        " 0.333142545509 0.643716334727 2914 2336\n",
        "1157\n",
        "collision!"
       ]
      },
      {
       "output_type": "stream",
       "stream": "stdout",
       "text": [
        " 0.629487371194 0.661171305667 2914 4249\n",
        "1158\n",
        "collision! 0.817579369812 0.17005740944 2914 4412\n",
        "1159\n",
        "collision!"
       ]
      },
      {
       "output_type": "stream",
       "stream": "stdout",
       "text": [
        " 0.29303830022 0.126025784861 2915 3284\n",
        "1160\n",
        "collision!"
       ]
      },
      {
       "output_type": "stream",
       "stream": "stdout",
       "text": [
        " 0.963297777548 0.567330637425 2917 2319\n",
        "1161\n",
        "collision!"
       ]
      },
      {
       "output_type": "stream",
       "stream": "stdout",
       "text": [
        " 0.319424721268 0.120259946158 2917 3699\n",
        "1162\n",
        "collision! 0.84285239404 0.0452568720367 2917 3847\n",
        "1163\n",
        "collision!"
       ]
      },
      {
       "output_type": "stream",
       "stream": "stdout",
       "text": [
        " 0.781251472556 0.49645844575 2918 4401\n",
        "1164\n",
        "collision!"
       ]
      },
      {
       "output_type": "stream",
       "stream": "stdout",
       "text": [
        " 0.961940064939 0.989189740644 2933 2496\n",
        "1165\n",
        "collision!"
       ]
      },
      {
       "output_type": "stream",
       "stream": "stdout",
       "text": [
        " 0.248540235975 0.624966876317 2938 355\n",
        "1166\n",
        "collision!"
       ]
      },
      {
       "output_type": "stream",
       "stream": "stdout",
       "text": [
        " 0.636249927622 0.207757764188 2938 2292\n",
        "1167\n",
        "collision!"
       ]
      },
      {
       "output_type": "stream",
       "stream": "stdout",
       "text": [
        " 0.0369595662476 0.992640724975 2945 529\n",
        "1168\n",
        "collision!"
       ]
      },
      {
       "output_type": "stream",
       "stream": "stdout",
       "text": [
        " 0.167356227416 0.576294914528 2945 2740\n",
        "1169\n",
        "collision! 0.211603948174 0.523332707833 2945 3426\n",
        "1170\n",
        "collision!"
       ]
      },
      {
       "output_type": "stream",
       "stream": "stdout",
       "text": [
        " 0.321877806427 0.486014009915 2949 2565\n",
        "1171\n",
        "collision!"
       ]
      },
      {
       "output_type": "stream",
       "stream": "stdout",
       "text": [
        " 0.830382260755 0.895363156076 2950 2677\n",
        "1172\n",
        "collision!"
       ]
      },
      {
       "output_type": "stream",
       "stream": "stdout",
       "text": [
        " 0.608904454286 0.53986790423 2958 361\n",
        "1173\n",
        "collision! 0.95535703979 0.531724534726 2958 1037\n",
        "1174\n",
        "collision!"
       ]
      },
      {
       "output_type": "stream",
       "stream": "stdout",
       "text": [
        " 0.664669211896 0.40368287487 2959 2784\n",
        "1175\n",
        "collision! 0.0603044351688 0.413954809355 2959 3448\n",
        "1176\n",
        "collision!"
       ]
      },
      {
       "output_type": "stream",
       "stream": "stdout",
       "text": [
        " 0.32044449083 0.995434300221 2962 2275\n",
        "1177\n",
        "collision!"
       ]
      },
      {
       "output_type": "stream",
       "stream": "stdout",
       "text": [
        " 0.738197554685 0.323190522478 2969 296\n",
        "1178\n",
        "collision! 0.428869004484 0.0704623668042 2969 555\n",
        "1179\n",
        "collision! 0.508085352257 0.0284627694983 2969 1060\n",
        "1180\n",
        "collision! 0.623705481631 0.483529307353 2969 1115\n",
        "1181\n",
        "collision!"
       ]
      },
      {
       "output_type": "stream",
       "stream": "stdout",
       "text": [
        " 0.34538700354 0.993226109977 2969 2117\n",
        "1182\n",
        "collision! 0.455677884419 0.34119686062 2969 2636\n",
        "1183\n",
        "collision! 0.0906336962199 0.262556636546 2969 2676\n",
        "1184\n",
        "collision!"
       ]
      },
      {
       "output_type": "stream",
       "stream": "stdout",
       "text": [
        " 0.812875232006 0.855440266527 2969 3652\n",
        "1185\n",
        "collision! 0.102452020549 0.403108448898 2969 3861\n",
        "1186\n",
        "collision! 0.0874471180079 0.0308954563396 2969 3940\n",
        "1187\n",
        "collision! 0.364028791211 0.0594680499711 2969 4491\n",
        "1188\n",
        "collision!"
       ]
      },
      {
       "output_type": "stream",
       "stream": "stdout",
       "text": [
        " 0.82885957439 0.399427649822 2971 1497\n",
        "1189\n",
        "collision! 0.0804081891845 0.046350183071 2971 1663\n",
        "1190\n",
        "collision!"
       ]
      },
      {
       "output_type": "stream",
       "stream": "stdout",
       "text": [
        " 0.780477975356 0.946536144761 2973 820\n",
        "1191\n",
        "collision!"
       ]
      },
      {
       "output_type": "stream",
       "stream": "stdout",
       "text": [
        " 0.136931461594 0.18893651222 2976 1041\n",
        "1192\n",
        "collision!"
       ]
      },
      {
       "output_type": "stream",
       "stream": "stdout",
       "text": [
        " 0.00175163827387 0.0931304189338 2976 3016\n",
        "1193\n",
        "collision! 0.0701127825613 0.41955684278 2976 3659\n",
        "1194\n",
        "collision!"
       ]
      },
      {
       "output_type": "stream",
       "stream": "stdout",
       "text": [
        " 0.0944754496499 0.0127526083536 2976 3956\n",
        "1195\n",
        "collision!"
       ]
      },
      {
       "output_type": "stream",
       "stream": "stdout",
       "text": [
        " 0.781966139965 0.401316892566 2986 1784\n",
        "1196\n",
        "collision!"
       ]
      },
      {
       "output_type": "stream",
       "stream": "stdout",
       "text": [
        " 0.229360934673 0.873098873908 2991 2677\n",
        "1197\n",
        "collision!"
       ]
      },
      {
       "output_type": "stream",
       "stream": "stdout",
       "text": [
        " 0.914771491872 0.318613075315 3001 4461\n",
        "1198\n",
        "collision!"
       ]
      },
      {
       "output_type": "stream",
       "stream": "stdout",
       "text": [
        " 0.662445346688 0.750857497899 3004 3080\n",
        "1199\n",
        "collision!"
       ]
      },
      {
       "output_type": "stream",
       "stream": "stdout",
       "text": [
        " 0.639210324414 0.834274011428 3006 194\n",
        "1200\n",
        "collision! 0.643678323385 0.26858853179 3006 774\n",
        "1201\n",
        "collision! 0.31095708015 0.613115823668 3006 810\n",
        "1202\n",
        "collision!"
       ]
      },
      {
       "output_type": "stream",
       "stream": "stdout",
       "text": [
        " 0.633654800006 0.284416796519 3006 2189\n",
        "1203\n",
        "collision!"
       ]
      },
      {
       "output_type": "stream",
       "stream": "stdout",
       "text": [
        " 0.202340502788 0.493672941918 3007 699\n",
        "1204\n",
        "collision!"
       ]
      },
      {
       "output_type": "stream",
       "stream": "stdout",
       "text": [
        " 0.35319484758 0.587726463461 3009 2902\n",
        "1205\n",
        "collision!"
       ]
      },
      {
       "output_type": "stream",
       "stream": "stdout",
       "text": [
        " 0.381678988397 0.45152056987 3011 656\n",
        "1206\n",
        "collision!"
       ]
      },
      {
       "output_type": "stream",
       "stream": "stdout",
       "text": [
        " 0.387380283097 0.205317785707 3011 2599\n",
        "1207\n",
        "collision! 0.218559913886 0.933450666732 3011 2964\n",
        "1208\n",
        "collision!"
       ]
      },
      {
       "output_type": "stream",
       "stream": "stdout",
       "text": [
        " 0.727816095068 0.861972898624 3012 484\n",
        "1209\n",
        "collision! 0.937421285954 0.0193284685976 3012 1045\n",
        "1210\n",
        "collision!"
       ]
      },
      {
       "output_type": "stream",
       "stream": "stdout",
       "text": [
        " 0.146587932857 0.619889273919 3012 2789\n",
        "1211\n",
        "collision!"
       ]
      },
      {
       "output_type": "stream",
       "stream": "stdout",
       "text": [
        " 0.842686223354 0.490092933535 3015 2854\n",
        "1212\n",
        "collision!"
       ]
      },
      {
       "output_type": "stream",
       "stream": "stdout",
       "text": [
        " 0.573563469857 0.679586473064 3019 2402\n",
        "1213\n",
        "collision!"
       ]
      },
      {
       "output_type": "stream",
       "stream": "stdout",
       "text": [
        " 0.368619181322 0.345586101442 3022 764\n",
        "1214\n",
        "collision!"
       ]
      },
      {
       "output_type": "stream",
       "stream": "stdout",
       "text": [
        " 0.733506377589 0.0173789105672 3029 755\n",
        "1215\n",
        "collision!"
       ]
      },
      {
       "output_type": "stream",
       "stream": "stdout",
       "text": [
        " 0.955138611944 0.191503765706 3029 2240\n",
        "1216\n",
        "collision!"
       ]
      },
      {
       "output_type": "stream",
       "stream": "stdout",
       "text": [
        " 0.97849545081 0.6027208422 3029 3489\n",
        "1217\n",
        "collision!"
       ]
      },
      {
       "output_type": "stream",
       "stream": "stdout",
       "text": [
        " 0.224043467687 0.443660986692 3031 4378\n",
        "1218\n",
        "collision!"
       ]
      },
      {
       "output_type": "stream",
       "stream": "stdout",
       "text": [
        " 0.0423589276346 0.522910161888 3032 1409\n",
        "1219\n",
        "collision!"
       ]
      },
      {
       "output_type": "stream",
       "stream": "stdout",
       "text": [
        " 0.585984576424 0.853250833345 3033 3745\n",
        "1220\n",
        "collision!"
       ]
      },
      {
       "output_type": "stream",
       "stream": "stdout",
       "text": [
        " 0.656141737345 0.983298911947 3035 3367\n",
        "1221\n",
        "collision!"
       ]
      },
      {
       "output_type": "stream",
       "stream": "stdout",
       "text": [
        " 0.728199494482 0.297146393626 3045 4421\n",
        "1222\n",
        "collision!"
       ]
      },
      {
       "output_type": "stream",
       "stream": "stdout",
       "text": [
        " 0.679235113515 0.947789514192 3046 1564\n",
        "1223\n",
        "collision!"
       ]
      },
      {
       "output_type": "stream",
       "stream": "stdout",
       "text": [
        " 0.53152340574 0.813520475126 3050 3349\n",
        "1224\n",
        "collision!"
       ]
      },
      {
       "output_type": "stream",
       "stream": "stdout",
       "text": [
        " 0.595262404053 0.467253259063 3052 3126\n",
        "1225\n",
        "collision!"
       ]
      },
      {
       "output_type": "stream",
       "stream": "stdout",
       "text": [
        " 0.912068474697 0.00295923449065 3060 3448\n",
        "1226\n",
        "collision!"
       ]
      },
      {
       "output_type": "stream",
       "stream": "stdout",
       "text": [
        " 0.633016015909 0.886230469228 3062 556\n",
        "1227\n",
        "collision!"
       ]
      },
      {
       "output_type": "stream",
       "stream": "stdout",
       "text": [
        " 0.642387923031 0.0428491669703 3067 1663\n",
        "1228\n",
        "collision!"
       ]
      },
      {
       "output_type": "stream",
       "stream": "stdout",
       "text": [
        " 0.679779915388 0.952028228303 3081 4270\n",
        "1229\n",
        "collision!"
       ]
      },
      {
       "output_type": "stream",
       "stream": "stdout",
       "text": [
        " 0.500906905672 0.0522553359171 3083 2052\n",
        "1230\n",
        "collision!"
       ]
      },
      {
       "output_type": "stream",
       "stream": "stdout",
       "text": [
        " 0.586997991274 0.579251428072 3086 2727\n",
        "1231\n",
        "collision!"
       ]
      },
      {
       "output_type": "stream",
       "stream": "stdout",
       "text": [
        " 0.0163402730398 0.268947207461 3090 2300\n",
        "1232\n",
        "collision!"
       ]
      },
      {
       "output_type": "stream",
       "stream": "stdout",
       "text": [
        " 0.81058705114 0.643590764407 3099 2624\n",
        "1233\n",
        "collision!"
       ]
      },
      {
       "output_type": "stream",
       "stream": "stdout",
       "text": [
        " 0.216291183137 0.289952100249 3101 3815\n",
        "1234\n",
        "collision!"
       ]
      },
      {
       "output_type": "stream",
       "stream": "stdout",
       "text": [
        " 0.0996731203638 0.202480716047 3103 3961\n",
        "1235\n",
        "collision!"
       ]
      },
      {
       "output_type": "stream",
       "stream": "stdout",
       "text": [
        " 0.441619540287 0.428175825069 3104 574\n",
        "1236\n",
        "collision! 0.888254107181 0.018306386162 3104 773\n",
        "1237\n",
        "collision!"
       ]
      },
      {
       "output_type": "stream",
       "stream": "stdout",
       "text": [
        " 0.276167905765 0.670645746641 3104 2121\n",
        "1238\n",
        "collision! 0.59658133165 0.693652432939 3104 2866\n",
        "1239\n",
        "collision!"
       ]
      },
      {
       "output_type": "stream",
       "stream": "stdout",
       "text": [
        " 0.0632962503309 0.779232532795 3104 3236\n",
        "1240\n",
        "collision! 0.0353979438994 0.370957155682 3104 3549\n",
        "1241\n",
        "collision!"
       ]
      },
      {
       "output_type": "stream",
       "stream": "stdout",
       "text": [
        " 0.905288695193 0.153939758616 3107 1371\n",
        "1242\n",
        "collision!"
       ]
      },
      {
       "output_type": "stream",
       "stream": "stdout",
       "text": [
        " 0.0157365226655 0.980047299732 3107 4352\n",
        "1243\n",
        "collision!"
       ]
      },
      {
       "output_type": "stream",
       "stream": "stdout",
       "text": [
        " 0.485730568974 0.438501399527 3112 2426\n",
        "1244\n",
        "collision!"
       ]
      },
      {
       "output_type": "stream",
       "stream": "stdout",
       "text": [
        " 0.560059035058 0.0405739321209 3113 870\n",
        "1245\n",
        "collision!"
       ]
      },
      {
       "output_type": "stream",
       "stream": "stdout",
       "text": [
        " 0.499422819185 0.681688019911 3118 1648\n",
        "1246\n",
        "collision!"
       ]
      },
      {
       "output_type": "stream",
       "stream": "stdout",
       "text": [
        " 0.355522328364 0.247021965869 3121 1871\n",
        "1247\n",
        "collision!"
       ]
      },
      {
       "output_type": "stream",
       "stream": "stdout",
       "text": [
        " 0.506525207894 0.439999409058 3123 510\n",
        "1248\n",
        "collision! 0.484375325827 0.864858937169 3123 631\n",
        "1249\n",
        "collision!"
       ]
      },
      {
       "output_type": "stream",
       "stream": "stdout",
       "text": [
        " 0.81786798628 0.829568399197 3123 2416\n",
        "1250\n",
        "collision!"
       ]
      },
      {
       "output_type": "stream",
       "stream": "stdout",
       "text": [
        " 0.623027151572 0.261489653891 3127 1266\n",
        "1251\n",
        "collision! 0.0620773209463 0.883371404237 3127 1786\n",
        "1252\n",
        "collision!"
       ]
      },
      {
       "output_type": "stream",
       "stream": "stdout",
       "text": [
        " 0.182839020853 0.47886114983 3129 1500\n",
        "1253\n",
        "collision!"
       ]
      },
      {
       "output_type": "stream",
       "stream": "stdout",
       "text": [
        " 0.00380793700541 0.741491774978 3130 2644\n",
        "1254\n",
        "collision!"
       ]
      },
      {
       "output_type": "stream",
       "stream": "stdout",
       "text": [
        " 0.153022671455 0.755791120052 3131 570\n",
        "1255\n",
        "collision!"
       ]
      },
      {
       "output_type": "stream",
       "stream": "stdout",
       "text": [
        " 0.28127159297 0.77884407118 3131 2328\n",
        "1256\n",
        "collision! 0.951928167976 0.171404616663 3131 3110\n",
        "1257\n",
        "collision!"
       ]
      },
      {
       "output_type": "stream",
       "stream": "stdout",
       "text": [
        " 0.0447576388274 0.347154817416 3132 1528\n",
        "1258\n",
        "collision!"
       ]
      },
      {
       "output_type": "stream",
       "stream": "stdout",
       "text": [
        " 0.194440660919 0.471983730426 3132 3351\n",
        "1259\n",
        "collision! 0.574911339745 0.171830038945 3132 4078\n",
        "1260\n",
        "collision!"
       ]
      },
      {
       "output_type": "stream",
       "stream": "stdout",
       "text": [
        " 0.402109112312 0.0926949189769 3133 3569\n",
        "1261\n",
        "collision!"
       ]
      },
      {
       "output_type": "stream",
       "stream": "stdout",
       "text": [
        " 0.239939441106 0.426063216733 3135 52\n",
        "1262\n",
        "collision!"
       ]
      },
      {
       "output_type": "stream",
       "stream": "stdout",
       "text": [
        " 0.205975004306 0.137671426364 3139 1014\n",
        "1263\n",
        "collision!"
       ]
      },
      {
       "output_type": "stream",
       "stream": "stdout",
       "text": [
        " 0.498384158721 0.595302921401 3140 2597\n",
        "1264\n",
        "collision!"
       ]
      },
      {
       "output_type": "stream",
       "stream": "stdout",
       "text": [
        " 0.662456373901 0.175854358896 3142 3284\n",
        "1265\n",
        "collision!"
       ]
      },
      {
       "output_type": "stream",
       "stream": "stdout",
       "text": [
        " 0.645426066476 0.584390621444 3143 4047\n",
        "1266\n",
        "collision!"
       ]
      },
      {
       "output_type": "stream",
       "stream": "stdout",
       "text": [
        " 0.0653469431976 0.0451541920756 3146 1537\n",
        "1267\n",
        "collision!"
       ]
      },
      {
       "output_type": "stream",
       "stream": "stdout",
       "text": [
        " 0.491437448649 0.0238434744025 3157 296\n",
        "1268\n",
        "collision!"
       ]
      },
      {
       "output_type": "stream",
       "stream": "stdout",
       "text": [
        " 0.322883106143 0.217607683156 3157 2119\n",
        "1269\n",
        "collision!"
       ]
      },
      {
       "output_type": "stream",
       "stream": "stdout",
       "text": [
        " 0.308403904823 0.0293522294373 3161 1117\n",
        "1270\n",
        "collision!"
       ]
      },
      {
       "output_type": "stream",
       "stream": "stdout",
       "text": [
        " 0.932629914098 0.00393965833802 3161 2677\n",
        "1271\n",
        "collision!"
       ]
      },
      {
       "output_type": "stream",
       "stream": "stdout",
       "text": [
        " 0.924603666604 0.170087691687 3171 4047\n",
        "1272\n",
        "collision!"
       ]
      },
      {
       "output_type": "stream",
       "stream": "stdout",
       "text": [
        " 0.688434262206 0.131306928569 3174 963\n",
        "1273\n",
        "collision! 0.893756052609 0.331558299386 3174 998\n",
        "1274\n",
        "collision! 0.0704547669354 0.676065963844 3174 1298\n",
        "1275\n",
        "collision!"
       ]
      },
      {
       "output_type": "stream",
       "stream": "stdout",
       "text": [
        " 0.0508956457741 0.736311618816 3175 125\n",
        "1276\n",
        "collision!"
       ]
      },
      {
       "output_type": "stream",
       "stream": "stdout",
       "text": [
        " 0.636010591506 0.101720664465 3176 1535\n",
        "1277\n",
        "collision!"
       ]
      },
      {
       "output_type": "stream",
       "stream": "stdout",
       "text": [
        " 0.106549363041 0.276945690089 3177 405\n",
        "1278\n",
        "collision! 0.362997965159 0.403439914523 3177 907\n",
        "1279\n",
        "collision!"
       ]
      },
      {
       "output_type": "stream",
       "stream": "stdout",
       "text": [
        " 0.771987288276 0.54912922374 3177 1516\n",
        "1280\n",
        "collision! 0.272526470595 0.149597707775 3177 1688\n",
        "1281\n",
        "collision! 0.0649158540451 0.714930387956 3177 2096\n",
        "1282\n",
        "collision!"
       ]
      },
      {
       "output_type": "stream",
       "stream": "stdout",
       "text": [
        " 0.313767889156 0.142209604885 3177 2855\n",
        "1283\n",
        "collision! 0.62126101333 0.544125212951 3177 3422\n",
        "1284\n",
        "collision!"
       ]
      },
      {
       "output_type": "stream",
       "stream": "stdout",
       "text": [
        " 0.413080582673 0.663827879637 3178 3024\n",
        "1285\n",
        "collision!"
       ]
      },
      {
       "output_type": "stream",
       "stream": "stdout",
       "text": [
        " 0.219612784823 0.92766242612 3185 3611\n",
        "1286\n",
        "collision!"
       ]
      },
      {
       "output_type": "stream",
       "stream": "stdout",
       "text": [
        " 0.211419222374 0.0267697472352 3187 2637\n",
        "1287\n",
        "collision!"
       ]
      },
      {
       "output_type": "stream",
       "stream": "stdout",
       "text": [
        " 0.237293457992 0.617364338034 3187 4485\n",
        "1288\n",
        "collision!"
       ]
      },
      {
       "output_type": "stream",
       "stream": "stdout",
       "text": [
        " 0.70151710081 0.160668301118 3200 225\n",
        "1289\n",
        "collision!"
       ]
      },
      {
       "output_type": "stream",
       "stream": "stdout",
       "text": [
        " 0.135107473676 0.0521303164137 3200 2267\n",
        "1290\n",
        "collision!"
       ]
      },
      {
       "output_type": "stream",
       "stream": "stdout",
       "text": [
        " 0.693935873603 0.561661037607 3208 3569\n",
        "1291\n",
        "collision!"
       ]
      },
      {
       "output_type": "stream",
       "stream": "stdout",
       "text": [
        " 0.316525509707 0.332793842436 3213 2977\n",
        "1292\n",
        "collision!"
       ]
      },
      {
       "output_type": "stream",
       "stream": "stdout",
       "text": [
        " 0.755233548292 0.846885063684 3214 1404\n",
        "1293\n",
        "collision! 0.38245930486 0.374717942618 3214 1490\n",
        "1294\n",
        "collision! 0.757879270108 0.76619993616 3214 1694\n",
        "1295\n",
        "collision!"
       ]
      },
      {
       "output_type": "stream",
       "stream": "stdout",
       "text": [
        " 0.222011140159 0.325890399325 3214 2807\n",
        "1296\n",
        "collision!"
       ]
      },
      {
       "output_type": "stream",
       "stream": "stdout",
       "text": [
        " 0.727670368599 0.065885074143 3221 4394\n",
        "1297\n",
        "collision!"
       ]
      },
      {
       "output_type": "stream",
       "stream": "stdout",
       "text": [
        " 0.629172986785 0.231906724344 3225 2361\n",
        "1298\n",
        "collision!"
       ]
      },
      {
       "output_type": "stream",
       "stream": "stdout",
       "text": [
        " 0.759637874341 0.307359263998 3232 2329\n",
        "1299\n",
        "collision!"
       ]
      },
      {
       "output_type": "stream",
       "stream": "stdout",
       "text": [
        " 0.384874840444 0.957029826787 3234 3745\n",
        "1300\n",
        "collision!"
       ]
      },
      {
       "output_type": "stream",
       "stream": "stdout",
       "text": [
        " 0.916458906638 0.0255280697936 3237 1305\n",
        "1301\n",
        "collision!"
       ]
      },
      {
       "output_type": "stream",
       "stream": "stdout",
       "text": [
        " 0.660373392869 0.2176691313 3237 3489\n",
        "1302\n",
        "collision!"
       ]
      },
      {
       "output_type": "stream",
       "stream": "stdout",
       "text": [
        " 0.584658498364 0.00400450388058 3238 850\n",
        "1303\n",
        "collision!"
       ]
      },
      {
       "output_type": "stream",
       "stream": "stdout",
       "text": [
        " 0.455751079391 0.342338712182 3238 3385\n",
        "1304\n",
        "collision!"
       ]
      },
      {
       "output_type": "stream",
       "stream": "stdout",
       "text": [
        " 0.220838933141 0.0322121980948 3241 10\n",
        "1305\n",
        "collision!"
       ]
      },
      {
       "output_type": "stream",
       "stream": "stdout",
       "text": [
        " 0.476178335511 0.991984015354 3241 2285\n",
        "1306\n",
        "collision! 0.784539171176 0.0324774305032 3241 2694\n",
        "1307\n",
        "collision!"
       ]
      },
      {
       "output_type": "stream",
       "stream": "stdout",
       "text": [
        " 0.155702519158 0.960649017897 3243 642\n",
        "1308\n",
        "collision!"
       ]
      },
      {
       "output_type": "stream",
       "stream": "stdout",
       "text": [
        " 0.292858866012 0.915766292179 3245 745\n",
        "1309\n",
        "collision! 0.869131268595 0.519554412652 3245 992\n",
        "1310\n",
        "collision!"
       ]
      },
      {
       "output_type": "stream",
       "stream": "stdout",
       "text": [
        " 0.252130845663 0.905914882504 3248 1592\n",
        "1311\n",
        "collision!"
       ]
      },
      {
       "output_type": "stream",
       "stream": "stdout",
       "text": [
        " 0.965171882072 0.617947545564 3255 2708\n",
        "1312\n",
        "collision!"
       ]
      },
      {
       "output_type": "stream",
       "stream": "stdout",
       "text": [
        " 0.345279356117 0.213646009454 3264 824\n",
        "1313\n",
        "collision!"
       ]
      },
      {
       "output_type": "stream",
       "stream": "stdout",
       "text": [
        " 0.432038048843 0.23215604293 3266 2232\n",
        "1314\n",
        "collision!"
       ]
      },
      {
       "output_type": "stream",
       "stream": "stdout",
       "text": [
        " 0.251733337456 0.280227392716 3269 239\n",
        "1315\n",
        "collision!"
       ]
      },
      {
       "output_type": "stream",
       "stream": "stdout",
       "text": [
        " 0.382466449018 0.272234712573 3272 648\n",
        "1316\n",
        "collision!"
       ]
      },
      {
       "output_type": "stream",
       "stream": "stdout",
       "text": [
        " 0.456109575877 0.368143622226 3279 932\n",
        "1317\n",
        "collision! 0.0332887985932 0.297966283326 3279 1592\n",
        "1318\n",
        "collision!"
       ]
      },
      {
       "output_type": "stream",
       "stream": "stdout",
       "text": [
        " 0.706227797561 0.575539376196 3280 1045\n",
        "1319\n",
        "collision!"
       ]
      },
      {
       "output_type": "stream",
       "stream": "stdout",
       "text": [
        " 0.0895016026427 0.261917533676 3281 1863\n",
        "1320\n",
        "collision!"
       ]
      },
      {
       "output_type": "stream",
       "stream": "stdout",
       "text": [
        " 0.114527122341 0.856131346013 3285 834\n",
        "1321\n",
        "collision!"
       ]
      },
      {
       "output_type": "stream",
       "stream": "stdout",
       "text": [
        " 0.564474888082 0.158426563523 3287 172\n",
        "1322\n",
        "collision!"
       ]
      },
      {
       "output_type": "stream",
       "stream": "stdout",
       "text": [
        " 0.0775490768812 0.93561233316 3287 4208\n",
        "1323\n",
        "collision!"
       ]
      },
      {
       "output_type": "stream",
       "stream": "stdout",
       "text": [
        " 0.757563742149 0.654916985498 3289 510\n",
        "1324\n",
        "collision! 0.515396691568 0.257115606127 3289 841\n",
        "1325\n",
        "collision!"
       ]
      },
      {
       "output_type": "stream",
       "stream": "stdout",
       "text": [
        " 0.643710032767 0.272459461656 3289 3657\n",
        "1326\n",
        "collision!"
       ]
      },
      {
       "output_type": "stream",
       "stream": "stdout",
       "text": [
        " 0.519752973175 0.428903196526 3292 3037\n",
        "1327\n",
        "collision!"
       ]
      },
      {
       "output_type": "stream",
       "stream": "stdout",
       "text": [
        " 0.708364162706 0.414623203402 3293 3844\n",
        "1328\n",
        "collision!"
       ]
      },
      {
       "output_type": "stream",
       "stream": "stdout",
       "text": [
        " 0.665832964464 0.029390675636 3299 2575\n",
        "1329\n",
        "collision!"
       ]
      },
      {
       "output_type": "stream",
       "stream": "stdout",
       "text": [
        " 0.337716949706 0.157146049563 3305 3448\n",
        "1330\n",
        "collision!"
       ]
      },
      {
       "output_type": "stream",
       "stream": "stdout",
       "text": [
        " 0.940217651476 0.653093146827 3307 993\n",
        "1331\n",
        "collision!"
       ]
      },
      {
       "output_type": "stream",
       "stream": "stdout",
       "text": [
        " 0.957540701107 0.730546960057 3308 868\n",
        "1332\n",
        "collision! 0.209771300723 0.0139652552334 3308 897\n",
        "1333\n",
        "collision! 0.196441329723 0.660591943758 3308 910\n",
        "1334\n",
        "collision! 0.754957125548 0.338451388386 3308 1424\n",
        "1335\n",
        "collision!"
       ]
      },
      {
       "output_type": "stream",
       "stream": "stdout",
       "text": [
        " 0.941794816655 0.153258561827 3308 2336\n",
        "1336\n",
        "collision! 0.221606791761 0.173659488064 3308 2806\n",
        "1337\n",
        "collision!"
       ]
      },
      {
       "output_type": "stream",
       "stream": "stdout",
       "text": [
        " 0.215396791057 0.385692134971 3308 3616\n",
        "1338\n",
        "collision!"
       ]
      },
      {
       "output_type": "stream",
       "stream": "stdout",
       "text": [
        " 0.682404999349 0.596694706802 3310 2312\n",
        "1339\n",
        "collision!"
       ]
      },
      {
       "output_type": "stream",
       "stream": "stdout",
       "text": [
        " 0.419965191727 0.256470838129 3310 3770\n",
        "1340\n",
        "collision!"
       ]
      },
      {
       "output_type": "stream",
       "stream": "stdout",
       "text": [
        " 0.147190294283 0.625581752946 3315 2760\n",
        "1341\n",
        "collision!"
       ]
      },
      {
       "output_type": "stream",
       "stream": "stdout",
       "text": [
        " 0.112268564746 0.853457142879 3319 580\n",
        "1342\n",
        "collision!"
       ]
      },
      {
       "output_type": "stream",
       "stream": "stdout",
       "text": [
        " 0.85548723158 0.337446626094 3320 654\n",
        "1343\n",
        "collision! 0.802598154845 0.535956688646 3320 826\n",
        "1344\n",
        "collision!"
       ]
      },
      {
       "output_type": "stream",
       "stream": "stdout",
       "text": [
        " 0.472944788649 0.142120746146 3320 2900\n",
        "1345\n",
        "collision!"
       ]
      },
      {
       "output_type": "stream",
       "stream": "stdout",
       "text": [
        " 0.783125306871 0.719037254436 3324 2722\n",
        "1346\n",
        "collision!"
       ]
      },
      {
       "output_type": "stream",
       "stream": "stdout",
       "text": [
        " 0.360293054167 0.857203968329 3327 857\n",
        "1347\n",
        "collision!"
       ]
      },
      {
       "output_type": "stream",
       "stream": "stdout",
       "text": [
        " 0.863319189977 0.504725322413 3327 3967\n",
        "1348\n",
        "collision!"
       ]
      },
      {
       "output_type": "stream",
       "stream": "stdout",
       "text": [
        " 0.664565128484 0.025430986883 3328 1864\n",
        "1349\n",
        "collision! 0.697063194203 0.292983103758 3328 2480\n",
        "1350\n",
        "collision!"
       ]
      },
      {
       "output_type": "stream",
       "stream": "stdout",
       "text": [
        " 0.838920140152 0.720466768485 3328 3426\n",
        "1351\n",
        "collision!"
       ]
      },
      {
       "output_type": "stream",
       "stream": "stdout",
       "text": [
        " 0.478304585803 0.577640649805 3332 366\n",
        "1352\n",
        "collision! 0.284377598909 0.543890041082 3332 1193\n",
        "1353\n",
        "collision!"
       ]
      },
      {
       "output_type": "stream",
       "stream": "stdout",
       "text": [
        " 0.351136653225 0.826812364525 3332 1476\n",
        "1354\n",
        "collision!"
       ]
      },
      {
       "output_type": "stream",
       "stream": "stdout",
       "text": [
        " 0.709459598393 0.172612224737 3332 2885\n",
        "1355\n",
        "collision! 0.472416471788 0.737205166172 3332 3747\n",
        "1356\n",
        "collision!"
       ]
      },
      {
       "output_type": "stream",
       "stream": "stdout",
       "text": [
        " 0.0652821302526 0.866612797259 3337 2405\n",
        "1357\n",
        "collision! 0.958490671294 0.916969749748 3337 2788\n",
        "1358\n",
        "collision!"
       ]
      },
      {
       "output_type": "stream",
       "stream": "stdout",
       "text": [
        " 0.780051892925 0.223427572767 3340 2119\n",
        "1359\n",
        "collision!"
       ]
      },
      {
       "output_type": "stream",
       "stream": "stdout",
       "text": [
        " 0.468436360664 0.19918666511 3341 1864\n",
        "1360\n",
        "collision!"
       ]
      },
      {
       "output_type": "stream",
       "stream": "stdout",
       "text": [
        " 0.312407684495 0.796983760901 3342 1784\n",
        "1361\n",
        "collision!"
       ]
      },
      {
       "output_type": "stream",
       "stream": "stdout",
       "text": [
        " 0.291356794111 0.472493077128 3342 4028\n",
        "1362\n",
        "collision!"
       ]
      },
      {
       "output_type": "stream",
       "stream": "stdout",
       "text": [
        " 0.772730217792 0.730938302474 3345 228\n",
        "1363\n",
        "collision!"
       ]
      },
      {
       "output_type": "stream",
       "stream": "stdout",
       "text": [
        " 0.75781091713 0.93275687894 3345 3216\n",
        "1364\n",
        "collision!"
       ]
      },
      {
       "output_type": "stream",
       "stream": "stdout",
       "text": [
        " 0.879229371109 0.452432312009 3351 1776\n",
        "1365\n",
        "collision! 0.910589536055 0.888889967342 3351 1909\n",
        "1366\n",
        "collision!"
       ]
      },
      {
       "output_type": "stream",
       "stream": "stdout",
       "text": [
        " 0.471442803112 0.153082535514 3355 2119\n",
        "1367\n",
        "collision!"
       ]
      },
      {
       "output_type": "stream",
       "stream": "stdout",
       "text": [
        " 0.893787520679 0.905400658707 3362 1563\n",
        "1368\n",
        "collision!"
       ]
      },
      {
       "output_type": "stream",
       "stream": "stdout",
       "text": [
        " 0.829419007731 0.0622026391871 3362 2677\n",
        "1369\n",
        "collision!"
       ]
      },
      {
       "output_type": "stream",
       "stream": "stdout",
       "text": [
        " 0.733552074126 0.632950314829 3363 1597\n",
        "1370\n",
        "collision!"
       ]
      },
      {
       "output_type": "stream",
       "stream": "stdout",
       "text": [
        " 0.110920488378 0.522858049027 3363 3164\n",
        "1371\n",
        "collision!"
       ]
      },
      {
       "output_type": "stream",
       "stream": "stdout",
       "text": [
        " 0.935244554464 0.193462113644 3364 2644\n",
        "1372\n",
        "collision!"
       ]
      },
      {
       "output_type": "stream",
       "stream": "stdout",
       "text": [
        " 0.857798893634 0.966393674714 3368 429\n",
        "1373\n",
        "collision!"
       ]
      },
      {
       "output_type": "stream",
       "stream": "stdout",
       "text": [
        " 0.62709053808 0.537025438872 3368 3372\n",
        "1374\n",
        "collision!"
       ]
      },
      {
       "output_type": "stream",
       "stream": "stdout",
       "text": [
        " 0.573071791661 0.732929557833 3376 4076\n",
        "1375\n",
        "collision!"
       ]
      },
      {
       "output_type": "stream",
       "stream": "stdout",
       "text": [
        " 0.835881631642 0.464416507551 3377 2839\n",
        "1376\n",
        "collision!"
       ]
      },
      {
       "output_type": "stream",
       "stream": "stdout",
       "text": [
        " 0.267368209488 0.665895927641 3378 3635\n",
        "1377\n",
        "collision!"
       ]
      },
      {
       "output_type": "stream",
       "stream": "stdout",
       "text": [
        " 0.0464173449012 0.903130921538 3386 824\n",
        "1378\n",
        "collision!"
       ]
      },
      {
       "output_type": "stream",
       "stream": "stdout",
       "text": [
        " 0.168813046693 0.0236165504431 3388 2599\n",
        "1379\n",
        "collision! 0.896995489238 0.762835738163 3388 2760\n",
        "1380\n",
        "collision!"
       ]
      },
      {
       "output_type": "stream",
       "stream": "stdout",
       "text": [
        " 0.0568600376064 0.485035933111 3392 1666\n",
        "1381\n",
        "collision!"
       ]
      },
      {
       "output_type": "stream",
       "stream": "stdout",
       "text": [
        " 0.0929917919048 0.498205186313 3392 4335\n",
        "1382\n",
        "collision!"
       ]
      },
      {
       "output_type": "stream",
       "stream": "stdout",
       "text": [
        " 0.822493896696 0.294870233495 3400 258\n",
        "1383\n",
        "collision!"
       ]
      },
      {
       "output_type": "stream",
       "stream": "stdout",
       "text": [
        " 0.286442071846 0.367963200051 3401 879\n",
        "1384\n",
        "collision!"
       ]
      },
      {
       "output_type": "stream",
       "stream": "stdout",
       "text": [
        " 0.222164066532 0.491238034683 3402 3100\n",
        "1385\n",
        "collision! 0.0909524623119 0.476118431028 3402 3710\n",
        "1386\n",
        "collision!"
       ]
      },
      {
       "output_type": "stream",
       "stream": "stdout",
       "text": [
        " 0.730792060608 0.566923445549 3403 281\n",
        "1387\n",
        "collision!"
       ]
      },
      {
       "output_type": "stream",
       "stream": "stdout",
       "text": [
        " 0.901881398492 0.276148287603 3404 3536\n",
        "1388\n",
        "collision! 0.796486875384 0.85406150155 3404 4078\n",
        "1389\n",
        "collision!"
       ]
      },
      {
       "output_type": "stream",
       "stream": "stdout",
       "text": [
        " 0.744280121679 0.236038238904 3404 4515\n",
        "1390\n",
        "collision!"
       ]
      },
      {
       "output_type": "stream",
       "stream": "stdout",
       "text": [
        " 0.670885007938 0.708879515232 3407 1784\n",
        "1391\n",
        "collision!"
       ]
      },
      {
       "output_type": "stream",
       "stream": "stdout",
       "text": [
        " 0.0278174375839 0.393748968788 3411 1164\n",
        "1392\n",
        "collision!"
       ]
      },
      {
       "output_type": "stream",
       "stream": "stdout",
       "text": [
        " 0.883238912384 0.22304480135 3411 3661\n",
        "1393\n",
        "collision! 0.167114213486 0.466566388546 3411 4481\n",
        "1394\n",
        "collision!"
       ]
      },
      {
       "output_type": "stream",
       "stream": "stdout",
       "text": [
        " 0.761415698777 0.586081220382 3415 2532\n",
        "1395\n",
        "collision!"
       ]
      },
      {
       "output_type": "stream",
       "stream": "stdout",
       "text": [
        " 0.534820950873 0.585655453675 3416 1864\n",
        "1396\n",
        "collision!"
       ]
      },
      {
       "output_type": "stream",
       "stream": "stdout",
       "text": [
        " 0.424894677211 0.954164513216 3417 2290\n",
        "1397\n",
        "collision!"
       ]
      },
      {
       "output_type": "stream",
       "stream": "stdout",
       "text": [
        " 0.0841963784541 0.307585994413 3418 1526\n",
        "1398\n",
        "collision!"
       ]
      },
      {
       "output_type": "stream",
       "stream": "stdout",
       "text": [
        " 0.964832396854 0.52451758908 3419 189\n",
        "1399\n",
        "collision! 0.445991262284 0.145889172488 3419 443\n",
        "1400\n",
        "collision! 0.342856664731 0.102290076852 3419 718\n",
        "1401\n",
        "collision!"
       ]
      },
      {
       "output_type": "stream",
       "stream": "stdout",
       "text": [
        " 0.313174895133 0.105599610599 3419 2144\n",
        "1402\n",
        "collision! 0.67648885594 0.166769146073 3419 2472\n",
        "1403\n",
        "collision! 0.0124856327715 0.417341670339 3419 2509\n",
        "1404\n",
        "collision!"
       ]
      },
      {
       "output_type": "stream",
       "stream": "stdout",
       "text": [
        " 0.689626257937 0.302844525484 3423 360\n",
        "1405\n",
        "collision!"
       ]
      },
      {
       "output_type": "stream",
       "stream": "stdout",
       "text": [
        " 0.348222809534 0.516510363646 3423 3354\n",
        "1406\n",
        "collision!"
       ]
      },
      {
       "output_type": "stream",
       "stream": "stdout",
       "text": [
        " 0.0838239772627 0.291232906869 3427 3826\n",
        "1407\n",
        "collision!"
       ]
      },
      {
       "output_type": "stream",
       "stream": "stdout",
       "text": [
        " 0.965868444632 0.983322776801 3434 2613\n",
        "1408\n",
        "collision!"
       ]
      },
      {
       "output_type": "stream",
       "stream": "stdout",
       "text": [
        " 0.673498851965 0.649321449474 3436 367\n",
        "1409\n",
        "collision!"
       ]
      },
      {
       "output_type": "stream",
       "stream": "stdout",
       "text": [
        " 0.981950890653 0.539364399771 3440 870\n",
        "1410\n",
        "collision!"
       ]
      },
      {
       "output_type": "stream",
       "stream": "stdout",
       "text": [
        " 0.104857374058 0.602344407978 3445 899\n",
        "1411\n",
        "collision! 0.160312773564 0.628513029273 3445 1564\n",
        "1412\n",
        "collision!"
       ]
      },
      {
       "output_type": "stream",
       "stream": "stdout",
       "text": [
        " 0.195948571229 0.942663743007 3453 1109\n",
        "1413\n",
        "collision! 0.0377733719088 0.0636849831858 3453 2052\n",
        "1414\n",
        "collision!"
       ]
      },
      {
       "output_type": "stream",
       "stream": "stdout",
       "text": [
        " 0.555686904428 0.411357523871 3454 510\n",
        "1415\n",
        "collision! 0.794400368743 0.00667524024236 3454 1173\n",
        "1416\n",
        "collision!"
       ]
      },
      {
       "output_type": "stream",
       "stream": "stdout",
       "text": [
        " 0.784119067251 0.358881399665 3455 2236\n",
        "1417\n",
        "collision!"
       ]
      },
      {
       "output_type": "stream",
       "stream": "stdout",
       "text": [
        " 0.584061000563 0.228139782729 3457 2001\n",
        "1418\n",
        "collision!"
       ]
      },
      {
       "output_type": "stream",
       "stream": "stdout",
       "text": [
        " 0.696584765643 0.617113236627 3458 3732\n",
        "1419\n",
        "collision!"
       ]
      },
      {
       "output_type": "stream",
       "stream": "stdout",
       "text": [
        " 0.745635489291 0.246589386035 3460 2894\n",
        "1420\n",
        "collision!"
       ]
      },
      {
       "output_type": "stream",
       "stream": "stdout",
       "text": [
        " 0.596112474473 0.747390353749 3465 1808\n",
        "1421\n",
        "collision!"
       ]
      },
      {
       "output_type": "stream",
       "stream": "stdout",
       "text": [
        " 0.719370109503 0.791687007793 3468 3193\n",
        "1422\n",
        "collision!"
       ]
      },
      {
       "output_type": "stream",
       "stream": "stdout",
       "text": [
        " 0.0310090015493 0.139955130956 3469 1663\n",
        "1423\n",
        "collision!"
       ]
      },
      {
       "output_type": "stream",
       "stream": "stdout",
       "text": [
        " 0.506926738564 0.465819178508 3470 322\n",
        "1424\n",
        "collision!"
       ]
      },
      {
       "output_type": "stream",
       "stream": "stdout",
       "text": [
        " 0.179406139734 0.137818518498 3485 2021\n",
        "1425\n",
        "collision! 0.331447316731 0.331966619188 3485 2238\n",
        "1426\n",
        "collision!"
       ]
      },
      {
       "output_type": "stream",
       "stream": "stdout",
       "text": [
        " 0.16790673295 0.598515744782 3490 79\n",
        "1427\n",
        "collision!"
       ]
      },
      {
       "output_type": "stream",
       "stream": "stdout",
       "text": [
        " 0.680325867594 0.860805271029 3491 2258\n",
        "1428\n",
        "collision! 0.395385339587 0.411496282805 3491 2269\n",
        "1429\n",
        "collision! 0.189826141333 0.300455717236 3491 2903\n",
        "1430\n",
        "collision!"
       ]
      },
      {
       "output_type": "stream",
       "stream": "stdout",
       "text": [
        " 0.388135160766 0.463774490923 3493 2000\n",
        "1431\n",
        "collision!"
       ]
      },
      {
       "output_type": "stream",
       "stream": "stdout",
       "text": [
        " 0.732032579758 0.174283012587 3495 3536\n",
        "1432\n",
        "collision!"
       ]
      },
      {
       "output_type": "stream",
       "stream": "stdout",
       "text": [
        " 0.89747695012 0.224228569087 3496 2356\n",
        "1433\n",
        "collision! 0.654707976591 0.401634500901 3496 3258\n",
        "1434\n",
        "collision!"
       ]
      },
      {
       "output_type": "stream",
       "stream": "stdout",
       "text": [
        " 0.787316462458 0.209326657986 3502 745\n",
        "1435\n",
        "collision!"
       ]
      },
      {
       "output_type": "stream",
       "stream": "stdout",
       "text": [
        " 0.680704430816 0.587093772419 3502 2779\n",
        "1436\n",
        "collision!"
       ]
      },
      {
       "output_type": "stream",
       "stream": "stdout",
       "text": [
        " 0.840108260891 0.746381907626 3504 3262\n",
        "1437\n",
        "collision!"
       ]
      },
      {
       "output_type": "stream",
       "stream": "stdout",
       "text": [
        " 0.974112435905 0.394751815198 3511 4271\n",
        "1438\n",
        "collision!"
       ]
      },
      {
       "output_type": "stream",
       "stream": "stdout",
       "text": [
        " 0.686778139039 0.584361407441 3516 3549\n",
        "1439\n",
        "collision!"
       ]
      },
      {
       "output_type": "stream",
       "stream": "stdout",
       "text": [
        " 0.0337410205809 0.408497551351 3520 1266\n",
        "1440\n",
        "collision!"
       ]
      },
      {
       "output_type": "stream",
       "stream": "stdout",
       "text": [
        " 0.160071915072 0.469039165851 3527 4461\n",
        "1441\n",
        "collision!"
       ]
      },
      {
       "output_type": "stream",
       "stream": "stdout",
       "text": [
        " 0.0748134616678 0.00653375057482 3528 2575\n",
        "1442\n",
        "collision!"
       ]
      },
      {
       "output_type": "stream",
       "stream": "stdout",
       "text": [
        " 0.135788988862 0.799037009477 3529 2677\n",
        "1443\n",
        "collision!"
       ]
      },
      {
       "output_type": "stream",
       "stream": "stdout",
       "text": [
        " 0.668210837743 0.540581209173 3531 4401\n",
        "1444\n",
        "collision!"
       ]
      },
      {
       "output_type": "stream",
       "stream": "stdout",
       "text": [
        " 0.324587470928 0.182355990726 3533 569\n",
        "1445\n",
        "collision!"
       ]
      },
      {
       "output_type": "stream",
       "stream": "stdout",
       "text": [
        " 0.616615694755 0.983920384736 3534 2682\n",
        "1446\n",
        "collision!"
       ]
      },
      {
       "output_type": "stream",
       "stream": "stdout",
       "text": [
        " 0.734760168754 0.631069694983 3539 2433\n",
        "1447\n",
        "collision!"
       ]
      },
      {
       "output_type": "stream",
       "stream": "stdout",
       "text": [
        " 0.936515326108 0.912002371542 3540 3009\n",
        "1448\n",
        "collision!"
       ]
      },
      {
       "output_type": "stream",
       "stream": "stdout",
       "text": [
        " 0.432095149485 0.827416935619 3547 2289\n",
        "1449\n",
        "collision!"
       ]
      },
      {
       "output_type": "stream",
       "stream": "stdout",
       "text": [
        " 0.0466832216133 0.995750304373 3548 1162\n",
        "1450\n",
        "collision! 0.875784198298 0.0979589222396 3548 1349\n",
        "1451\n",
        "collision!"
       ]
      },
      {
       "output_type": "stream",
       "stream": "stdout",
       "text": [
        " 0.307007285183 0.483823522679 3549 1173\n",
        "1452\n",
        "collision!"
       ]
      },
      {
       "output_type": "stream",
       "stream": "stdout",
       "text": [
        " 0.506694066263 0.469060912232 3551 2694\n",
        "1453\n",
        "collision!"
       ]
      },
      {
       "output_type": "stream",
       "stream": "stdout",
       "text": [
        " 0.730457409922 0.102962717539 3552 755\n",
        "1454\n",
        "collision!"
       ]
      },
      {
       "output_type": "stream",
       "stream": "stdout",
       "text": [
        " 0.602359220283 0.867872389805 3553 12\n",
        "1455\n",
        "collision! 0.802038178835 0.234383282836 3553 231\n",
        "1456\n",
        "collision! 0.0589480717285 0.0767997045066 3553 293\n",
        "1457\n",
        "collision!"
       ]
      },
      {
       "output_type": "stream",
       "stream": "stdout",
       "text": [
        " 0.936785272693 0.577092109958 3553 953\n",
        "1458\n",
        "collision! 0.98038450293 0.689225732592 3553 1849\n",
        "1459\n",
        "collision!"
       ]
      },
      {
       "output_type": "stream",
       "stream": "stdout",
       "text": [
        " 0.862946749642 0.974851363707 3553 2611\n",
        "1460\n",
        "collision! 0.289933477954 0.0434858074096 3553 3246\n",
        "1461\n",
        "collision! 0.356094276134 0.20821609394 3553 3542\n",
        "1462\n",
        "collision!"
       ]
      },
      {
       "output_type": "stream",
       "stream": "stdout",
       "text": [
        " 0.555730225574 0.489332677709 3553 3973\n",
        "1463\n",
        "collision!"
       ]
      },
      {
       "output_type": "stream",
       "stream": "stdout",
       "text": [
        " 0.39231175582 0.740701623978 3554 2634\n",
        "1464\n",
        "collision!"
       ]
      },
      {
       "output_type": "stream",
       "stream": "stdout",
       "text": [
        " 0.388366677365 0.607739685794 3561 216\n",
        "1465\n",
        "collision!"
       ]
      },
      {
       "output_type": "stream",
       "stream": "stdout",
       "text": [
        " 0.594856676219 0.478088650549 3562 4195\n",
        "1466\n",
        "collision!"
       ]
      },
      {
       "output_type": "stream",
       "stream": "stdout",
       "text": [
        " 0.510846216035 0.749243550539 3565 4534\n",
        "1467\n",
        "collision!"
       ]
      },
      {
       "output_type": "stream",
       "stream": "stdout",
       "text": [
        " 0.429311189281 0.472222093668 3571 4445\n",
        "1468\n",
        "collision!"
       ]
      },
      {
       "output_type": "stream",
       "stream": "stdout",
       "text": [
        " 0.783884584914 0.309265274747 3573 745\n",
        "1469\n",
        "collision!"
       ]
      },
      {
       "output_type": "stream",
       "stream": "stdout",
       "text": [
        " 0.317053542421 0.977915719985 3573 1871\n",
        "1470\n",
        "collision!"
       ]
      },
      {
       "output_type": "stream",
       "stream": "stdout",
       "text": [
        " 0.498522708343 0.599338261432 3573 3483\n",
        "1471\n",
        "collision! 0.586427259238 0.723910265088 3573 3572\n",
        "1472\n",
        "collision!"
       ]
      },
      {
       "output_type": "stream",
       "stream": "stdout",
       "text": [
        " 0.293696485052 0.456516966501 3578 3036\n",
        "1473\n",
        "collision!"
       ]
      },
      {
       "output_type": "stream",
       "stream": "stdout",
       "text": [
        " 0.866379637195 0.0708014217162 3581 2048\n",
        "1474\n",
        "collision!"
       ]
      },
      {
       "output_type": "stream",
       "stream": "stdout",
       "text": [
        " 0.923068777672 0.722070299951 3581 3382\n",
        "1475\n",
        "collision! 0.721057911335 0.73141154927 3581 3449\n",
        "1476\n",
        "collision!"
       ]
      },
      {
       "output_type": "stream",
       "stream": "stdout",
       "text": [
        " 0.594634063005 0.873321598042 3584 1702\n",
        "1477\n",
        "collision! 0.508109064707 0.178448188521 3584 2356\n",
        "1478\n",
        "collision!"
       ]
      },
      {
       "output_type": "stream",
       "stream": "stdout",
       "text": [
        " 0.938178830669 0.927154735129 3588 1165\n",
        "1479\n",
        "collision!"
       ]
      },
      {
       "output_type": "stream",
       "stream": "stdout",
       "text": [
        " 0.332683169627 0.845458332241 3596 238\n",
        "1480\n",
        "collision!"
       ]
      },
      {
       "output_type": "stream",
       "stream": "stdout",
       "text": [
        " 0.629677129655 0.313213043568 3607 485\n",
        "1481\n",
        "collision!"
       ]
      },
      {
       "output_type": "stream",
       "stream": "stdout",
       "text": [
        " 0.233867270517 0.382927444646 3612 293\n",
        "1482\n",
        "collision!"
       ]
      },
      {
       "output_type": "stream",
       "stream": "stdout",
       "text": [
        " 0.475707657486 0.479101054403 3616 288\n",
        "1483\n",
        "collision!"
       ]
      },
      {
       "output_type": "stream",
       "stream": "stdout",
       "text": [
        " 0.890786734444 0.281172161939 3621 1537\n",
        "1484\n",
        "collision!"
       ]
      },
      {
       "output_type": "stream",
       "stream": "stdout",
       "text": [
        " 0.599728362847 0.77585236217 3621 2723\n",
        "1485\n",
        "collision!"
       ]
      },
      {
       "output_type": "stream",
       "stream": "stdout",
       "text": [
        " 0.23487817112 0.229518219692 3623 371\n",
        "1486\n",
        "collision!"
       ]
      },
      {
       "output_type": "stream",
       "stream": "stdout",
       "text": [
        " 0.0622773978696 0.2222810491 3627 1537\n",
        "1487\n",
        "collision!"
       ]
      },
      {
       "output_type": "stream",
       "stream": "stdout",
       "text": [
        " 0.315937696873 0.694831089089 3631 333\n",
        "1488\n",
        "collision!"
       ]
      },
      {
       "output_type": "stream",
       "stream": "stdout",
       "text": [
        " 0.170403931772 0.12728169941 3640 2449\n",
        "1489\n",
        "collision!"
       ]
      },
      {
       "output_type": "stream",
       "stream": "stdout",
       "text": [
        " 0.137542725781 0.24346415793 3641 1568\n",
        "1490\n",
        "collision!"
       ]
      },
      {
       "output_type": "stream",
       "stream": "stdout",
       "text": [
        " 0.108177930977 0.284826636989 3645 1409\n",
        "1491\n",
        "collision!"
       ]
      },
      {
       "output_type": "stream",
       "stream": "stdout",
       "text": [
        " 0.866939668353 0.236952434252 3646 216\n",
        "1492\n",
        "collision!"
       ]
      },
      {
       "output_type": "stream",
       "stream": "stdout",
       "text": [
        " 0.539649906897 0.249106521377 3646 2372\n",
        "1493\n",
        "collision!"
       ]
      },
      {
       "output_type": "stream",
       "stream": "stdout",
       "text": [
        " 0.851930355905 0.0424820554546 3653 1832\n",
        "1494\n",
        "collision! 0.845023346172 0.541165993362 3653 2186\n",
        "1495\n",
        "collision!"
       ]
      },
      {
       "output_type": "stream",
       "stream": "stdout",
       "text": [
        " 0.558825672681 0.0404342276913 3662 1043\n",
        "1496\n",
        "collision!"
       ]
      },
      {
       "output_type": "stream",
       "stream": "stdout",
       "text": [
        " 0.551548941808 0.433901832416 3675 1006\n",
        "1497\n",
        "collision! 0.0826743158104 0.00181743601623 3675 1305\n",
        "1498\n",
        "collision! 0.920923370839 0.849135458807 3675 1944\n",
        "1499\n",
        "collision!"
       ]
      },
      {
       "output_type": "stream",
       "stream": "stdout",
       "text": [
        " 0.894054846592 0.284064831546 3675 2275\n",
        "1500\n",
        "collision! 0.0547062709777 0.640102644341 3675 2874\n",
        "1501\n",
        "collision!"
       ]
      },
      {
       "output_type": "stream",
       "stream": "stdout",
       "text": [
        " 0.639318174546 0.422357809496 3675 3599\n",
        "1502\n",
        "collision!"
       ]
      },
      {
       "output_type": "stream",
       "stream": "stdout",
       "text": [
        " 0.95825821342 0.055078268564 3676 1043\n",
        "1503\n",
        "collision!"
       ]
      },
      {
       "output_type": "stream",
       "stream": "stdout",
       "text": [
        " 0.220685145014 0.861435365369 3690 389\n",
        "1504\n",
        "collision! 0.784596324471 0.657388426119 3690 1184\n",
        "1505\n",
        "collision!"
       ]
      },
      {
       "output_type": "stream",
       "stream": "stdout",
       "text": [
        " 0.0134325428592 0.188706742833 3698 2694\n",
        "1506\n",
        "collision!"
       ]
      },
      {
       "output_type": "stream",
       "stream": "stdout",
       "text": [
        " 0.715830104691 0.761353276914 3700 3427\n",
        "1507\n",
        "collision!"
       ]
      },
      {
       "output_type": "stream",
       "stream": "stdout",
       "text": [
        " 0.196737209088 0.935372930804 3703 2634\n",
        "1508\n",
        "collision!"
       ]
      },
      {
       "output_type": "stream",
       "stream": "stdout",
       "text": [
        " 0.0218238424395 0.15316330323 3704 4512\n",
        "1509\n",
        "collision!"
       ]
      },
      {
       "output_type": "stream",
       "stream": "stdout",
       "text": [
        " 0.0862126466776 0.119455117586 3712 1305\n",
        "1510\n",
        "collision!"
       ]
      },
      {
       "output_type": "stream",
       "stream": "stdout",
       "text": [
        " 0.0181693753866 0.176663735296 3713 2048\n",
        "1511\n",
        "collision! 0.0214600236691 0.60278390849 3713 2551\n",
        "1512\n",
        "collision! 0.0208995775664 0.232455259646 3713 2770\n",
        "1513\n",
        "collision!"
       ]
      },
      {
       "output_type": "stream",
       "stream": "stdout",
       "text": [
        " 0.916675189016 0.752677085737 3720 2333\n",
        "1514\n",
        "collision!"
       ]
      },
      {
       "output_type": "stream",
       "stream": "stdout",
       "text": [
        " 0.924013782503 0.10377125866 3724 821\n",
        "1515\n",
        "collision!"
       ]
      },
      {
       "output_type": "stream",
       "stream": "stdout",
       "text": [
        " 0.333536394151 0.625789123099 3726 591\n",
        "1516\n",
        "collision!"
       ]
      },
      {
       "output_type": "stream",
       "stream": "stdout",
       "text": [
        " 0.686565629059 0.617767656277 3726 1735\n",
        "1517\n",
        "collision!"
       ]
      },
      {
       "output_type": "stream",
       "stream": "stdout",
       "text": [
        " 0.7652699841 0.0678127414909 3732 3745\n",
        "1518\n",
        "collision!"
       ]
      },
      {
       "output_type": "stream",
       "stream": "stdout",
       "text": [
        " 0.808741407082 0.200099004296 3739 3421\n",
        "1519\n",
        "collision!"
       ]
      },
      {
       "output_type": "stream",
       "stream": "stdout",
       "text": [
        " 0.562722947996 0.0264904249698 3751 3483\n",
        "1520\n",
        "collision!"
       ]
      },
      {
       "output_type": "stream",
       "stream": "stdout",
       "text": [
        " 0.340964254491 0.921927644735 3752 3788\n",
        "1521\n",
        "collision!"
       ]
      },
      {
       "output_type": "stream",
       "stream": "stdout",
       "text": [
        " 0.603197540033 0.71358980234 3761 4221\n",
        "1522\n",
        "collision!"
       ]
      },
      {
       "output_type": "stream",
       "stream": "stdout",
       "text": [
        " 0.231592225904 0.9247029348 3772 3451\n",
        "1523\n",
        "collision!"
       ]
      },
      {
       "output_type": "stream",
       "stream": "stdout",
       "text": [
        " 0.607362311454 0.388850595685 3773 4020\n",
        "1524\n",
        "collision!"
       ]
      },
      {
       "output_type": "stream",
       "stream": "stdout",
       "text": [
        " 0.0849030774757 0.793848032604 3779 3976\n",
        "1525\n",
        "collision!"
       ]
      },
      {
       "output_type": "stream",
       "stream": "stdout",
       "text": [
        " 0.135144463496 0.130310490974 3781 3961\n",
        "1526\n",
        "collision!"
       ]
      },
      {
       "output_type": "stream",
       "stream": "stdout",
       "text": [
        " 0.452545018218 0.140654884675 3792 4401\n",
        "1527\n",
        "collision!"
       ]
      },
      {
       "output_type": "stream",
       "stream": "stdout",
       "text": [
        " 0.875322774476 0.981887143396 3802 2119\n",
        "1528\n",
        "collision!"
       ]
      },
      {
       "output_type": "stream",
       "stream": "stdout",
       "text": [
        " 0.22497885311 0.0444452864281 3806 2599\n",
        "1529\n",
        "collision!"
       ]
      },
      {
       "output_type": "stream",
       "stream": "stdout",
       "text": [
        " 0.676810129971 0.979248231203 3808 3536\n",
        "1530\n",
        "collision!"
       ]
      },
      {
       "output_type": "stream",
       "stream": "stdout",
       "text": [
        " 0.36320386456 0.734582082747 3810 3448\n",
        "1531\n",
        "collision!"
       ]
      },
      {
       "output_type": "stream",
       "stream": "stdout",
       "text": [
        " 0.788910430439 0.288372417151 3811 2694\n",
        "1532\n",
        "collision!"
       ]
      },
      {
       "output_type": "stream",
       "stream": "stdout",
       "text": [
        " 0.958871560386 0.650237268886 3813 1305\n",
        "1533\n",
        "collision!"
       ]
      },
      {
       "output_type": "stream",
       "stream": "stdout",
       "text": [
        " 0.846435978444 0.507606160225 3814 919\n",
        "1534\n",
        "collision!"
       ]
      },
      {
       "output_type": "stream",
       "stream": "stdout",
       "text": [
        " 0.533909575886 0.233059484842 3819 418\n",
        "1535\n",
        "collision!"
       ]
      },
      {
       "output_type": "stream",
       "stream": "stdout",
       "text": [
        " 0.752872578728 0.240762577245 3819 2717\n",
        "1536\n",
        "collision! 0.884327615503 0.525189978535 3819 2986\n",
        "1537\n",
        "collision!"
       ]
      },
      {
       "output_type": "stream",
       "stream": "stdout",
       "text": [
        " 0.291387462599 0.537805247791 3819 3705\n",
        "1538\n",
        "collision! 0.343770916749 0.321387577117 3819 3797\n",
        "1539\n",
        "collision! 0.619290219543 0.0131565334324 3819 3961\n",
        "1540\n",
        "collision! 0.89925844947 0.187341484135 3819 4045\n",
        "1541\n",
        "collision!"
       ]
      },
      {
       "output_type": "stream",
       "stream": "stdout",
       "text": [
        " 0.157193148463 0.627263828909 3823 4047\n",
        "1542\n",
        "collision!"
       ]
      },
      {
       "output_type": "stream",
       "stream": "stdout",
       "text": [
        " 0.722029380425 0.973380695095 3827 3000\n",
        "1543\n",
        "collision!"
       ]
      },
      {
       "output_type": "stream",
       "stream": "stdout",
       "text": [
        " 0.0252390208717 0.561263919599 3828 1925\n",
        "1544\n",
        "collision!"
       ]
      },
      {
       "output_type": "stream",
       "stream": "stdout",
       "text": [
        " 0.390286173623 0.189662704516 3829 381\n",
        "1545\n",
        "collision!"
       ]
      },
      {
       "output_type": "stream",
       "stream": "stdout",
       "text": [
        " 0.693563791845 0.359944290781 3838 2238\n",
        "1546\n",
        "collision! 0.884830955916 0.785957031338 3838 3018\n",
        "1547\n",
        "collision!"
       ]
      },
      {
       "output_type": "stream",
       "stream": "stdout",
       "text": [
        " 0.128501498649 0.117983883965 3840 72\n",
        "1548\n",
        "collision!"
       ]
      },
      {
       "output_type": "stream",
       "stream": "stdout",
       "text": [
        " 0.578127127651 0.281347287285 3840 1785\n",
        "1549\n",
        "collision!"
       ]
      },
      {
       "output_type": "stream",
       "stream": "stdout",
       "text": [
        " 0.356763032889 0.353307200717 3840 3961\n",
        "1550\n",
        "collision!"
       ]
      },
      {
       "output_type": "stream",
       "stream": "stdout",
       "text": [
        " 0.733835096201 0.642861176834 3850 2784\n",
        "1551\n",
        "collision!"
       ]
      },
      {
       "output_type": "stream",
       "stream": "stdout",
       "text": [
        " 0.512137756525 0.292791539728 3851 3477\n",
        "1552\n",
        "collision!"
       ]
      },
      {
       "output_type": "stream",
       "stream": "stdout",
       "text": [
        " 0.655441004392 0.627446258536 3854 4310\n",
        "1553\n",
        "collision!"
       ]
      },
      {
       "output_type": "stream",
       "stream": "stdout",
       "text": [
        " 0.176616675255 0.089992715836 3862 72\n",
        "1554\n",
        "collision! 0.812914484591 0.313347066385 3862 484\n",
        "1555\n",
        "collision! 0.768444272552 0.821264555277 3862 942\n",
        "1556\n",
        "collision!"
       ]
      },
      {
       "output_type": "stream",
       "stream": "stdout",
       "text": [
        " 0.0719463757595 0.415760514093 3880 911\n",
        "1557\n",
        "collision!"
       ]
      },
      {
       "output_type": "stream",
       "stream": "stdout",
       "text": [
        " 0.638454741973 0.318556074295 3881 2027\n",
        "1558\n",
        "collision!"
       ]
      },
      {
       "output_type": "stream",
       "stream": "stdout",
       "text": [
        " 0.41552418627 0.444134977567 3881 3284\n",
        "1559\n",
        "collision!"
       ]
      },
      {
       "output_type": "stream",
       "stream": "stdout",
       "text": [
        " 0.886135332779 0.758016499643 3882 4231\n",
        "1560\n",
        "collision!"
       ]
      },
      {
       "output_type": "stream",
       "stream": "stdout",
       "text": [
        " 0.0343485229174 0.913761315866 3888 2796\n",
        "1561\n",
        "collision!"
       ]
      },
      {
       "output_type": "stream",
       "stream": "stdout",
       "text": [
        " 0.263861675407 0.544887283198 3890 1784\n",
        "1562\n",
        "collision!"
       ]
      },
      {
       "output_type": "stream",
       "stream": "stdout",
       "text": [
        " 0.180555467111 0.533806908838 3890 2838\n",
        "1563\n",
        "collision!"
       ]
      },
      {
       "output_type": "stream",
       "stream": "stdout",
       "text": [
        " 0.311466646566 0.370300441277 3890 3807\n",
        "1564\n",
        "collision!"
       ]
      },
      {
       "output_type": "stream",
       "stream": "stdout",
       "text": [
        " 0.194951753343 0.623645178208 3901 4145\n",
        "1565\n",
        "collision!"
       ]
      },
      {
       "output_type": "stream",
       "stream": "stdout",
       "text": [
        " 0.906871442519 0.709348899585 3903 1556\n",
        "1566\n",
        "collision!"
       ]
      },
      {
       "output_type": "stream",
       "stream": "stdout",
       "text": [
        " 0.355962779078 0.646483535857 3918 381\n",
        "1567\n",
        "collision!"
       ]
      },
      {
       "output_type": "stream",
       "stream": "stdout",
       "text": [
        " 0.0866323871551 0.615319037923 3922 269\n",
        "1568\n",
        "collision!"
       ]
      },
      {
       "output_type": "stream",
       "stream": "stdout",
       "text": [
        " 0.520703088626 0.914322033596 3928 1266\n",
        "1569\n",
        "collision! 0.226855590816 0.122094411581 3928 1409\n",
        "1570\n",
        "collision!"
       ]
      },
      {
       "output_type": "stream",
       "stream": "stdout",
       "text": [
        " 0.439690995675 0.690954727594 3936 207\n",
        "1571\n",
        "collision!"
       ]
      },
      {
       "output_type": "stream",
       "stream": "stdout",
       "text": [
        " 0.139361686556 0.682801367244 3937 2694\n",
        "1572\n",
        "collision!"
       ]
      },
      {
       "output_type": "stream",
       "stream": "stdout",
       "text": [
        " 0.0171094055327 0.562827215136 3938 1264\n",
        "1573\n",
        "collision!"
       ]
      },
      {
       "output_type": "stream",
       "stream": "stdout",
       "text": [
        " 0.620881482926 0.074969187361 3950 10\n",
        "1574\n",
        "collision!"
       ]
      },
      {
       "output_type": "stream",
       "stream": "stdout",
       "text": [
        " 0.870262658523 0.544029403216 3951 1540\n",
        "1575\n",
        "collision!"
       ]
      },
      {
       "output_type": "stream",
       "stream": "stdout",
       "text": [
        " 0.806051562138 0.767516638264 3953 844\n",
        "1576\n",
        "collision!"
       ]
      },
      {
       "output_type": "stream",
       "stream": "stdout",
       "text": [
        " 0.678205327271 0.903393193096 3962 2052\n",
        "1577\n",
        "collision!"
       ]
      },
      {
       "output_type": "stream",
       "stream": "stdout",
       "text": [
        " 0.749899413892 0.72763029494 3966 3814\n",
        "1578\n",
        "collision!"
       ]
      },
      {
       "output_type": "stream",
       "stream": "stdout",
       "text": [
        " 0.810383816419 0.497980835361 3969 1564\n",
        "1579\n",
        "collision! 0.181220183382 0.108204217892 3969 1864\n",
        "1580\n",
        "collision!"
       ]
      },
      {
       "output_type": "stream",
       "stream": "stdout",
       "text": [
        " 0.39594450844 0.314874577273 3974 2806\n",
        "1581\n",
        "collision!"
       ]
      },
      {
       "output_type": "stream",
       "stream": "stdout",
       "text": [
        " 0.0959087272415 0.211695933133 3975 1201\n",
        "1582\n",
        "collision!"
       ]
      },
      {
       "output_type": "stream",
       "stream": "stdout",
       "text": [
        " 0.91561237492 0.63371432192 3976 3140\n",
        "1583\n",
        "collision!"
       ]
      },
      {
       "output_type": "stream",
       "stream": "stdout",
       "text": [
        " 0.96116696691 0.682762351549 3979 1253\n",
        "1584\n",
        "collision!"
       ]
      },
      {
       "output_type": "stream",
       "stream": "stdout",
       "text": [
        " 0.689067315642 0.378028742326 3980 1173\n",
        "1585\n",
        "collision! 0.483044180307 0.945887312541 3980 1476\n",
        "1586\n",
        "collision!"
       ]
      },
      {
       "output_type": "stream",
       "stream": "stdout",
       "text": [
        " 0.18016005745 0.594387000267 3982 4078\n",
        "1587\n",
        "collision!"
       ]
      },
      {
       "output_type": "stream",
       "stream": "stdout",
       "text": [
        " 0.187875148504 0.0234023691645 3983 2449\n",
        "1588\n",
        "collision!"
       ]
      },
      {
       "output_type": "stream",
       "stream": "stdout",
       "text": [
        " 0.910631965496 0.351760474806 3984 2559\n",
        "1589\n",
        "collision!"
       ]
      },
      {
       "output_type": "stream",
       "stream": "stdout",
       "text": [
        " 0.0820097928333 0.577358103195 3984 4060\n",
        "1590\n",
        "collision!"
       ]
      },
      {
       "output_type": "stream",
       "stream": "stdout",
       "text": [
        " 0.452229481582 0.835005043311 3987 667\n",
        "1591\n",
        "collision!"
       ]
      },
      {
       "output_type": "stream",
       "stream": "stdout",
       "text": [
        " 0.686958171413 0.127777746839 3987 3010\n",
        "1592\n",
        "collision! 0.888833069126 0.0838936047304 3987 3183\n",
        "1593\n",
        "collision!"
       ]
      },
      {
       "output_type": "stream",
       "stream": "stdout",
       "text": [
        " 0.478152735151 0.0978658239305 3988 824\n",
        "1594\n",
        "collision!"
       ]
      },
      {
       "output_type": "stream",
       "stream": "stdout",
       "text": [
        " 0.952245092409 0.843933164085 3994 2290\n",
        "1595\n",
        "collision!"
       ]
      },
      {
       "output_type": "stream",
       "stream": "stdout",
       "text": [
        " 0.661706219228 0.51946126228 4005 864\n",
        "1596\n",
        "collision!"
       ]
      },
      {
       "output_type": "stream",
       "stream": "stdout",
       "text": [
        " 0.937420045529 0.997593536273 4005 2236\n",
        "1597\n",
        "collision! 0.673978955501 0.404697692729 4005 2802\n",
        "1598\n",
        "collision!"
       ]
      },
      {
       "output_type": "stream",
       "stream": "stdout",
       "text": [
        " 0.139801722839 0.00545206609798 4005 3815\n",
        "1599\n",
        "collision!"
       ]
      },
      {
       "output_type": "stream",
       "stream": "stdout",
       "text": [
        " 0.555058303712 0.241050250561 4007 181\n",
        "1600\n",
        "collision!"
       ]
      },
      {
       "output_type": "stream",
       "stream": "stdout",
       "text": [
        " 0.411957600274 0.0252628137272 4007 2119\n",
        "1601\n",
        "collision! 0.369858597999 0.611662877707 4007 2871\n",
        "1602\n",
        "collision!"
       ]
      },
      {
       "output_type": "stream",
       "stream": "stdout",
       "text": [
        " 0.769156987784 0.999545283802 4007 3835\n",
        "1603\n",
        "collision!"
       ]
      },
      {
       "output_type": "stream",
       "stream": "stdout",
       "text": [
        " 0.611502698771 0.343974243672 4010 216\n",
        "1604\n",
        "collision!"
       ]
      },
      {
       "output_type": "stream",
       "stream": "stdout",
       "text": [
        " 0.212373207249 0.395659787316 4010 2372\n",
        "1605\n",
        "collision!"
       ]
      },
      {
       "output_type": "stream",
       "stream": "stdout",
       "text": [
        " 0.4164357114 0.88728113612 4014 4271\n",
        "1606\n",
        "collision!"
       ]
      },
      {
       "output_type": "stream",
       "stream": "stdout",
       "text": [
        " 0.490937825673 0.424120094959 4015 2021\n",
        "1607\n",
        "collision!"
       ]
      },
      {
       "output_type": "stream",
       "stream": "stdout",
       "text": [
        " 0.700251397883 0.279644921919 4017 381\n",
        "1608\n",
        "collision!"
       ]
      },
      {
       "output_type": "stream",
       "stream": "stdout",
       "text": [
        " 0.839864674372 0.29466939359 4019 1003\n",
        "1609\n",
        "collision! 0.979417428186 0.430607439826 4019 1313\n",
        "1610\n",
        "collision!"
       ]
      },
      {
       "output_type": "stream",
       "stream": "stdout",
       "text": [
        " 0.761830490792 0.20857944981 4021 1737\n",
        "1611\n",
        "collision!"
       ]
      },
      {
       "output_type": "stream",
       "stream": "stdout",
       "text": [
        " 0.0467398408715 0.133473271144 4021 3940\n",
        "1612\n",
        "collision!"
       ]
      },
      {
       "output_type": "stream",
       "stream": "stdout",
       "text": [
        " 0.519594031922 0.332313262725 4031 1109\n",
        "1613\n",
        "collision! 0.887152673548 0.416926871443 4031 1538\n",
        "1614\n",
        "collision! 0.903799864305 0.367007254752 4031 1731\n",
        "1615\n",
        "collision! 0.701181074256 0.804707190211 4031 1845\n",
        "1616\n",
        "collision! 0.572608623641 0.0489273390915 4031 1856\n",
        "1617\n",
        "collision!"
       ]
      },
      {
       "output_type": "stream",
       "stream": "stdout",
       "text": [
        " 0.550952016576 0.438756455722 4033 2000\n",
        "1618\n",
        "collision!"
       ]
      },
      {
       "output_type": "stream",
       "stream": "stdout",
       "text": [
        " 0.656494149519 0.551604897156 4034 2727\n",
        "1619\n",
        "collision!"
       ]
      },
      {
       "output_type": "stream",
       "stream": "stdout",
       "text": [
        " 0.275663815867 0.454463742264 4036 2597\n",
        "1620\n",
        "collision!"
       ]
      },
      {
       "output_type": "stream",
       "stream": "stdout",
       "text": [
        " 0.338222410152 0.430490579505 4040 2315\n",
        "1621\n",
        "collision!"
       ]
      },
      {
       "output_type": "stream",
       "stream": "stdout",
       "text": [
        " 0.846000611977 0.157438856767 4041 1305\n",
        "1622\n",
        "collision!"
       ]
      },
      {
       "output_type": "stream",
       "stream": "stdout",
       "text": [
        " 0.120227371579 0.598357017542 4043 1758\n",
        "1623\n",
        "collision! 0.692167003317 0.0937911346157 4043 2267\n",
        "1624\n",
        "collision!"
       ]
      },
      {
       "output_type": "stream",
       "stream": "stdout",
       "text": [
        " 0.0512108453573 0.153307380775 4043 3383\n",
        "1625\n",
        "collision! 0.302786005441 0.84493653045 4043 3674\n",
        "1626\n",
        "collision!"
       ]
      },
      {
       "output_type": "stream",
       "stream": "stdout",
       "text": [
        " 0.898125541037 0.466378776218 4044 3316\n",
        "1627\n",
        "collision!"
       ]
      },
      {
       "output_type": "stream",
       "stream": "stdout",
       "text": [
        " 0.0843632005507 0.792316183401 4056 60\n",
        "1628\n",
        "collision! 0.97808148354 0.970715680928 4056 357\n",
        "1629\n",
        "collision!"
       ]
      },
      {
       "output_type": "stream",
       "stream": "stdout",
       "text": [
        " 0.352935109075 0.54264029783 4056 2370\n",
        "1630\n",
        "collision!"
       ]
      },
      {
       "output_type": "stream",
       "stream": "stdout",
       "text": [
        " 0.549046792768 0.302441066605 4059 3685\n",
        "1631\n",
        "collision!"
       ]
      },
      {
       "output_type": "stream",
       "stream": "stdout",
       "text": [
        " 0.492363904602 0.772394456605 4061 415\n",
        "1632\n",
        "collision!"
       ]
      },
      {
       "output_type": "stream",
       "stream": "stdout",
       "text": [
        " 0.386737942267 0.00736079406254 4065 381\n",
        "1633\n",
        "collision!"
       ]
      },
      {
       "output_type": "stream",
       "stream": "stdout",
       "text": [
        " 0.752948727914 0.00665712474285 4079 2575\n",
        "1634\n",
        "collision!"
       ]
      },
      {
       "output_type": "stream",
       "stream": "stdout",
       "text": [
        " 0.297038791752 0.0576223330758 4080 1266\n",
        "1635\n",
        "collision!"
       ]
      },
      {
       "output_type": "stream",
       "stream": "stdout",
       "text": [
        " 0.104494542932 0.742279289117 4092 2838\n",
        "1636\n",
        "collision!"
       ]
      },
      {
       "output_type": "stream",
       "stream": "stdout",
       "text": [
        " 0.699715716196 0.19370998008 4101 1043\n",
        "1637\n",
        "collision!"
       ]
      },
      {
       "output_type": "stream",
       "stream": "stdout",
       "text": [
        " 0.056375946378 0.684021600395 4106 1209\n",
        "1638\n",
        "collision!"
       ]
      },
      {
       "output_type": "stream",
       "stream": "stdout",
       "text": [
        " 0.521013730912 0.127173685993 4113 358\n",
        "1639\n",
        "collision!"
       ]
      },
      {
       "output_type": "stream",
       "stream": "stdout",
       "text": [
        " 0.941417029196 0.501800641571 4113 1716\n",
        "1640\n",
        "collision! 0.164137057559 0.645794177453 4113 2450\n",
        "1641\n",
        "collision!"
       ]
      },
      {
       "output_type": "stream",
       "stream": "stdout",
       "text": [
        " 0.263940042357 0.246315863624 4114 2596\n",
        "1642\n",
        "collision! 0.245659890918 0.68896873421 4114 3511\n",
        "1643\n",
        "collision!"
       ]
      },
      {
       "output_type": "stream",
       "stream": "stdout",
       "text": [
        " 0.352904209638 0.117498704696 4116 2127\n",
        "1644\n",
        "collision! 0.175914063445 0.490446541785 4116 2482\n",
        "1645\n",
        "collision!"
       ]
      },
      {
       "output_type": "stream",
       "stream": "stdout",
       "text": [
        " 0.949344446333 0.00637376805971 4117 755\n",
        "1646\n",
        "collision!"
       ]
      },
      {
       "output_type": "stream",
       "stream": "stdout",
       "text": [
        " 0.250069776702 0.904542611885 4122 28\n",
        "1647\n",
        "collision!"
       ]
      },
      {
       "output_type": "stream",
       "stream": "stdout",
       "text": [
        " 0.131581486197 0.511588124192 4122 2861\n",
        "1648\n",
        "collision! 0.187794376495 0.261750027784 4122 3421\n",
        "1649\n",
        "collision!"
       ]
      },
      {
       "output_type": "stream",
       "stream": "stdout",
       "text": [
        " 0.644709332028 0.136898797631 4130 3796\n",
        "1650\n",
        "collision!"
       ]
      },
      {
       "output_type": "stream",
       "stream": "stdout",
       "text": [
        " 0.533626691701 0.896502871148 4133 3835\n",
        "1651\n",
        "collision! 0.958894961325 0.26390509382 4133 4406\n",
        "1652\n",
        "collision!"
       ]
      },
      {
       "output_type": "stream",
       "stream": "stdout",
       "text": [
        " 0.555051471053 0.23259023423 4136 383\n",
        "1653\n",
        "collision! 0.668438860987 0.220903684843 4136 1118\n",
        "1654\n",
        "collision!"
       ]
      },
      {
       "output_type": "stream",
       "stream": "stdout",
       "text": [
        " 0.172790386905 0.421124207969 4137 3546\n",
        "1655\n",
        "collision!"
       ]
      },
      {
       "output_type": "stream",
       "stream": "stdout",
       "text": [
        " 0.917995800899 0.326471928688 4138 2838\n",
        "1656\n",
        "collision!"
       ]
      },
      {
       "output_type": "stream",
       "stream": "stdout",
       "text": [
        " 0.0170438904119 0.791479677233 4139 881\n",
        "1657\n",
        "collision!"
       ]
      },
      {
       "output_type": "stream",
       "stream": "stdout",
       "text": [
        " 0.851262637404 0.666073463147 4140 4270\n",
        "1658\n",
        "collision!"
       ]
      },
      {
       "output_type": "stream",
       "stream": "stdout",
       "text": [
        " 0.022064717105 0.482936030547 4146 4539\n",
        "1659\n",
        "collision!"
       ]
      },
      {
       "output_type": "stream",
       "stream": "stdout",
       "text": [
        " 0.718685079223 0.833140126509 4164 2509\n",
        "1660\n",
        "collision!"
       ]
      },
      {
       "output_type": "stream",
       "stream": "stdout",
       "text": [
        " 0.222799375684 0.336377732841 4165 805\n",
        "1661\n",
        "collision!"
       ]
      },
      {
       "output_type": "stream",
       "stream": "stdout",
       "text": [
        " 0.559591325622 0.013742311633 4165 4081\n",
        "1662\n",
        "collision!"
       ]
      },
      {
       "output_type": "stream",
       "stream": "stdout",
       "text": [
        " 0.99436980662 0.402882219471 4168 1068\n",
        "1663\n",
        "collision!"
       ]
      },
      {
       "output_type": "stream",
       "stream": "stdout",
       "text": [
        " 0.48069218422 0.71557207209 4175 29\n",
        "1664\n",
        "collision!"
       ]
      },
      {
       "output_type": "stream",
       "stream": "stdout",
       "text": [
        " 0.940053165015 0.212250951779 4176 3947\n",
        "1665\n",
        "collision!"
       ]
      },
      {
       "output_type": "stream",
       "stream": "stdout",
       "text": [
        " 0.458142165835 0.32192455568 4181 3036\n",
        "1666\n",
        "collision!"
       ]
      },
      {
       "output_type": "stream",
       "stream": "stdout",
       "text": [
        " 0.169411180855 0.620773432169 4189 1110\n",
        "1667\n",
        "collision!"
       ]
      },
      {
       "output_type": "stream",
       "stream": "stdout",
       "text": [
        " 0.273818094116 0.160311784802 4190 2784\n",
        "1668\n",
        "collision!"
       ]
      },
      {
       "output_type": "stream",
       "stream": "stdout",
       "text": [
        " 0.692982558775 0.00118175850334 4194 125\n",
        "1669\n",
        "collision!"
       ]
      },
      {
       "output_type": "stream",
       "stream": "stdout",
       "text": [
        " 0.540621244386 0.986494248283 4197 1121\n",
        "1670\n",
        "collision!"
       ]
      },
      {
       "output_type": "stream",
       "stream": "stdout",
       "text": [
        " 0.336156017035 0.264016950231 4200 736\n",
        "1671\n",
        "collision!"
       ]
      },
      {
       "output_type": "stream",
       "stream": "stdout",
       "text": [
        " 0.940292283916 0.744632612454 4211 834\n",
        "1672\n",
        "collision!"
       ]
      },
      {
       "output_type": "stream",
       "stream": "stdout",
       "text": [
        " 0.72613897141 0.407210710653 4223 74\n",
        "1673\n",
        "collision!"
       ]
      },
      {
       "output_type": "stream",
       "stream": "stdout",
       "text": [
        " 0.256705425725 0.137642995129 4223 2694\n",
        "1674\n",
        "collision!"
       ]
      },
      {
       "output_type": "stream",
       "stream": "stdout",
       "text": [
        " 0.0179104822499 0.411291241657 4230 3821\n",
        "1675\n",
        "collision!"
       ]
      },
      {
       "output_type": "stream",
       "stream": "stdout",
       "text": [
        " 0.727057370048 0.755800313777 4233 1109\n",
        "1676\n",
        "collision! 0.104450733139 0.525328421506 4233 1856\n",
        "1677\n",
        "collision!"
       ]
      },
      {
       "output_type": "stream",
       "stream": "stdout",
       "text": [
        " 0.605882713523 0.830644913938 4233 2139\n",
        "1678\n",
        "collision! 0.843498860771 0.688079017925 4233 2929\n",
        "1679\n",
        "collision!"
       ]
      },
      {
       "output_type": "stream",
       "stream": "stdout",
       "text": [
        " 0.0479963810395 0.510942910957 4234 2052\n",
        "1680\n",
        "collision!"
       ]
      },
      {
       "output_type": "stream",
       "stream": "stdout",
       "text": [
        " 0.477969889665 0.785999758861 4239 2402\n",
        "1681\n",
        "collision! 0.386901462245 0.80401197299 4239 2578\n",
        "1682\n",
        "collision!"
       ]
      },
      {
       "output_type": "stream",
       "stream": "stdout",
       "text": [
        " 0.0595613528851 0.8476553096 4240 1649\n",
        "1683\n",
        "collision! 0.204651907715 0.865050927983 4240 1679\n",
        "1684\n",
        "collision!"
       ]
      },
      {
       "output_type": "stream",
       "stream": "stdout",
       "text": [
        " 0.612709819708 0.246069530614 4240 4398\n",
        "1685\n",
        "collision!"
       ]
      },
      {
       "output_type": "stream",
       "stream": "stdout",
       "text": [
        " 0.662325336026 0.205843045561 4242 935\n",
        "1686\n",
        "collision!"
       ]
      },
      {
       "output_type": "stream",
       "stream": "stdout",
       "text": [
        " 0.705379596789 0.129190346673 4242 3301\n",
        "1687\n",
        "collision!"
       ]
      },
      {
       "output_type": "stream",
       "stream": "stdout",
       "text": [
        " 0.375248422404 0.964424716828 4244 2668\n",
        "1688\n",
        "collision!"
       ]
      },
      {
       "output_type": "stream",
       "stream": "stdout",
       "text": [
        " 0.929276991523 0.0266723774118 4247 2575\n",
        "1689\n",
        "collision!"
       ]
      },
      {
       "output_type": "stream",
       "stream": "stdout",
       "text": [
        " 0.479281925555 0.737822212597 4250 3037\n",
        "1690\n",
        "collision!"
       ]
      },
      {
       "output_type": "stream",
       "stream": "stdout",
       "text": [
        " 0.774809703218 0.958058095108 4252 731\n",
        "1691\n",
        "collision!"
       ]
      },
      {
       "output_type": "stream",
       "stream": "stdout",
       "text": [
        " 0.0752209118574 0.0955473980879 4253 1244\n",
        "1692\n",
        "collision!"
       ]
      },
      {
       "output_type": "stream",
       "stream": "stdout",
       "text": [
        " 0.129348498248 0.753886690388 4254 20\n",
        "1693\n",
        "collision!"
       ]
      },
      {
       "output_type": "stream",
       "stream": "stdout",
       "text": [
        " 0.901306259654 0.737026835673 4255 3815\n",
        "1694\n",
        "collision! 0.40619529009 0.402903877772 4256 61\n",
        "1695\n",
        "collision!"
       ]
      },
      {
       "output_type": "stream",
       "stream": "stdout",
       "text": [
        " 0.735293011535 0.237967837338 4256 2634\n",
        "1696\n",
        "collision!"
       ]
      },
      {
       "output_type": "stream",
       "stream": "stdout",
       "text": [
        " 0.951715631439 0.581922755854 4260 3834\n",
        "1697\n",
        "collision!"
       ]
      },
      {
       "output_type": "stream",
       "stream": "stdout",
       "text": [
        " 0.365215445002 0.736074885866 4266 3489\n",
        "1698\n",
        "collision!"
       ]
      },
      {
       "output_type": "stream",
       "stream": "stdout",
       "text": [
        " 0.861651505224 0.664926681546 4268 556\n",
        "1699\n",
        "collision!"
       ]
      },
      {
       "output_type": "stream",
       "stream": "stdout",
       "text": [
        " 0.251624391437 0.565095584174 4275 830\n",
        "1700\n",
        "collision!"
       ]
      },
      {
       "output_type": "stream",
       "stream": "stdout",
       "text": [
        " 0.829678308439 0.0282984568178 4276 1663\n",
        "1701\n",
        "collision!"
       ]
      },
      {
       "output_type": "stream",
       "stream": "stdout",
       "text": [
        " 0.653949415637 0.027530418441 4282 2694\n",
        "1702\n",
        "collision!"
       ]
      },
      {
       "output_type": "stream",
       "stream": "stdout",
       "text": [
        " 0.911697811387 0.42347089171 4283 755\n",
        "1703\n",
        "collision!"
       ]
      },
      {
       "output_type": "stream",
       "stream": "stdout",
       "text": [
        " 0.863552401131 0.477008902989 4288 1805\n",
        "1704\n",
        "collision!"
       ]
      },
      {
       "output_type": "stream",
       "stream": "stdout",
       "text": [
        " 0.383601450907 0.403448230273 4289 346\n",
        "1705\n",
        "collision!"
       ]
      },
      {
       "output_type": "stream",
       "stream": "stdout",
       "text": [
        " 0.0056084551411 0.677645354637 4289 1303\n",
        "1706\n",
        "collision!"
       ]
      },
      {
       "output_type": "stream",
       "stream": "stdout",
       "text": [
        " 0.504823189444 0.0772749401595 4290 1366\n",
        "1707\n",
        "collision!"
       ]
      },
      {
       "output_type": "stream",
       "stream": "stdout",
       "text": [
        " 0.726584939455 0.133003984185 4290 3304\n",
        "1708\n",
        "collision! 0.511743478076 0.179750585976 4290 3845\n",
        "1709\n",
        "collision!"
       ]
      },
      {
       "output_type": "stream",
       "stream": "stdout",
       "text": [
        " 0.75072121933 0.856621429964 4298 2321\n",
        "1710\n",
        "collision!"
       ]
      },
      {
       "output_type": "stream",
       "stream": "stdout",
       "text": [
        " 0.0605493570138 0.933545100268 4299 1137\n",
        "1711\n",
        "collision!"
       ]
      },
      {
       "output_type": "stream",
       "stream": "stdout",
       "text": [
        " 0.927339840432 0.777549158115 4303 858\n",
        "1712\n",
        "collision! 0.179106167763 0.748088730088 4303 1201\n",
        "1713\n",
        "collision!"
       ]
      },
      {
       "output_type": "stream",
       "stream": "stdout",
       "text": [
        " 0.219085123616 0.828598755919 4308 1103\n",
        "1714\n",
        "collision!"
       ]
      },
      {
       "output_type": "stream",
       "stream": "stdout",
       "text": [
        " 0.845300429783 0.494045838281 4316 3550\n",
        "1715\n",
        "collision!"
       ]
      },
      {
       "output_type": "stream",
       "stream": "stdout",
       "text": [
        " 0.131829616564 0.09031824454 4317 1103\n",
        "1716\n",
        "collision!"
       ]
      },
      {
       "output_type": "stream",
       "stream": "stdout",
       "text": [
        " 0.701107114199 0.803629565441 4321 1316\n",
        "1717\n",
        "collision! 0.374059143197 0.471906229927 4321 1370\n",
        "1718\n",
        "collision! 0.71363499679 0.654420626862 4321 1590\n",
        "1719\n",
        "collision! 0.52873458946 0.603998853747 4321 1873\n",
        "1720\n",
        "collision! 0.743374041831 0.575956728505 4321 1923\n",
        "1721\n",
        "collision!"
       ]
      },
      {
       "output_type": "stream",
       "stream": "stdout",
       "text": [
        " 0.659873487712 0.202169268699 4322 736\n",
        "1722\n",
        "collision!"
       ]
      },
      {
       "output_type": "stream",
       "stream": "stdout",
       "text": [
        " 0.909820483871 0.820825997096 4322 3919\n",
        "1723\n",
        "collision!"
       ]
      },
      {
       "output_type": "stream",
       "stream": "stdout",
       "text": [
        " 0.826515336344 0.891793059896 4324 3801\n",
        "1724\n",
        "collision!"
       ]
      },
      {
       "output_type": "stream",
       "stream": "stdout",
       "text": [
        " 0.855874953379 0.102827553333 4330 870\n",
        "1725\n",
        "collision!"
       ]
      },
      {
       "output_type": "stream",
       "stream": "stdout",
       "text": [
        " 0.429046245774 0.464218201298 4332 1409\n",
        "1726\n",
        "collision!"
       ]
      },
      {
       "output_type": "stream",
       "stream": "stdout",
       "text": [
        " 0.543350779141 0.610790740353 4340 698\n",
        "1727\n",
        "collision!"
       ]
      },
      {
       "output_type": "stream",
       "stream": "stdout",
       "text": [
        " 0.498644443825 0.791282657672 4343 881\n",
        "1728\n",
        "collision!"
       ]
      },
      {
       "output_type": "stream",
       "stream": "stdout",
       "text": [
        " 0.400378901848 0.732571649371 4345 722\n",
        "1729\n",
        "collision!"
       ]
      },
      {
       "output_type": "stream",
       "stream": "stdout",
       "text": [
        " 0.268719688437 0.847925766779 4348 569\n",
        "1730\n",
        "collision!"
       ]
      },
      {
       "output_type": "stream",
       "stream": "stdout",
       "text": [
        " 0.0921797617819 0.35545414481 4350 1305\n",
        "1731\n",
        "collision!"
       ]
      },
      {
       "output_type": "stream",
       "stream": "stdout",
       "text": [
        " 0.207255852794 0.731096110178 4351 1663\n",
        "1732\n",
        "collision!"
       ]
      },
      {
       "output_type": "stream",
       "stream": "stdout",
       "text": [
        " 0.0543207193772 0.0623439474922 4357 167\n",
        "1733\n",
        "collision! 0.0257174158804 0.141445403347 4357 194\n",
        "1734\n",
        "collision! 0.318032160334 0.316015235157 4357 841\n",
        "1735\n",
        "collision! 0.53899019763 0.129551568655 4357 934\n",
        "1736\n",
        "collision!"
       ]
      },
      {
       "output_type": "stream",
       "stream": "stdout",
       "text": [
        " 0.0493326554223 0.263326852551 4357 1260\n",
        "1737\n",
        "collision! 0.768997399571 0.00436950609795 4357 1578\n",
        "1738\n",
        "collision! 0.242391492948 0.568328865436 4357 1685\n",
        "1739\n",
        "collision!"
       ]
      },
      {
       "output_type": "stream",
       "stream": "stdout",
       "text": [
        " 0.576694275273 0.473355670156 4357 2679\n",
        "1740\n",
        "collision!"
       ]
      },
      {
       "output_type": "stream",
       "stream": "stdout",
       "text": [
        " 0.0461375577541 0.0293992408005 4358 336\n",
        "1741\n",
        "collision!"
       ]
      },
      {
       "output_type": "stream",
       "stream": "stdout",
       "text": [
        " 0.928449294235 0.42662258667 4364 1095\n",
        "1742\n",
        "collision!"
       ]
      },
      {
       "output_type": "stream",
       "stream": "stdout",
       "text": [
        " 0.65247679835 0.0480042561664 4365 3745\n",
        "1743\n",
        "collision!"
       ]
      },
      {
       "output_type": "stream",
       "stream": "stdout",
       "text": [
        " 0.886101852805 0.0561787647094 4371 3835\n",
        "1744\n",
        "collision!"
       ]
      },
      {
       "output_type": "stream",
       "stream": "stdout",
       "text": [
        " 0.332759059538 0.640424999387 4379 374\n",
        "1745\n",
        "collision!"
       ]
      },
      {
       "output_type": "stream",
       "stream": "stdout",
       "text": [
        " 0.275038717131 0.840265811827 4379 2224\n",
        "1746\n",
        "collision!"
       ]
      },
      {
       "output_type": "stream",
       "stream": "stdout",
       "text": [
        " 0.282416959253 0.98995798021 4380 3578\n",
        "1747\n",
        "collision!"
       ]
      },
      {
       "output_type": "stream",
       "stream": "stdout",
       "text": [
        " 0.290567372277 0.288281262175 4381 1779\n",
        "1748\n",
        "collision!"
       ]
      },
      {
       "output_type": "stream",
       "stream": "stdout",
       "text": [
        " 0.0938760221925 0.701181471148 4383 3741\n",
        "1749\n",
        "collision!"
       ]
      },
      {
       "output_type": "stream",
       "stream": "stdout",
       "text": [
        " 0.863178370926 0.75210229592 4385 2589\n",
        "1750\n",
        "collision!"
       ]
      },
      {
       "output_type": "stream",
       "stream": "stdout",
       "text": [
        " 0.0372069555601 0.980896612526 4393 3449\n",
        "1751\n",
        "collision!"
       ]
      },
      {
       "output_type": "stream",
       "stream": "stdout",
       "text": [
        " 0.591808479213 0.246374119446 4396 1779\n",
        "1752\n",
        "collision!"
       ]
      },
      {
       "output_type": "stream",
       "stream": "stdout",
       "text": [
        " 0.461347074848 0.255693359085 4402 72\n",
        "1753\n",
        "collision!"
       ]
      },
      {
       "output_type": "stream",
       "stream": "stdout",
       "text": [
        " 0.756690116104 0.442648425309 4407 31\n",
        "1754\n",
        "collision!"
       ]
      },
      {
       "output_type": "stream",
       "stream": "stdout",
       "text": [
        " 0.89432306489 0.654132661087 4413 591\n",
        "1755\n",
        "collision!"
       ]
      },
      {
       "output_type": "stream",
       "stream": "stdout",
       "text": [
        " 0.550417569059 0.903961086014 4415 4515\n",
        "1756\n",
        "collision!"
       ]
      },
      {
       "output_type": "stream",
       "stream": "stdout",
       "text": [
        " 0.6996955169 0.609792825015 4417 1577\n",
        "1757\n",
        "collision!"
       ]
      },
      {
       "output_type": "stream",
       "stream": "stdout",
       "text": [
        " 0.908799720854 0.244205995394 4420 114\n",
        "1758\n",
        "collision! 0.0815352767708 0.0843683871442 4420 349\n",
        "1759\n",
        "collision!"
       ]
      },
      {
       "output_type": "stream",
       "stream": "stdout",
       "text": [
        " 0.681667100197 0.722582972309 4420 1737\n",
        "1760\n",
        "collision! 0.465160893166 0.454744056524 4420 2357\n",
        "1761\n",
        "collision! 0.452360191425 0.169392095871 4420 2594\n",
        "1762\n",
        "collision!"
       ]
      },
      {
       "output_type": "stream",
       "stream": "stdout",
       "text": [
        " 0.944044085077 0.997089687504 4420 2689\n",
        "1763\n",
        "collision! 0.540346360133 0.425628146223 4420 3096\n",
        "1764\n",
        "collision!"
       ]
      },
      {
       "output_type": "stream",
       "stream": "stdout",
       "text": [
        " 0.588504390106 0.676063279871 4420 3841\n",
        "1765\n",
        "collision! 0.549205739834 0.232951588695 4420 4236\n",
        "1766\n",
        "collision!"
       ]
      },
      {
       "output_type": "stream",
       "stream": "stdout",
       "text": [
        " 0.101378410018 0.835187556674 4423 3883\n",
        "1767\n",
        "collision!"
       ]
      },
      {
       "output_type": "stream",
       "stream": "stdout",
       "text": [
        " 0.428537515061 0.671054947741 4425 931\n",
        "1768\n",
        "collision!"
       ]
      },
      {
       "output_type": "stream",
       "stream": "stdout",
       "text": [
        " 0.582396718252 0.461116896993 4425 2181\n",
        "1769\n",
        "collision! 0.22795040708 0.168969189089 4425 2690\n",
        "1770\n",
        "collision!"
       ]
      },
      {
       "output_type": "stream",
       "stream": "stdout",
       "text": [
        " 0.313610001336 0.487601448346 4427 342\n",
        "1771\n",
        "collision! 0.682624138536 0.765078164423 4427 459\n",
        "1772\n",
        "collision!"
       ]
      },
      {
       "output_type": "stream",
       "stream": "stdout",
       "text": [
        " 0.0166380507815 0.28187853354 4427 1810\n",
        "1773\n",
        "collision!"
       ]
      },
      {
       "output_type": "stream",
       "stream": "stdout",
       "text": [
        " 0.821721388415 0.36982783372 4427 4195\n",
        "1774\n",
        "collision!"
       ]
      },
      {
       "output_type": "stream",
       "stream": "stdout",
       "text": [
        " 0.209598390932 0.791555510404 4428 4162\n",
        "1775\n",
        "collision! 0.595922654599 0.607773208533 4429 361\n",
        "1776\n",
        "collision!"
       ]
      },
      {
       "output_type": "stream",
       "stream": "stdout",
       "text": [
        " 0.618018843955 0.121881127328 4433 2964\n",
        "1777\n",
        "collision!"
       ]
      },
      {
       "output_type": "stream",
       "stream": "stdout",
       "text": [
        " 0.0509128960454 0.258134687246 4433 4287\n",
        "1778\n",
        "collision!"
       ]
      },
      {
       "output_type": "stream",
       "stream": "stdout",
       "text": [
        " 0.471829945671 0.0576319026269 4439 3080\n",
        "1779\n",
        "collision!"
       ]
      },
      {
       "output_type": "stream",
       "stream": "stdout",
       "text": [
        " 0.867683395117 0.412337146171 4441 1290\n",
        "1780\n",
        "collision!"
       ]
      },
      {
       "output_type": "stream",
       "stream": "stdout",
       "text": [
        " 0.179758067234 0.998926439875 4441 2613\n",
        "1781\n",
        "collision! 0.985157076584 0.136939066787 4441 3349\n",
        "1782\n",
        "collision!"
       ]
      },
      {
       "output_type": "stream",
       "stream": "stdout",
       "text": [
        " 0.650404473339 0.868908758805 4443 2582\n",
        "1783\n",
        "collision!"
       ]
      },
      {
       "output_type": "stream",
       "stream": "stdout",
       "text": [
        " 0.757269808001 0.513911430154 4444 193\n",
        "1784\n",
        "collision! 0.887497455769 0.70135053254 4444 335\n",
        "1785\n",
        "collision!"
       ]
      },
      {
       "output_type": "stream",
       "stream": "stdout",
       "text": [
        " 0.0896471418758 0.456998950704 4444 1662\n",
        "1786\n",
        "collision!"
       ]
      },
      {
       "output_type": "stream",
       "stream": "stdout",
       "text": [
        " 0.851933262308 0.171099592078 4444 4478\n",
        "1787\n",
        "collision!"
       ]
      },
      {
       "output_type": "stream",
       "stream": "stdout",
       "text": [
        " 0.681094296311 0.75623989089 4449 3788\n",
        "1788\n",
        "collision!"
       ]
      },
      {
       "output_type": "stream",
       "stream": "stdout",
       "text": [
        " 0.606904282594 0.547646327513 4454 3765\n",
        "1789\n",
        "collision!"
       ]
      },
      {
       "output_type": "stream",
       "stream": "stdout",
       "text": [
        " 0.847719337812 0.751538738434 4457 1250\n",
        "1790\n",
        "collision!"
       ]
      },
      {
       "output_type": "stream",
       "stream": "stdout",
       "text": [
        " 0.042481853551 0.380800201374 4458 1201\n",
        "1791\n",
        "collision!"
       ]
      },
      {
       "output_type": "stream",
       "stream": "stdout",
       "text": [
        " 0.221263998066 0.239777411758 4460 4020\n",
        "1792\n",
        "collision!"
       ]
      },
      {
       "output_type": "stream",
       "stream": "stdout",
       "text": [
        " 0.328833629182 0.776325447866 4471 1572\n",
        "1793\n",
        "collision! 0.688059114353 0.14781437208 4471 2178\n",
        "1794\n",
        "collision!"
       ]
      },
      {
       "output_type": "stream",
       "stream": "stdout",
       "text": [
        " 0.141945198721 0.238533793276 4473 1726\n",
        "1795\n",
        "collision! 0.162148866744 0.320849974838 4473 1866\n",
        "1796\n",
        "collision!"
       ]
      },
      {
       "output_type": "stream",
       "stream": "stdout",
       "text": [
        " 0.381200681098 0.166152194724 4477 2784\n",
        "1797\n",
        "collision!"
       ]
      },
      {
       "output_type": "stream",
       "stream": "stdout",
       "text": [
        " 0.912469846745 0.38745849668 4479 2012\n",
        "1798\n",
        "collision! 0.832314483407 0.0914140047826 4479 2727\n",
        "1799\n",
        "collision!"
       ]
      },
      {
       "output_type": "stream",
       "stream": "stdout",
       "text": [
        " 0.095057391988 0.0464198103884 4483 1043\n",
        "1800\n",
        "collision!"
       ]
      },
      {
       "output_type": "stream",
       "stream": "stdout",
       "text": [
        " 0.0543575152238 0.873454728065 4499 102\n",
        "1801\n",
        "collision!"
       ]
      },
      {
       "output_type": "stream",
       "stream": "stdout",
       "text": [
        " 0.32444829507 0.0624997121885 4499 1409\n",
        "1802\n",
        "collision!"
       ]
      },
      {
       "output_type": "stream",
       "stream": "stdout",
       "text": [
        " 0.0258298397244 0.9316628136 4499 2941\n",
        "1803\n",
        "collision!"
       ]
      },
      {
       "output_type": "stream",
       "stream": "stdout",
       "text": [
        " 0.162101203787 0.516447564934 4501 2402\n",
        "1804\n",
        "collision!"
       ]
      },
      {
       "output_type": "stream",
       "stream": "stdout",
       "text": [
        " 0.841842718734 0.734462933022 4505 1850\n",
        "1805\n",
        "collision!"
       ]
      },
      {
       "output_type": "stream",
       "stream": "stdout",
       "text": [
        " 0.842166594301 0.837459038187 4506 3242\n",
        "1806\n",
        "collision!"
       ]
      },
      {
       "output_type": "stream",
       "stream": "stdout",
       "text": [
        " 0.152829746431 0.89809631913 4507 2433\n",
        "1807\n",
        "collision!"
       ]
      },
      {
       "output_type": "stream",
       "stream": "stdout",
       "text": [
        " 0.530927324169 0.460568501403 4510 1190\n",
        "1808\n",
        "collision! 0.110394969084 0.670025160091 4510 1761\n",
        "1809\n",
        "collision!"
       ]
      },
      {
       "output_type": "stream",
       "stream": "stdout",
       "text": [
        " 0.236163821891 0.786643600995 4510 2609\n",
        "1810\n",
        "collision!"
       ]
      },
      {
       "output_type": "stream",
       "stream": "stdout",
       "text": [
        " 0.384464102661 0.399922765856 4511 2052\n",
        "1811\n",
        "collision!"
       ]
      },
      {
       "output_type": "stream",
       "stream": "stdout",
       "text": [
        " 0.153886161887 0.984634962825 4517 482\n",
        "1812\n",
        "collision!"
       ]
      },
      {
       "output_type": "stream",
       "stream": "stdout",
       "text": [
        " 0.581447316042 0.142138597246 4517 1969\n",
        "1813\n",
        "collision!"
       ]
      },
      {
       "output_type": "stream",
       "stream": "stdout",
       "text": [
        " 0.260979659015 0.212311994779 4533 2668\n",
        "1814\n",
        "collision!"
       ]
      },
      {
       "output_type": "stream",
       "stream": "stdout",
       "text": [
        " 0.686860007462 0.147165605314 4537 2843\n",
        "1815\n",
        "collision!"
       ]
      },
      {
       "output_type": "stream",
       "stream": "stdout",
       "text": [
        " 0.0296917548953 0.70157899551 4540 1460\n",
        "1816\n",
        "collision!"
       ]
      },
      {
       "output_type": "stream",
       "stream": "stdout",
       "text": [
        " 0.998908383946 0.664452731777 4540 2433\n",
        "1817\n",
        "n_collisions"
       ]
      },
      {
       "output_type": "stream",
       "stream": "stdout",
       "text": [
        " 1817\n"
       ]
      }
     ],
     "prompt_number": 16
    },
    {
     "cell_type": "code",
     "collapsed": false,
     "input": [
      "#output ascii file for Beth\n",
      "fileout = open(\"allocation_output.dat\", \"w\")\n",
      "for i in range(n_gals_reduced):\n",
      "    fileout.write(\"%f %f %f %d %d\\n\"%(object_ra[i], object_dec[i], object_redshift[i], object_type[i], n_times_observed[i]))\n",
      "fileout.close()"
     ],
     "language": "python",
     "metadata": {},
     "outputs": [],
     "prompt_number": 143
    },
    {
     "cell_type": "code",
     "collapsed": false,
     "input": [
      "a = plt.hist(n_times_observed, bins=np.linspace(0,10,25))\n",
      "print a[0][a[0]>0]"
     ],
     "language": "python",
     "metadata": {},
     "outputs": [
      {
       "output_type": "stream",
       "stream": "stdout",
       "text": [
        "[10447712 32197048  4308647    71243   181611   478776]\n"
       ]
      },
      {
       "metadata": {},
       "output_type": "display_data",
       "png": "[encoded data removed]",
       "text": [
        "<matplotlib.figure.Figure at 0x12699c90>"
       ]
      }
     ],
     "prompt_number": 144
    },
    {
     "cell_type": "code",
     "collapsed": false,
     "input": [],
     "language": "python",
     "metadata": {},
     "outputs": []
    }
   ],
   "metadata": {}
  }
 ]
}