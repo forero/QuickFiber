{
 "metadata": {
  "name": ""
 },
 "nbformat": 3,
 "nbformat_minor": 0,
 "worksheets": [
  {
   "cells": [
    {
     "cell_type": "code",
     "collapsed": false,
     "input": [
      "%matplotlib inline\n",
      "%load_ext autoreload\n",
      "%autoreload 2"
     ],
     "language": "python",
     "metadata": {},
     "outputs": [
      {
       "output_type": "stream",
       "stream": "stdout",
       "text": [
        "The autoreload extension is already loaded. To reload it, use:\n",
        "  %reload_ext autoreload\n"
       ]
      }
     ],
     "prompt_number": 41
    },
    {
     "cell_type": "code",
     "collapsed": false,
     "input": [
      "import FiberAllocation as FA\n",
      "import numpy as np"
     ],
     "language": "python",
     "metadata": {},
     "outputs": [],
     "prompt_number": 42
    },
    {
     "cell_type": "code",
     "collapsed": false,
     "input": [
      "def load_available_galaxies(filename):\n",
      "    f=open(filename, \"r\")\n",
      "    l = f.readlines()\n",
      "    f.close()\n",
      "    d = []\n",
      "    for line in l:\n",
      "        nums = line.split()\n",
      "        a = np.empty((0), dtype='int')\n",
      "        for n in nums:\n",
      "            a = np.append(a, int(n))\n",
      "        #print a\n",
      "        d.append(a)\n",
      "    return d"
     ],
     "language": "python",
     "metadata": {},
     "outputs": [],
     "prompt_number": 43
    },
    {
     "cell_type": "code",
     "collapsed": false,
     "input": [
      "n_tiles  = 10\n",
      "survey = []\n",
      "for tile_i in range(n_tiles):\n",
      "    filename = \"tile_%d_available_galaxies.dat\"%(tile_i)\n",
      "    tile = load_available_galaxies(filename)\n",
      "    survey.append(tile)"
     ],
     "language": "python",
     "metadata": {},
     "outputs": [],
     "prompt_number": 44
    },
    {
     "cell_type": "code",
     "collapsed": false,
     "input": [
      "n_fibers = len(survey[0])\n",
      "gal_ID_list = np.empty((0), dtype='int')\n",
      "for i in range(n_tiles):\n",
      "    print i, np.size(gal_ID_list)\n",
      "    for j in range(n_fibers):\n",
      "        gal_ID_list = np.append(gal_ID_list, survey[i][j])\n",
      "        gal_ID_list = np.unique(gal_ID_list)"
     ],
     "language": "python",
     "metadata": {},
     "outputs": [
      {
       "output_type": "stream",
       "stream": "stdout",
       "text": [
        "0 0\n",
        "1"
       ]
      },
      {
       "output_type": "stream",
       "stream": "stdout",
       "text": [
        " 27827\n",
        "2"
       ]
      },
      {
       "output_type": "stream",
       "stream": "stdout",
       "text": [
        " 50687\n",
        "3"
       ]
      },
      {
       "output_type": "stream",
       "stream": "stdout",
       "text": [
        " 73765\n",
        "4"
       ]
      },
      {
       "output_type": "stream",
       "stream": "stdout",
       "text": [
        " 95125\n",
        "5"
       ]
      },
      {
       "output_type": "stream",
       "stream": "stdout",
       "text": [
        " 117492\n",
        "6"
       ]
      },
      {
       "output_type": "stream",
       "stream": "stdout",
       "text": [
        " 140872\n",
        "7"
       ]
      },
      {
       "output_type": "stream",
       "stream": "stdout",
       "text": [
        " 161614\n",
        "8"
       ]
      },
      {
       "output_type": "stream",
       "stream": "stdout",
       "text": [
        " 184689\n",
        "9"
       ]
      },
      {
       "output_type": "stream",
       "stream": "stdout",
       "text": [
        " 206437\n"
       ]
      }
     ],
     "prompt_number": 45
    },
    {
     "cell_type": "code",
     "collapsed": false,
     "input": [
      "#now I generate new IDs for the galaxies. I do it to have something going from 0 up to the number of galaxies-1.\n",
      "#this is to avoid the IDs on the other of millions when I am actually using 10 times less galaxies.\n",
      "\n",
      "max_ID = np.amax(gal_ID_list)\n",
      "fake_gal_ID = np.zeros(max_ID+1,dtype='int') - 1\n",
      "\n",
      "n_gals_reduced = np.size(gal_ID_list)\n",
      "my_range = np.arange(np.size(gal_ID_list))\n",
      "fake_gal_ID[gal_ID_list] = my_range # fake ID is the position of the corresponding index in gal_ID_list"
     ],
     "language": "python",
     "metadata": {},
     "outputs": [],
     "prompt_number": 46
    },
    {
     "cell_type": "code",
     "collapsed": false,
     "input": [
      "#this makes that all the indexes in the list of available galaxies go from 0 to np.size(gal_ID_list)\n",
      "for i in range(n_tiles):\n",
      "    for j in range(n_fibers):\n",
      "        survey[i][j][3:] = fake_gal_ID[survey[i][j][3:]]"
     ],
     "language": "python",
     "metadata": {},
     "outputs": [],
     "prompt_number": 47
    },
    {
     "cell_type": "code",
     "collapsed": false,
     "input": [
      "print survey[0][-1]"
     ],
     "language": "python",
     "metadata": {},
     "outputs": [
      {
       "output_type": "stream",
       "stream": "stdout",
       "text": [
        "[     0   4999      4  45208  58895  95602 148747]\n"
       ]
      }
     ],
     "prompt_number": 49
    },
    {
     "cell_type": "code",
     "collapsed": false,
     "input": [
      "#this is the real allocation and now I start to do some bookkeeping\n",
      "n_times_observed = np.zeros(n_gals_reduced)\n",
      "survey_observed = []\n",
      "\n",
      "for i_tile in range(n_tiles):\n",
      "    tile_observed = []\n",
      "    observed_in_this_tile = np.zeros(n_gals_reduced) #bookeeping\n",
      "    \n",
      "    fiber_list = np.arange(n_fibers) \n",
      "    np.random.shuffle(fiber_list) # randomize the selection of fibers\n",
      "    for i_fiber in fiber_list:\n",
      "        n_available  = survey[i_tile][i_fiber][2]\n",
      "        item = -1 #this indicates that nothing has been allocated\n",
      "        \n",
      "        if(n_available>0): \n",
      "            list_available = survey[i_tile][i_fiber][3:]\n",
      "            np.random.shuffle(list_available) # randomize the list of galaxies\n",
      "            \n",
      "            for item in list_available:\n",
      "                found = 0\n",
      "                if((observed_in_this_tile[item]==0)&(found==0)):\n",
      "                    n_times_observed[item] = n_times_observed[item]\n",
      "                    found = 1\n",
      "                    \n",
      "        tile_observed.append(item)\n",
      "                    \n",
      "    survey_observed.append(tile_observed)"
     ],
     "language": "python",
     "metadata": {},
     "outputs": [],
     "prompt_number": 78
    },
    {
     "cell_type": "code",
     "collapsed": false,
     "input": [
      "for i in range(n_tiles):\n",
      "    print np.size(np.sort(survey_observed[i]))"
     ],
     "language": "python",
     "metadata": {},
     "outputs": [
      {
       "output_type": "stream",
       "stream": "stdout",
       "text": [
        "5000\n",
        "5000\n",
        "5000\n",
        "5000\n",
        "5000\n",
        "5000\n",
        "5000\n",
        "5000\n",
        "5000\n",
        "5000\n"
       ]
      }
     ],
     "prompt_number": 80
    },
    {
     "cell_type": "code",
     "collapsed": false,
     "input": [],
     "language": "python",
     "metadata": {},
     "outputs": []
    }
   ],
   "metadata": {}
  }
 ]
}