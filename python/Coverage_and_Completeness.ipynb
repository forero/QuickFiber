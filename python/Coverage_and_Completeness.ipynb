{
 "metadata": {
  "name": ""
 },
 "nbformat": 3,
 "nbformat_minor": 0,
 "worksheets": [
  {
   "cells": [
    {
     "cell_type": "code",
     "collapsed": false,
     "input": [
      "%pylab inline"
     ],
     "language": "python",
     "metadata": {},
     "outputs": [
      {
       "output_type": "stream",
       "stream": "stdout",
       "text": [
        "Populating the interactive namespace from numpy and matplotlib\n"
       ]
      }
     ],
     "prompt_number": 1
    },
    {
     "cell_type": "markdown",
     "metadata": {},
     "source": [
      "In this notebook I make different tests to estimate the degree of completeness of the fiber allocation algorithm.\n",
      "The main objective for this effort is to find a way to weight random catalogs used in the correlation function estimation"
     ]
    },
    {
     "cell_type": "heading",
     "level": 1,
     "metadata": {},
     "source": [
      "Sky Coverage"
     ]
    },
    {
     "cell_type": "markdown",
     "metadata": {},
     "source": [
      "Here I use the tiling and fiber information to find the number of times that a region of the sky can be reached by a fiber.\n",
      "The minimum unit to define the coverage is a Helpix pixel defined for some $N_{side}$ parameter."
     ]
    },
    {
     "cell_type": "code",
     "collapsed": false,
     "input": [
      "#load the tiling"
     ],
     "language": "python",
     "metadata": {},
     "outputs": []
    }
   ],
   "metadata": {}
  }
 ]
}